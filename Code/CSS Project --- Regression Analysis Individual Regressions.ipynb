{
 "cells": [
  {
   "cell_type": "code",
   "execution_count": 38,
   "id": "080e744c",
   "metadata": {},
   "outputs": [
    {
     "data": {
      "text/html": [
       "'C:/Users/momaleki/Desktop/Project'"
      ],
      "text/latex": [
       "'C:/Users/momaleki/Desktop/Project'"
      ],
      "text/markdown": [
       "'C:/Users/momaleki/Desktop/Project'"
      ],
      "text/plain": [
       "[1] \"C:/Users/momaleki/Desktop/Project\""
      ]
     },
     "metadata": {},
     "output_type": "display_data"
    },
    {
     "data": {
      "text/html": [
       "<table>\n",
       "<thead><tr><th scope=col>NEVER</th><th scope=col>RARELY</th><th scope=col>SOMETIMES</th><th scope=col>FREQUENTLY</th><th scope=col>ALWAYS</th><th scope=col>FIPS</th><th scope=col>Combined</th><th scope=col>Percent_Less_HS</th><th scope=col>Percent_HS</th><th scope=col>Percent_Less_College</th><th scope=col>...</th><th scope=col>COVID_Confirmed</th><th scope=col>COVID_Death</th><th scope=col>Percent_Ess_Workers</th><th scope=col>Hospital_AllBeds</th><th scope=col>Hospital_Occ_rate</th><th scope=col>COVID_TestCap</th><th scope=col>COVID_Testing</th><th scope=col>COVID_Clinic</th><th scope=col>Vaccine</th><th scope=col>Crime</th></tr></thead>\n",
       "<tbody>\n",
       "\t<tr><td>0.026    </td><td>0.006    </td><td>0.106    </td><td>0.051    </td><td>0.811    </td><td>10001    </td><td>4.615    </td><td>0.126    </td><td>0.329    </td><td>0.308    </td><td>...      </td><td>12.73077 </td><td>0.0000000</td><td>0.5107970</td><td>562      </td><td>0.8000000</td><td>327.2231 </td><td> 578.2308</td><td>1        </td><td>0.1305243</td><td>534.1880 </td></tr>\n",
       "\t<tr><td>0.026    </td><td>0.006    </td><td>0.106    </td><td>0.051    </td><td>0.811    </td><td>10001    </td><td>4.615    </td><td>0.126    </td><td>0.329    </td><td>0.308    </td><td>...      </td><td>12.73077 </td><td>0.0000000</td><td>0.5107970</td><td>562      </td><td>0.8000000</td><td>327.2231 </td><td> 578.2308</td><td>1        </td><td>0.1305243</td><td>534.1880 </td></tr>\n",
       "\t<tr><td>0.026    </td><td>0.006    </td><td>0.106    </td><td>0.051    </td><td>0.811    </td><td>10001    </td><td>4.615    </td><td>0.126    </td><td>0.329    </td><td>0.308    </td><td>...      </td><td>12.73077 </td><td>0.0000000</td><td>0.5107970</td><td>203      </td><td>0.4783451</td><td>327.2231 </td><td> 578.2308</td><td>1        </td><td>0.1305243</td><td>534.1880 </td></tr>\n",
       "\t<tr><td>0.026    </td><td>0.006    </td><td>0.106    </td><td>0.051    </td><td>0.811    </td><td>10001    </td><td>4.615    </td><td>0.126    </td><td>0.329    </td><td>0.308    </td><td>...      </td><td>12.73077 </td><td>0.0000000</td><td>0.5107970</td><td>203      </td><td>0.4783451</td><td>327.2231 </td><td> 578.2308</td><td>1        </td><td>0.1305243</td><td>534.1880 </td></tr>\n",
       "\t<tr><td>0.027    </td><td>0.013    </td><td>0.041    </td><td>0.133    </td><td>0.786    </td><td>10003    </td><td>4.638    </td><td>0.084    </td><td>0.308    </td><td>0.246    </td><td>...      </td><td>59.81538 </td><td>0.5076923</td><td>0.4013385</td><td>315      </td><td>0.2345205</td><td>358.1154 </td><td>1991.7308</td><td>1        </td><td>0.1589297</td><td>581.7888 </td></tr>\n",
       "\t<tr><td>0.027    </td><td>0.013    </td><td>0.041    </td><td>0.133    </td><td>0.786    </td><td>10003    </td><td>4.638    </td><td>0.084    </td><td>0.308    </td><td>0.246    </td><td>...      </td><td>59.81538 </td><td>0.5076923</td><td>0.4013385</td><td>315      </td><td>0.2345205</td><td>358.1154 </td><td>1991.7308</td><td>1        </td><td>0.1589297</td><td>581.7888 </td></tr>\n",
       "</tbody>\n",
       "</table>\n"
      ],
      "text/latex": [
       "\\begin{tabular}{r|lllllllllllllllllllllllllllll}\n",
       " NEVER & RARELY & SOMETIMES & FREQUENTLY & ALWAYS & FIPS & Combined & Percent\\_Less\\_HS & Percent\\_HS & Percent\\_Less\\_College & ... & COVID\\_Confirmed & COVID\\_Death & Percent\\_Ess\\_Workers & Hospital\\_AllBeds & Hospital\\_Occ\\_rate & COVID\\_TestCap & COVID\\_Testing & COVID\\_Clinic & Vaccine & Crime\\\\\n",
       "\\hline\n",
       "\t 0.026     & 0.006     & 0.106     & 0.051     & 0.811     & 10001     & 4.615     & 0.126     & 0.329     & 0.308     & ...       & 12.73077  & 0.0000000 & 0.5107970 & 562       & 0.8000000 & 327.2231  &  578.2308 & 1         & 0.1305243 & 534.1880 \\\\\n",
       "\t 0.026     & 0.006     & 0.106     & 0.051     & 0.811     & 10001     & 4.615     & 0.126     & 0.329     & 0.308     & ...       & 12.73077  & 0.0000000 & 0.5107970 & 562       & 0.8000000 & 327.2231  &  578.2308 & 1         & 0.1305243 & 534.1880 \\\\\n",
       "\t 0.026     & 0.006     & 0.106     & 0.051     & 0.811     & 10001     & 4.615     & 0.126     & 0.329     & 0.308     & ...       & 12.73077  & 0.0000000 & 0.5107970 & 203       & 0.4783451 & 327.2231  &  578.2308 & 1         & 0.1305243 & 534.1880 \\\\\n",
       "\t 0.026     & 0.006     & 0.106     & 0.051     & 0.811     & 10001     & 4.615     & 0.126     & 0.329     & 0.308     & ...       & 12.73077  & 0.0000000 & 0.5107970 & 203       & 0.4783451 & 327.2231  &  578.2308 & 1         & 0.1305243 & 534.1880 \\\\\n",
       "\t 0.027     & 0.013     & 0.041     & 0.133     & 0.786     & 10003     & 4.638     & 0.084     & 0.308     & 0.246     & ...       & 59.81538  & 0.5076923 & 0.4013385 & 315       & 0.2345205 & 358.1154  & 1991.7308 & 1         & 0.1589297 & 581.7888 \\\\\n",
       "\t 0.027     & 0.013     & 0.041     & 0.133     & 0.786     & 10003     & 4.638     & 0.084     & 0.308     & 0.246     & ...       & 59.81538  & 0.5076923 & 0.4013385 & 315       & 0.2345205 & 358.1154  & 1991.7308 & 1         & 0.1589297 & 581.7888 \\\\\n",
       "\\end{tabular}\n"
      ],
      "text/markdown": [
       "\n",
       "| NEVER | RARELY | SOMETIMES | FREQUENTLY | ALWAYS | FIPS | Combined | Percent_Less_HS | Percent_HS | Percent_Less_College | ... | COVID_Confirmed | COVID_Death | Percent_Ess_Workers | Hospital_AllBeds | Hospital_Occ_rate | COVID_TestCap | COVID_Testing | COVID_Clinic | Vaccine | Crime |\n",
       "|---|---|---|---|---|---|---|---|---|---|---|---|---|---|---|---|---|---|---|---|---|\n",
       "| 0.026     | 0.006     | 0.106     | 0.051     | 0.811     | 10001     | 4.615     | 0.126     | 0.329     | 0.308     | ...       | 12.73077  | 0.0000000 | 0.5107970 | 562       | 0.8000000 | 327.2231  |  578.2308 | 1         | 0.1305243 | 534.1880  |\n",
       "| 0.026     | 0.006     | 0.106     | 0.051     | 0.811     | 10001     | 4.615     | 0.126     | 0.329     | 0.308     | ...       | 12.73077  | 0.0000000 | 0.5107970 | 562       | 0.8000000 | 327.2231  |  578.2308 | 1         | 0.1305243 | 534.1880  |\n",
       "| 0.026     | 0.006     | 0.106     | 0.051     | 0.811     | 10001     | 4.615     | 0.126     | 0.329     | 0.308     | ...       | 12.73077  | 0.0000000 | 0.5107970 | 203       | 0.4783451 | 327.2231  |  578.2308 | 1         | 0.1305243 | 534.1880  |\n",
       "| 0.026     | 0.006     | 0.106     | 0.051     | 0.811     | 10001     | 4.615     | 0.126     | 0.329     | 0.308     | ...       | 12.73077  | 0.0000000 | 0.5107970 | 203       | 0.4783451 | 327.2231  |  578.2308 | 1         | 0.1305243 | 534.1880  |\n",
       "| 0.027     | 0.013     | 0.041     | 0.133     | 0.786     | 10003     | 4.638     | 0.084     | 0.308     | 0.246     | ...       | 59.81538  | 0.5076923 | 0.4013385 | 315       | 0.2345205 | 358.1154  | 1991.7308 | 1         | 0.1589297 | 581.7888  |\n",
       "| 0.027     | 0.013     | 0.041     | 0.133     | 0.786     | 10003     | 4.638     | 0.084     | 0.308     | 0.246     | ...       | 59.81538  | 0.5076923 | 0.4013385 | 315       | 0.2345205 | 358.1154  | 1991.7308 | 1         | 0.1589297 | 581.7888  |\n",
       "\n"
      ],
      "text/plain": [
       "  NEVER RARELY SOMETIMES FREQUENTLY ALWAYS FIPS  Combined Percent_Less_HS\n",
       "1 0.026 0.006  0.106     0.051      0.811  10001 4.615    0.126          \n",
       "2 0.026 0.006  0.106     0.051      0.811  10001 4.615    0.126          \n",
       "3 0.026 0.006  0.106     0.051      0.811  10001 4.615    0.126          \n",
       "4 0.026 0.006  0.106     0.051      0.811  10001 4.615    0.126          \n",
       "5 0.027 0.013  0.041     0.133      0.786  10003 4.638    0.084          \n",
       "6 0.027 0.013  0.041     0.133      0.786  10003 4.638    0.084          \n",
       "  Percent_HS Percent_Less_College ... COVID_Confirmed COVID_Death\n",
       "1 0.329      0.308                ... 12.73077        0.0000000  \n",
       "2 0.329      0.308                ... 12.73077        0.0000000  \n",
       "3 0.329      0.308                ... 12.73077        0.0000000  \n",
       "4 0.329      0.308                ... 12.73077        0.0000000  \n",
       "5 0.308      0.246                ... 59.81538        0.5076923  \n",
       "6 0.308      0.246                ... 59.81538        0.5076923  \n",
       "  Percent_Ess_Workers Hospital_AllBeds Hospital_Occ_rate COVID_TestCap\n",
       "1 0.5107970           562              0.8000000         327.2231     \n",
       "2 0.5107970           562              0.8000000         327.2231     \n",
       "3 0.5107970           203              0.4783451         327.2231     \n",
       "4 0.5107970           203              0.4783451         327.2231     \n",
       "5 0.4013385           315              0.2345205         358.1154     \n",
       "6 0.4013385           315              0.2345205         358.1154     \n",
       "  COVID_Testing COVID_Clinic Vaccine   Crime   \n",
       "1  578.2308     1            0.1305243 534.1880\n",
       "2  578.2308     1            0.1305243 534.1880\n",
       "3  578.2308     1            0.1305243 534.1880\n",
       "4  578.2308     1            0.1305243 534.1880\n",
       "5 1991.7308     1            0.1589297 581.7888\n",
       "6 1991.7308     1            0.1589297 581.7888"
      ]
     },
     "metadata": {},
     "output_type": "display_data"
    }
   ],
   "source": [
    "rm(list = ls())\n",
    "\n",
    "library(dplyr)\n",
    "library(ggplot2)\n",
    "library(readr)\n",
    "library(tidyverse)\n",
    "library(viridis)\n",
    "library(ggmap)\n",
    "library(sf)\n",
    "library(data.table)\n",
    "library(bit64)\n",
    "library(corrplot)\n",
    "\n",
    "setwd(\"C:/Users/momaleki/Desktop/Project\")\n",
    "getwd()\n",
    "\n",
    "df_No_SCI <- fread(\"Data/ToMerge/df_No_SCI.csv\")\n",
    "df_No_SCI <- df_No_SCI[, -c(1)]\n",
    "df <- df_No_SCI\n",
    "df <- df[, -c(8:14, 26:28 )]\n",
    "colnames(df) <- c('NEVER', 'RARELY', 'SOMETIMES', 'FREQUENTLY', 'ALWAYS', 'FIPS', \n",
    "                  'Combined', 'Percent_Less_HS', 'Percent_HS', 'Percent_Less_College', 'Percent_Higher_College', \n",
    "                 'Trump_Win', 'Biden_Win', 'LAT', 'Lon', 'Unemployment', 'Movement_Change', 'Percent_InTouch', \n",
    "                 'Percent_Rural', 'Pop_Density', 'Poverty', 'COVID_Confirmed', 'COVID_Death', 'Percent_Ess_Workers', \n",
    "                 'Hospital_AllBeds', 'Hospital_Occ_rate', 'COVID_TestCap', 'COVID_Testing', 'COVID_Clinic', \n",
    "                 'Vaccine', 'Crime')\n",
    "\n",
    "\n",
    "df <- df[, -c(14:15)]\n",
    "\n",
    "\n",
    "\n",
    "\n",
    "head(df)"
   ]
  },
  {
   "cell_type": "code",
   "execution_count": 39,
   "id": "1728e5da",
   "metadata": {},
   "outputs": [
    {
     "data": {
      "image/png": "[encoded data removed]",
      "text/plain": [
       "Plot with title \"\""
      ]
     },
     "metadata": {},
     "output_type": "display_data"
    }
   ],
   "source": [
    "df.cor <- cor(df)\n",
    "corrplot(df.cor)"
   ]
  },
  {
   "cell_type": "code",
   "execution_count": 40,
   "id": "d7e55590",
   "metadata": {},
   "outputs": [
    {
     "data": {
      "text/plain": [
       "\n",
       "Call:\n",
       "lm(formula = df$ALWAYS ~ df$Trump_Win, data = df)\n",
       "\n",
       "Residuals:\n",
       "     Min       1Q   Median       3Q      Max \n",
       "-0.49003 -0.02119  0.01397  0.03797  0.31881 \n",
       "\n",
       "Coefficients:\n",
       "               Estimate Std. Error t value Pr(>|t|)    \n",
       "(Intercept)   0.7180260  0.0002863  2507.6   <2e-16 ***\n",
       "df$Trump_Win -0.1528401  0.0007477  -204.4   <2e-16 ***\n",
       "---\n",
       "Signif. codes:  0 '***' 0.001 '**' 0.01 '*' 0.05 '.' 0.1 ' ' 1\n",
       "\n",
       "Residual standard error: 0.08245 on 97170 degrees of freedom\n",
       "Multiple R-squared:  0.3007,\tAdjusted R-squared:  0.3007 \n",
       "F-statistic: 4.178e+04 on 1 and 97170 DF,  p-value: < 2.2e-16\n"
      ]
     },
     "metadata": {},
     "output_type": "display_data"
    }
   ],
   "source": [
    "regression <- lm(data = df, \n",
    "                  df$ALWAYS ~  df$Trump_Win)\n",
    "\n",
    "summary(regression)"
   ]
  },
  {
   "cell_type": "code",
   "execution_count": 41,
   "id": "4bc9bac2",
   "metadata": {},
   "outputs": [
    {
     "data": {
      "text/plain": [
       "\n",
       "Call:\n",
       "lm(formula = df$NEVER ~ df$Trump_Win, data = df)\n",
       "\n",
       "Residuals:\n",
       "     Min       1Q   Median       3Q      Max \n",
       "-0.06819 -0.00890 -0.00490  0.00410  0.36381 \n",
       "\n",
       "Coefficients:\n",
       "              Estimate Std. Error t value Pr(>|t|)    \n",
       "(Intercept)  2.790e-02  7.368e-05   378.7   <2e-16 ***\n",
       "df$Trump_Win 4.029e-02  1.924e-04   209.4   <2e-16 ***\n",
       "---\n",
       "Signif. codes:  0 '***' 0.001 '**' 0.01 '*' 0.05 '.' 0.1 ' ' 1\n",
       "\n",
       "Residual standard error: 0.02122 on 97170 degrees of freedom\n",
       "Multiple R-squared:  0.311,\tAdjusted R-squared:  0.311 \n",
       "F-statistic: 4.386e+04 on 1 and 97170 DF,  p-value: < 2.2e-16\n"
      ]
     },
     "metadata": {},
     "output_type": "display_data"
    }
   ],
   "source": [
    "regression <- lm(data = df, \n",
    "                  df$NEVER ~  df$Trump_Win)\n",
    "\n",
    "summary(regression)"
   ]
  },
  {
   "cell_type": "code",
   "execution_count": 42,
   "id": "6089ffee",
   "metadata": {},
   "outputs": [
    {
     "data": {
      "text/plain": [
       "\n",
       "Call:\n",
       "lm(formula = df$ALWAYS ~ df$Percent_Higher_College, data = df)\n",
       "\n",
       "Residuals:\n",
       "     Min       1Q   Median       3Q      Max \n",
       "-0.49274 -0.04077  0.01226  0.05727  0.22163 \n",
       "\n",
       "Coefficients:\n",
       "                          Estimate Std. Error t value Pr(>|t|)    \n",
       "(Intercept)               0.580342   0.001120   518.3   <2e-16 ***\n",
       "df$Percent_Higher_College 0.333505   0.003122   106.8   <2e-16 ***\n",
       "---\n",
       "Signif. codes:  0 '***' 0.001 '**' 0.01 '*' 0.05 '.' 0.1 ' ' 1\n",
       "\n",
       "Residual standard error: 0.09327 on 97170 degrees of freedom\n",
       "Multiple R-squared:  0.1051,\tAdjusted R-squared:  0.1051 \n",
       "F-statistic: 1.141e+04 on 1 and 97170 DF,  p-value: < 2.2e-16\n"
      ]
     },
     "metadata": {},
     "output_type": "display_data"
    }
   ],
   "source": [
    "regression <- lm(data = df, \n",
    "                  df$ALWAYS ~  df$Percent_Higher_College)\n",
    "\n",
    "summary(regression)"
   ]
  },
  {
   "cell_type": "code",
   "execution_count": 43,
   "id": "5606f357",
   "metadata": {},
   "outputs": [
    {
     "data": {
      "text/plain": [
       "\n",
       "Call:\n",
       "lm(formula = df$NEVER ~ df$Percent_Higher_College, data = df)\n",
       "\n",
       "Residuals:\n",
       "     Min       1Q   Median       3Q      Max \n",
       "-0.05995 -0.01262 -0.00633  0.00430  0.38343 \n",
       "\n",
       "Coefficients:\n",
       "                            Estimate Std. Error t value Pr(>|t|)    \n",
       "(Intercept)                0.0703565  0.0002817   249.8   <2e-16 ***\n",
       "df$Percent_Higher_College -0.1057429  0.0007854  -134.6   <2e-16 ***\n",
       "---\n",
       "Signif. codes:  0 '***' 0.001 '**' 0.01 '*' 0.05 '.' 0.1 ' ' 1\n",
       "\n",
       "Residual standard error: 0.02347 on 97170 degrees of freedom\n",
       "Multiple R-squared:  0.1572,\tAdjusted R-squared:  0.1572 \n",
       "F-statistic: 1.813e+04 on 1 and 97170 DF,  p-value: < 2.2e-16\n"
      ]
     },
     "metadata": {},
     "output_type": "display_data"
    }
   ],
   "source": [
    "regression <- lm(data = df, \n",
    "                  df$NEVER ~  df$Percent_Higher_College)\n",
    "\n",
    "summary(regression)"
   ]
  },
  {
   "cell_type": "code",
   "execution_count": 44,
   "id": "7804c12e",
   "metadata": {},
   "outputs": [
    {
     "data": {
      "text/plain": [
       "\n",
       "Call:\n",
       "lm(formula = df$ALWAYS ~ df$Percent_Rural, data = df)\n",
       "\n",
       "Residuals:\n",
       "     Min       1Q   Median       3Q      Max \n",
       "-0.44550 -0.02469  0.01804  0.04026  0.41869 \n",
       "\n",
       "Coefficients:\n",
       "                   Estimate Std. Error t value Pr(>|t|)    \n",
       "(Intercept)       0.7171378  0.0002992  2397.0   <2e-16 ***\n",
       "df$Percent_Rural -0.3494084  0.0019464  -179.5   <2e-16 ***\n",
       "---\n",
       "Signif. codes:  0 '***' 0.001 '**' 0.01 '*' 0.05 '.' 0.1 ' ' 1\n",
       "\n",
       "Residual standard error: 0.08544 on 97170 degrees of freedom\n",
       "Multiple R-squared:  0.2491,\tAdjusted R-squared:  0.249 \n",
       "F-statistic: 3.223e+04 on 1 and 97170 DF,  p-value: < 2.2e-16\n"
      ]
     },
     "metadata": {},
     "output_type": "display_data"
    }
   ],
   "source": [
    "regression <- lm(data = df, \n",
    "                  df$ALWAYS ~  df$Percent_Rural)\n",
    "\n",
    "summary(regression)"
   ]
  },
  {
   "cell_type": "code",
   "execution_count": 45,
   "id": "1e60f5d6",
   "metadata": {},
   "outputs": [
    {
     "data": {
      "text/plain": [
       "\n",
       "Call:\n",
       "lm(formula = df$NEVER ~ df$Percent_Rural, data = df)\n",
       "\n",
       "Residuals:\n",
       "     Min       1Q   Median       3Q      Max \n",
       "-0.11730 -0.01034 -0.00526  0.00648  0.33720 \n",
       "\n",
       "Coefficients:\n",
       "                  Estimate Std. Error t value Pr(>|t|)    \n",
       "(Intercept)      2.826e-02  7.771e-05   363.7   <2e-16 ***\n",
       "df$Percent_Rural 9.004e-02  5.056e-04   178.1   <2e-16 ***\n",
       "---\n",
       "Signif. codes:  0 '***' 0.001 '**' 0.01 '*' 0.05 '.' 0.1 ' ' 1\n",
       "\n",
       "Residual standard error: 0.02219 on 97170 degrees of freedom\n",
       "Multiple R-squared:  0.2461,\tAdjusted R-squared:  0.2461 \n",
       "F-statistic: 3.172e+04 on 1 and 97170 DF,  p-value: < 2.2e-16\n"
      ]
     },
     "metadata": {},
     "output_type": "display_data"
    }
   ],
   "source": [
    "regression <- lm(data = df, \n",
    "                  df$NEVER ~  df$Percent_Rural)\n",
    "\n",
    "summary(regression)"
   ]
  },
  {
   "cell_type": "code",
   "execution_count": 46,
   "id": "4b4d0d67",
   "metadata": {},
   "outputs": [
    {
     "data": {
      "text/plain": [
       "\n",
       "Call:\n",
       "lm(formula = df$ALWAYS ~ df$Pop_Density, data = df)\n",
       "\n",
       "Residuals:\n",
       "     Min       1Q   Median       3Q      Max \n",
       "-0.51917 -0.03353  0.02828  0.05836  0.20074 \n",
       "\n",
       "Coefficients:\n",
       "                Estimate Std. Error t value Pr(>|t|)    \n",
       "(Intercept)    6.831e-01  3.342e-04 2044.20   <2e-16 ***\n",
       "df$Pop_Density 4.970e-06  5.527e-08   89.93   <2e-16 ***\n",
       "---\n",
       "Signif. codes:  0 '***' 0.001 '**' 0.01 '*' 0.05 '.' 0.1 ' ' 1\n",
       "\n",
       "Residual standard error: 0.09474 on 97170 degrees of freedom\n",
       "Multiple R-squared:  0.07683,\tAdjusted R-squared:  0.07682 \n",
       "F-statistic:  8087 on 1 and 97170 DF,  p-value: < 2.2e-16\n"
      ]
     },
     "metadata": {},
     "output_type": "display_data"
    }
   ],
   "source": [
    "regression <- lm(data = df, \n",
    "                  df$ALWAYS ~  df$Pop_Density)\n",
    "\n",
    "summary(regression)"
   ]
  },
  {
   "cell_type": "code",
   "execution_count": 47,
   "id": "03671373",
   "metadata": {},
   "outputs": [
    {
     "data": {
      "text/plain": [
       "\n",
       "Call:\n",
       "lm(formula = df$NEVER ~ df$Pop_Density, data = df)\n",
       "\n",
       "Residuals:\n",
       "     Min       1Q   Median       3Q      Max \n",
       "-0.03521 -0.01492 -0.00957  0.00730  0.39679 \n",
       "\n",
       "Coefficients:\n",
       "                 Estimate Std. Error t value Pr(>|t|)    \n",
       "(Intercept)     3.521e-02  8.951e-05  393.40   <2e-16 ***\n",
       "df$Pop_Density -5.585e-07  1.480e-08  -37.73   <2e-16 ***\n",
       "---\n",
       "Signif. codes:  0 '***' 0.001 '**' 0.01 '*' 0.05 '.' 0.1 ' ' 1\n",
       "\n",
       "Residual standard error: 0.02538 on 97170 degrees of freedom\n",
       "Multiple R-squared:  0.01444,\tAdjusted R-squared:  0.01443 \n",
       "F-statistic:  1424 on 1 and 97170 DF,  p-value: < 2.2e-16\n"
      ]
     },
     "metadata": {},
     "output_type": "display_data"
    }
   ],
   "source": [
    "regression <- lm(data = df, \n",
    "                  df$NEVER ~  df$Pop_Density)\n",
    "\n",
    "summary(regression)"
   ]
  },
  {
   "cell_type": "code",
   "execution_count": 48,
   "id": "dce8a8df",
   "metadata": {},
   "outputs": [
    {
     "data": {
      "text/plain": [
       "\n",
       "Call:\n",
       "lm(formula = df$ALWAYS ~ log1p(df$Unemployment), data = df)\n",
       "\n",
       "Residuals:\n",
       "     Min       1Q   Median       3Q      Max \n",
       "-0.53234 -0.03809  0.02834  0.04234  0.18901 \n",
       "\n",
       "Coefficients:\n",
       "                        Estimate Std. Error t value Pr(>|t|)    \n",
       "(Intercept)             0.792389   0.002745  288.62   <2e-16 ***\n",
       "log1p(df$Unemployment) -0.062939   0.001774  -35.48   <2e-16 ***\n",
       "---\n",
       "Signif. codes:  0 '***' 0.001 '**' 0.01 '*' 0.05 '.' 0.1 ' ' 1\n",
       "\n",
       "Residual standard error: 0.09797 on 97170 degrees of freedom\n",
       "Multiple R-squared:  0.01279,\tAdjusted R-squared:  0.01278 \n",
       "F-statistic:  1259 on 1 and 97170 DF,  p-value: < 2.2e-16\n"
      ]
     },
     "metadata": {},
     "output_type": "display_data"
    }
   ],
   "source": [
    "regression <- lm(data = df, \n",
    "                  df$ALWAYS ~  log1p(df$Unemployment))\n",
    "\n",
    "summary(regression)"
   ]
  },
  {
   "cell_type": "code",
   "execution_count": 49,
   "id": "75ff6c31",
   "metadata": {},
   "outputs": [
    {
     "data": {
      "text/plain": [
       "\n",
       "Call:\n",
       "lm(formula = df$NEVER ~ log1p(df$Unemployment), data = df)\n",
       "\n",
       "Residuals:\n",
       "     Min       1Q   Median       3Q      Max \n",
       "-0.04168 -0.01414 -0.01061  0.00387  0.40186 \n",
       "\n",
       "Coefficients:\n",
       "                        Estimate Std. Error t value Pr(>|t|)    \n",
       "(Intercept)            0.0059870  0.0007106   8.425   <2e-16 ***\n",
       "log1p(df$Unemployment) 0.0180938  0.0004591  39.409   <2e-16 ***\n",
       "---\n",
       "Signif. codes:  0 '***' 0.001 '**' 0.01 '*' 0.05 '.' 0.1 ' ' 1\n",
       "\n",
       "Residual standard error: 0.02536 on 97170 degrees of freedom\n",
       "Multiple R-squared:  0.01573,\tAdjusted R-squared:  0.01572 \n",
       "F-statistic:  1553 on 1 and 97170 DF,  p-value: < 2.2e-16\n"
      ]
     },
     "metadata": {},
     "output_type": "display_data"
    }
   ],
   "source": [
    "regression <- lm(data = df, \n",
    "                  df$NEVER ~  log1p(df$Unemployment))\n",
    "\n",
    "summary(regression)"
   ]
  },
  {
   "cell_type": "code",
   "execution_count": 50,
   "id": "9b52cfda",
   "metadata": {},
   "outputs": [
    {
     "data": {
      "text/plain": [
       "\n",
       "Call:\n",
       "lm(formula = df$ALWAYS ~ df$COVID_Confirmed, data = df)\n",
       "\n",
       "Residuals:\n",
       "     Min       1Q   Median       3Q      Max \n",
       "-0.50743 -0.03025  0.02935  0.05524  0.21258 \n",
       "\n",
       "Coefficients:\n",
       "                    Estimate Std. Error t value Pr(>|t|)    \n",
       "(Intercept)        6.714e-01  3.723e-04  1803.6   <2e-16 ***\n",
       "df$COVID_Confirmed 5.306e-05  4.873e-07   108.9   <2e-16 ***\n",
       "---\n",
       "Signif. codes:  0 '***' 0.001 '**' 0.01 '*' 0.05 '.' 0.1 ' ' 1\n",
       "\n",
       "Residual standard error: 0.09309 on 97170 degrees of freedom\n",
       "Multiple R-squared:  0.1087,\tAdjusted R-squared:  0.1087 \n",
       "F-statistic: 1.185e+04 on 1 and 97170 DF,  p-value: < 2.2e-16\n"
      ]
     },
     "metadata": {},
     "output_type": "display_data"
    }
   ],
   "source": [
    "regression <- lm(data = df, \n",
    "                  df$ALWAYS ~  df$COVID_Confirmed)\n",
    "\n",
    "summary(regression)"
   ]
  },
  {
   "cell_type": "code",
   "execution_count": 51,
   "id": "850eead9",
   "metadata": {},
   "outputs": [
    {
     "data": {
      "text/plain": [
       "\n",
       "Call:\n",
       "lm(formula = df$NEVER ~ df$COVID_Confirmed, data = df)\n",
       "\n",
       "Residuals:\n",
       "     Min       1Q   Median       3Q      Max \n",
       "-0.03749 -0.01266 -0.00962  0.00930  0.39454 \n",
       "\n",
       "Coefficients:\n",
       "                     Estimate Std. Error t value Pr(>|t|)    \n",
       "(Intercept)         3.750e-02  1.003e-04  373.90   <2e-16 ***\n",
       "df$COVID_Confirmed -8.083e-06  1.313e-07  -61.57   <2e-16 ***\n",
       "---\n",
       "Signif. codes:  0 '***' 0.001 '**' 0.01 '*' 0.05 '.' 0.1 ' ' 1\n",
       "\n",
       "Residual standard error: 0.02508 on 97170 degrees of freedom\n",
       "Multiple R-squared:  0.03755,\tAdjusted R-squared:  0.03754 \n",
       "F-statistic:  3791 on 1 and 97170 DF,  p-value: < 2.2e-16\n"
      ]
     },
     "metadata": {},
     "output_type": "display_data"
    }
   ],
   "source": [
    "regression <- lm(data = df, \n",
    "                  df$NEVER ~  df$COVID_Confirmed)\n",
    "\n",
    "summary(regression)"
   ]
  },
  {
   "cell_type": "code",
   "execution_count": 52,
   "id": "f4952940",
   "metadata": {},
   "outputs": [
    {
     "data": {
      "text/plain": [
       "\n",
       "Call:\n",
       "lm(formula = df$NEVER ~ df$COVID_Death, data = df)\n",
       "\n",
       "Residuals:\n",
       "     Min       1Q   Median       3Q      Max \n",
       "-0.04099 -0.01468 -0.00504  0.00630  0.39101 \n",
       "\n",
       "Coefficients:\n",
       "                 Estimate Std. Error t value Pr(>|t|)    \n",
       "(Intercept)     4.099e-02  1.024e-04   400.5   <2e-16 ***\n",
       "df$COVID_Death -1.038e-03  9.657e-06  -107.5   <2e-16 ***\n",
       "---\n",
       "Signif. codes:  0 '***' 0.001 '**' 0.01 '*' 0.05 '.' 0.1 ' ' 1\n",
       "\n",
       "Residual standard error: 0.02416 on 97170 degrees of freedom\n",
       "Multiple R-squared:  0.1063,\tAdjusted R-squared:  0.1063 \n",
       "F-statistic: 1.156e+04 on 1 and 97170 DF,  p-value: < 2.2e-16\n"
      ]
     },
     "metadata": {},
     "output_type": "display_data"
    }
   ],
   "source": [
    "regression <- lm(data = df, \n",
    "                  df$NEVER ~  df$COVID_Death)\n",
    "\n",
    "summary(regression)"
   ]
  },
  {
   "cell_type": "code",
   "execution_count": null,
   "id": "d4e2009b",
   "metadata": {},
   "outputs": [],
   "source": []
  },
  {
   "cell_type": "code",
   "execution_count": null,
   "id": "6b6189f6",
   "metadata": {},
   "outputs": [],
   "source": []
  },
  {
   "cell_type": "code",
   "execution_count": null,
   "id": "19c1d23e",
   "metadata": {},
   "outputs": [],
   "source": []
  },
  {
   "cell_type": "code",
   "execution_count": null,
   "id": "2c041769",
   "metadata": {},
   "outputs": [],
   "source": []
  },
  {
   "cell_type": "code",
   "execution_count": null,
   "id": "89cabb04",
   "metadata": {},
   "outputs": [],
   "source": []
  },
  {
   "cell_type": "code",
   "execution_count": null,
   "id": "e525d136",
   "metadata": {},
   "outputs": [],
   "source": []
  },
  {
   "cell_type": "markdown",
   "id": "8159c141",
   "metadata": {},
   "source": [
    "## Overal Regressions"
   ]
  },
  {
   "cell_type": "code",
   "execution_count": 53,
   "id": "0c980e20",
   "metadata": {},
   "outputs": [
    {
     "data": {
      "text/html": [
       "<ol class=list-inline>\n",
       "\t<li>'NEVER'</li>\n",
       "\t<li>'RARELY'</li>\n",
       "\t<li>'SOMETIMES'</li>\n",
       "\t<li>'FREQUENTLY'</li>\n",
       "\t<li>'ALWAYS'</li>\n",
       "\t<li>'FIPS'</li>\n",
       "\t<li>'Combined'</li>\n",
       "\t<li>'Percent_Less_HS'</li>\n",
       "\t<li>'Percent_HS'</li>\n",
       "\t<li>'Percent_Less_College'</li>\n",
       "\t<li>'Percent_Higher_College'</li>\n",
       "\t<li>'Trump_Win'</li>\n",
       "\t<li>'Biden_Win'</li>\n",
       "\t<li>'Unemployment'</li>\n",
       "\t<li>'Movement_Change'</li>\n",
       "\t<li>'Percent_InTouch'</li>\n",
       "\t<li>'Percent_Rural'</li>\n",
       "\t<li>'Pop_Density'</li>\n",
       "\t<li>'Poverty'</li>\n",
       "\t<li>'COVID_Confirmed'</li>\n",
       "\t<li>'COVID_Death'</li>\n",
       "\t<li>'Percent_Ess_Workers'</li>\n",
       "\t<li>'Hospital_AllBeds'</li>\n",
       "\t<li>'Hospital_Occ_rate'</li>\n",
       "\t<li>'COVID_TestCap'</li>\n",
       "\t<li>'COVID_Testing'</li>\n",
       "\t<li>'COVID_Clinic'</li>\n",
       "\t<li>'Vaccine'</li>\n",
       "\t<li>'Crime'</li>\n",
       "</ol>\n"
      ],
      "text/latex": [
       "\\begin{enumerate*}\n",
       "\\item 'NEVER'\n",
       "\\item 'RARELY'\n",
       "\\item 'SOMETIMES'\n",
       "\\item 'FREQUENTLY'\n",
       "\\item 'ALWAYS'\n",
       "\\item 'FIPS'\n",
       "\\item 'Combined'\n",
       "\\item 'Percent\\_Less\\_HS'\n",
       "\\item 'Percent\\_HS'\n",
       "\\item 'Percent\\_Less\\_College'\n",
       "\\item 'Percent\\_Higher\\_College'\n",
       "\\item 'Trump\\_Win'\n",
       "\\item 'Biden\\_Win'\n",
       "\\item 'Unemployment'\n",
       "\\item 'Movement\\_Change'\n",
       "\\item 'Percent\\_InTouch'\n",
       "\\item 'Percent\\_Rural'\n",
       "\\item 'Pop\\_Density'\n",
       "\\item 'Poverty'\n",
       "\\item 'COVID\\_Confirmed'\n",
       "\\item 'COVID\\_Death'\n",
       "\\item 'Percent\\_Ess\\_Workers'\n",
       "\\item 'Hospital\\_AllBeds'\n",
       "\\item 'Hospital\\_Occ\\_rate'\n",
       "\\item 'COVID\\_TestCap'\n",
       "\\item 'COVID\\_Testing'\n",
       "\\item 'COVID\\_Clinic'\n",
       "\\item 'Vaccine'\n",
       "\\item 'Crime'\n",
       "\\end{enumerate*}\n"
      ],
      "text/markdown": [
       "1. 'NEVER'\n",
       "2. 'RARELY'\n",
       "3. 'SOMETIMES'\n",
       "4. 'FREQUENTLY'\n",
       "5. 'ALWAYS'\n",
       "6. 'FIPS'\n",
       "7. 'Combined'\n",
       "8. 'Percent_Less_HS'\n",
       "9. 'Percent_HS'\n",
       "10. 'Percent_Less_College'\n",
       "11. 'Percent_Higher_College'\n",
       "12. 'Trump_Win'\n",
       "13. 'Biden_Win'\n",
       "14. 'Unemployment'\n",
       "15. 'Movement_Change'\n",
       "16. 'Percent_InTouch'\n",
       "17. 'Percent_Rural'\n",
       "18. 'Pop_Density'\n",
       "19. 'Poverty'\n",
       "20. 'COVID_Confirmed'\n",
       "21. 'COVID_Death'\n",
       "22. 'Percent_Ess_Workers'\n",
       "23. 'Hospital_AllBeds'\n",
       "24. 'Hospital_Occ_rate'\n",
       "25. 'COVID_TestCap'\n",
       "26. 'COVID_Testing'\n",
       "27. 'COVID_Clinic'\n",
       "28. 'Vaccine'\n",
       "29. 'Crime'\n",
       "\n",
       "\n"
      ],
      "text/plain": [
       " [1] \"NEVER\"                  \"RARELY\"                 \"SOMETIMES\"             \n",
       " [4] \"FREQUENTLY\"             \"ALWAYS\"                 \"FIPS\"                  \n",
       " [7] \"Combined\"               \"Percent_Less_HS\"        \"Percent_HS\"            \n",
       "[10] \"Percent_Less_College\"   \"Percent_Higher_College\" \"Trump_Win\"             \n",
       "[13] \"Biden_Win\"              \"Unemployment\"           \"Movement_Change\"       \n",
       "[16] \"Percent_InTouch\"        \"Percent_Rural\"          \"Pop_Density\"           \n",
       "[19] \"Poverty\"                \"COVID_Confirmed\"        \"COVID_Death\"           \n",
       "[22] \"Percent_Ess_Workers\"    \"Hospital_AllBeds\"       \"Hospital_Occ_rate\"     \n",
       "[25] \"COVID_TestCap\"          \"COVID_Testing\"          \"COVID_Clinic\"          \n",
       "[28] \"Vaccine\"                \"Crime\"                 "
      ]
     },
     "metadata": {},
     "output_type": "display_data"
    }
   ],
   "source": [
    "colnames(df)"
   ]
  },
  {
   "cell_type": "code",
   "execution_count": 54,
   "id": "948cfc10",
   "metadata": {},
   "outputs": [
    {
     "data": {
      "text/plain": [
       "\n",
       "Call:\n",
       "lm(formula = df$ALWAYS ~ log1p(df$Pop_Density) + df$Percent_Higher_College + \n",
       "    log1p(df$Poverty) + log1p(df$Unemployment) + log1p(df$COVID_Testing) + \n",
       "    df$COVID_Clinic + df$Percent_Ess_Workers + log1p(df$COVID_Confirmed) + \n",
       "    df$Hospital_Occ_rate + df$Trump_Win + log1p(df$Crime), data = df)\n",
       "\n",
       "Residuals:\n",
       "     Min       1Q   Median       3Q      Max \n",
       "-0.54356 -0.02237 -0.00347  0.02981  0.40051 \n",
       "\n",
       "Coefficients:\n",
       "                            Estimate Std. Error t value Pr(>|t|)    \n",
       "(Intercept)                1.1741372  0.0097681 120.202  < 2e-16 ***\n",
       "log1p(df$Pop_Density)      0.0052241  0.0002908  17.964  < 2e-16 ***\n",
       "df$Percent_Higher_College -0.5876301  0.0091959 -63.901  < 2e-16 ***\n",
       "log1p(df$Poverty)         -0.0129897  0.0007402 -17.550  < 2e-16 ***\n",
       "log1p(df$Unemployment)     0.0881031  0.0018809  46.841  < 2e-16 ***\n",
       "log1p(df$COVID_Testing)    0.0470181  0.0006549  71.796  < 2e-16 ***\n",
       "df$COVID_Clinic            0.0048150  0.0010152   4.743 2.11e-06 ***\n",
       "df$Percent_Ess_Workers    -0.9174683  0.0137795 -66.582  < 2e-16 ***\n",
       "log1p(df$COVID_Confirmed) -0.0036047  0.0004091  -8.810  < 2e-16 ***\n",
       "df$Hospital_Occ_rate       0.0054275  0.0007827   6.935 4.10e-12 ***\n",
       "df$Trump_Win              -0.0835406  0.0008968 -93.151  < 2e-16 ***\n",
       "log1p(df$Crime)           -0.0391946  0.0005713 -68.611  < 2e-16 ***\n",
       "---\n",
       "Signif. codes:  0 '***' 0.001 '**' 0.01 '*' 0.05 '.' 0.1 ' ' 1\n",
       "\n",
       "Residual standard error: 0.06978 on 97160 degrees of freedom\n",
       "Multiple R-squared:  0.4992,\tAdjusted R-squared:  0.4992 \n",
       "F-statistic:  8806 on 11 and 97160 DF,  p-value: < 2.2e-16\n"
      ]
     },
     "metadata": {},
     "output_type": "display_data"
    }
   ],
   "source": [
    "regression <- lm(data = df, \n",
    "                  df$ALWAYS ~  log1p(df$Pop_Density) + \n",
    "                   df$Percent_Higher_College + \n",
    "                   log1p(df$Poverty) + \n",
    "                   log1p(df$Unemployment) + \n",
    "                  log1p(df$COVID_Testing) + \n",
    "                   df$COVID_Clinic + \n",
    "                 df$Percent_Ess_Workers + \n",
    "                  log1p(df$COVID_Confirmed) +\n",
    "                 df$Hospital_Occ_rate + \n",
    "                  df$Trump_Win +\n",
    "                 log1p(df$Crime))\n",
    "\n",
    "summary(regression)"
   ]
  },
  {
   "cell_type": "code",
   "execution_count": 55,
   "id": "9dda4dbf",
   "metadata": {},
   "outputs": [
    {
     "data": {
      "text/plain": [
       "\n",
       "Call:\n",
       "lm(formula = df$Movement_Change ~ log1p(df$Pop_Density) + df$Percent_Higher_College + \n",
       "    log1p(df$Poverty) + log1p(df$Unemployment) + log1p(df$COVID_Testing) + \n",
       "    df$COVID_Clinic + df$Percent_Ess_Workers + log1p(df$COVID_Confirmed) + \n",
       "    df$Hospital_Occ_rate + df$Trump_Win + log1p(df$Crime), data = df)\n",
       "\n",
       "Residuals:\n",
       "     Min       1Q   Median       3Q      Max \n",
       "-0.32149 -0.03348 -0.01760  0.03965  0.49356 \n",
       "\n",
       "Coefficients:\n",
       "                            Estimate Std. Error  t value Pr(>|t|)    \n",
       "(Intercept)               -0.9313811  0.0072734 -128.054  < 2e-16 ***\n",
       "log1p(df$Pop_Density)     -0.0233758  0.0002165 -107.954  < 2e-16 ***\n",
       "df$Percent_Higher_College  0.7159351  0.0068474  104.556  < 2e-16 ***\n",
       "log1p(df$Poverty)          0.0438912  0.0005511   79.638  < 2e-16 ***\n",
       "log1p(df$Unemployment)     0.0716948  0.0014005   51.191  < 2e-16 ***\n",
       "log1p(df$COVID_Testing)   -0.0242585  0.0004876  -49.747  < 2e-16 ***\n",
       "df$COVID_Clinic           -0.0194723  0.0007559  -25.760  < 2e-16 ***\n",
       "df$Percent_Ess_Workers     0.8088446  0.0102603   78.832  < 2e-16 ***\n",
       "log1p(df$COVID_Confirmed) -0.0309396  0.0003047 -101.557  < 2e-16 ***\n",
       "df$Hospital_Occ_rate      -0.0033308  0.0005828   -5.715  1.1e-08 ***\n",
       "df$Trump_Win               0.0401775  0.0006678   60.165  < 2e-16 ***\n",
       "log1p(df$Crime)            0.0139519  0.0004254   32.800  < 2e-16 ***\n",
       "---\n",
       "Signif. codes:  0 '***' 0.001 '**' 0.01 '*' 0.05 '.' 0.1 ' ' 1\n",
       "\n",
       "Residual standard error: 0.05196 on 97160 degrees of freedom\n",
       "Multiple R-squared:  0.6303,\tAdjusted R-squared:  0.6302 \n",
       "F-statistic: 1.506e+04 on 11 and 97160 DF,  p-value: < 2.2e-16\n"
      ]
     },
     "metadata": {},
     "output_type": "display_data"
    }
   ],
   "source": [
    "regression <- lm(data = df, \n",
    "                  df$Movement_Change ~  log1p(df$Pop_Density) + \n",
    "                   df$Percent_Higher_College + \n",
    "                   log1p(df$Poverty) + \n",
    "                   log1p(df$Unemployment) + \n",
    "                  log1p(df$COVID_Testing) + \n",
    "                   df$COVID_Clinic + \n",
    "                 df$Percent_Ess_Workers + \n",
    "                  log1p(df$COVID_Confirmed) +\n",
    "                 df$Hospital_Occ_rate + \n",
    "                  df$Trump_Win +\n",
    "                 log1p(df$Crime))\n",
    "\n",
    "summary(regression)"
   ]
  },
  {
   "cell_type": "markdown",
   "id": "94c9d574",
   "metadata": {},
   "source": [
    "## Look at COVID data at the same time Vaccination took place"
   ]
  },
  {
   "cell_type": "code",
   "execution_count": 56,
   "id": "ec2e14fd",
   "metadata": {},
   "outputs": [
    {
     "data": {
      "text/plain": [
       "\n",
       "Call:\n",
       "lm(formula = df$Vaccine ~ log1p(df$Pop_Density) + df$Percent_Higher_College + \n",
       "    log1p(df$Poverty) + log1p(df$Unemployment) + log1p(df$COVID_Testing) + \n",
       "    df$COVID_Clinic + df$Percent_Ess_Workers + log1p(df$COVID_Confirmed) + \n",
       "    df$Hospital_Occ_rate + df$Trump_Win + log1p(df$Crime), data = df)\n",
       "\n",
       "Residuals:\n",
       "     Min       1Q   Median       3Q      Max \n",
       "-0.22352 -0.01709  0.01776  0.03536  0.47432 \n",
       "\n",
       "Coefficients:\n",
       "                            Estimate Std. Error t value Pr(>|t|)    \n",
       "(Intercept)                0.0940597  0.0077630  12.116  < 2e-16 ***\n",
       "log1p(df$Pop_Density)      0.0015775  0.0002311   6.826 8.80e-12 ***\n",
       "df$Percent_Higher_College  0.2237197  0.0073083  30.612  < 2e-16 ***\n",
       "log1p(df$Poverty)         -0.0162404  0.0005882 -27.609  < 2e-16 ***\n",
       "log1p(df$Unemployment)    -0.0293707  0.0014948 -19.649  < 2e-16 ***\n",
       "log1p(df$COVID_Testing)    0.0183384  0.0005205  35.235  < 2e-16 ***\n",
       "df$COVID_Clinic           -0.0164180  0.0008068 -20.349  < 2e-16 ***\n",
       "df$Percent_Ess_Workers     0.0775270  0.0109510   7.079 1.46e-12 ***\n",
       "log1p(df$COVID_Confirmed) -0.0199071  0.0003252 -61.223  < 2e-16 ***\n",
       "df$Hospital_Occ_rate       0.0309263  0.0006220  49.720  < 2e-16 ***\n",
       "df$Trump_Win               0.0004055  0.0007127   0.569    0.569    \n",
       "log1p(df$Crime)            0.0182300  0.0004540  40.155  < 2e-16 ***\n",
       "---\n",
       "Signif. codes:  0 '***' 0.001 '**' 0.01 '*' 0.05 '.' 0.1 ' ' 1\n",
       "\n",
       "Residual standard error: 0.05545 on 97160 degrees of freedom\n",
       "Multiple R-squared:  0.2483,\tAdjusted R-squared:  0.2482 \n",
       "F-statistic:  2917 on 11 and 97160 DF,  p-value: < 2.2e-16\n"
      ]
     },
     "metadata": {},
     "output_type": "display_data"
    }
   ],
   "source": [
    "regression <- lm(data = df, \n",
    "                  df$Vaccine ~  log1p(df$Pop_Density) + \n",
    "                   df$Percent_Higher_College + \n",
    "                   log1p(df$Poverty) + \n",
    "                   log1p(df$Unemployment) + \n",
    "                  log1p(df$COVID_Testing) + \n",
    "                   df$COVID_Clinic + \n",
    "                 df$Percent_Ess_Workers + \n",
    "                  log1p(df$COVID_Confirmed) +\n",
    "                 df$Hospital_Occ_rate + \n",
    "                  df$Trump_Win +\n",
    "                 log1p(df$Crime))\n",
    "\n",
    "summary(regression)"
   ]
  },
  {
   "cell_type": "code",
   "execution_count": null,
   "id": "b627d0f6",
   "metadata": {},
   "outputs": [],
   "source": []
  },
  {
   "cell_type": "code",
   "execution_count": null,
   "id": "686764b6",
   "metadata": {},
   "outputs": [],
   "source": []
  },
  {
   "cell_type": "markdown",
   "id": "8a555fb4",
   "metadata": {},
   "source": [
    "# Conclusions"
   ]
  },
  {
   "cell_type": "markdown",
   "id": "b0101eca",
   "metadata": {},
   "source": [
    "1. Education \n",
    "2. COVID Testing\n",
    "3. Poverty\n",
    "2. Vaccination \n",
    "3. Trump_Win \n"
   ]
  },
  {
   "cell_type": "code",
   "execution_count": null,
   "id": "33f436f7",
   "metadata": {},
   "outputs": [],
   "source": []
  }
 ],
 "metadata": {
  "kernelspec": {
   "display_name": "R",
   "language": "R",
   "name": "ir"
  },
  "language_info": {
   "codemirror_mode": "r",
   "file_extension": ".r",
   "mimetype": "text/x-r-source",
   "name": "R",
   "pygments_lexer": "r",
   "version": "3.6.1"
  }
 },
 "nbformat": 4,
 "nbformat_minor": 5
}

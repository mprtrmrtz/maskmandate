{
 "cells": [
  {
   "cell_type": "markdown",
   "id": "5bf6f396",
   "metadata": {},
   "source": [
    "#                                   Mask Mandate Research  \n",
    "\n",
    "##  Morteza Maleki\n",
    "May 28, 2021\n",
    "\n",
    "\n",
    "\n",
    "\n",
    "\n",
    "\n",
    "\n",
    "\n",
    "###  \n",
    "\n",
    "\n",
    "\n"
   ]
  },
  {
   "cell_type": "markdown",
   "id": "4f303cd5",
   "metadata": {},
   "source": [
    "# Part 1: Housekeeping in R"
   ]
  },
  {
   "cell_type": "code",
   "execution_count": 1,
   "id": "ed2ce267",
   "metadata": {},
   "outputs": [
    {
     "name": "stderr",
     "output_type": "stream",
     "text": [
      "\n",
      "Attaching package: 'dplyr'\n",
      "\n",
      "The following objects are masked from 'package:stats':\n",
      "\n",
      "    filter, lag\n",
      "\n",
      "The following objects are masked from 'package:base':\n",
      "\n",
      "    intersect, setdiff, setequal, union\n",
      "\n",
      "Registered S3 methods overwritten by 'ggplot2':\n",
      "  method         from \n",
      "  [.quosures     rlang\n",
      "  c.quosures     rlang\n",
      "  print.quosures rlang\n",
      "Registered S3 method overwritten by 'rvest':\n",
      "  method            from\n",
      "  read_xml.response xml2\n",
      "-- Attaching packages --------------------------------------- tidyverse 1.2.1 --\n",
      "v tibble  2.1.1     v purrr   0.3.2\n",
      "v tidyr   0.8.3     v stringr 1.4.0\n",
      "v tibble  2.1.1     v forcats 0.4.0\n",
      "-- Conflicts ------------------------------------------ tidyverse_conflicts() --\n",
      "x dplyr::filter() masks stats::filter()\n",
      "x dplyr::lag()    masks stats::lag()\n",
      "Warning message:\n",
      "\"package 'viridis' was built under R version 3.6.3\"Loading required package: viridisLite\n",
      "Warning message:\n",
      "\"package 'viridisLite' was built under R version 3.6.3\"Warning message:\n",
      "\"package 'ggmap' was built under R version 3.6.3\"Google's Terms of Service: https://cloud.google.com/maps-platform/terms/.\n",
      "Please cite ggmap if you use it! See citation(\"ggmap\") for details.\n",
      "Warning message:\n",
      "\"package 'sf' was built under R version 3.6.3\"Linking to GEOS 3.9.0, GDAL 3.2.1, PROJ 7.2.1\n",
      "Warning message:\n",
      "\"package 'data.table' was built under R version 3.6.3\"\n",
      "Attaching package: 'data.table'\n",
      "\n",
      "The following object is masked from 'package:purrr':\n",
      "\n",
      "    transpose\n",
      "\n",
      "The following objects are masked from 'package:dplyr':\n",
      "\n",
      "    between, first, last\n",
      "\n",
      "Warning message:\n",
      "\"package 'bit64' was built under R version 3.6.3\"Loading required package: bit\n",
      "Warning message:\n",
      "\"package 'bit' was built under R version 3.6.3\"\n",
      "Attaching package: 'bit'\n",
      "\n",
      "The following object is masked from 'package:data.table':\n",
      "\n",
      "    setattr\n",
      "\n",
      "The following object is masked from 'package:base':\n",
      "\n",
      "    xor\n",
      "\n",
      "Attaching package bit64\n",
      "package:bit64 (c) 2011-2017 Jens Oehlschlaegel\n",
      "creators: integer64 runif64 seq :\n",
      "coercion: as.integer64 as.vector as.logical as.integer as.double as.character as.bitstring\n",
      "logical operator: ! & | xor != == < <= >= >\n",
      "arithmetic operator: + - * / %/% %% ^\n",
      "math: sign abs sqrt log log2 log10\n",
      "math: floor ceiling trunc round\n",
      "querying: is.integer64 is.vector [is.atomic} [length] format print str\n",
      "values: is.na is.nan is.finite is.infinite\n",
      "aggregation: any all min max range sum prod\n",
      "cumulation: diff cummin cummax cumsum cumprod\n",
      "access: length<- [ [<- [[ [[<-\n",
      "combine: c rep cbind rbind as.data.frame\n",
      "WARNING don't use as subscripts\n",
      "WARNING semantics differ from integer\n",
      "for more help type ?bit64\n",
      "\n",
      "Attaching package: 'bit64'\n",
      "\n",
      "The following objects are masked from 'package:base':\n",
      "\n",
      "    %in%, :, is.double, match, order, rank\n",
      "\n"
     ]
    },
    {
     "data": {
      "text/html": [
       "'C:/Users/momaleki/Desktop/Project'"
      ],
      "text/latex": [
       "'C:/Users/momaleki/Desktop/Project'"
      ],
      "text/markdown": [
       "'C:/Users/momaleki/Desktop/Project'"
      ],
      "text/plain": [
       "[1] \"C:/Users/momaleki/Desktop/Project\""
      ]
     },
     "metadata": {},
     "output_type": "display_data"
    }
   ],
   "source": [
    "rm(list = ls())\n",
    "\n",
    "library(dplyr)\n",
    "library(ggplot2)\n",
    "library(readr)\n",
    "library(tidyverse)\n",
    "library(viridis)\n",
    "library(ggmap)\n",
    "library(sf)\n",
    "library(data.table)\n",
    "library(bit64)\n",
    "\n",
    "\n",
    "\n",
    "setwd(\"C:/Users/momaleki/Desktop/Project\")\n",
    "getwd()"
   ]
  },
  {
   "cell_type": "markdown",
   "id": "eae87d61",
   "metadata": {},
   "source": [
    "# "
   ]
  },
  {
   "cell_type": "markdown",
   "id": "9a485d43",
   "metadata": {},
   "source": [
    "# Part 2: Data Importation \n"
   ]
  },
  {
   "cell_type": "code",
   "execution_count": 2,
   "id": "7f3d8d30",
   "metadata": {},
   "outputs": [
    {
     "data": {
      "text/html": [
       "<table>\n",
       "<thead><tr><th scope=col>FIPS</th><th scope=col>Crime_per_100K</th></tr></thead>\n",
       "<tbody>\n",
       "\t<tr><td>45001    </td><td>511.85668</td></tr>\n",
       "\t<tr><td>22001    </td><td>163.97659</td></tr>\n",
       "\t<tr><td>51001    </td><td>190.05672</td></tr>\n",
       "\t<tr><td>16001    </td><td>206.50044</td></tr>\n",
       "\t<tr><td>19001    </td><td> 66.91649</td></tr>\n",
       "\t<tr><td>21001    </td><td> 96.09225</td></tr>\n",
       "</tbody>\n",
       "</table>\n"
      ],
      "text/latex": [
       "\\begin{tabular}{r|ll}\n",
       " FIPS & Crime\\_per\\_100K\\\\\n",
       "\\hline\n",
       "\t 45001     & 511.85668\\\\\n",
       "\t 22001     & 163.97659\\\\\n",
       "\t 51001     & 190.05672\\\\\n",
       "\t 16001     & 206.50044\\\\\n",
       "\t 19001     &  66.91649\\\\\n",
       "\t 21001     &  96.09225\\\\\n",
       "\\end{tabular}\n"
      ],
      "text/markdown": [
       "\n",
       "| FIPS | Crime_per_100K |\n",
       "|---|---|\n",
       "| 45001     | 511.85668 |\n",
       "| 22001     | 163.97659 |\n",
       "| 51001     | 190.05672 |\n",
       "| 16001     | 206.50044 |\n",
       "| 19001     |  66.91649 |\n",
       "| 21001     |  96.09225 |\n",
       "\n"
      ],
      "text/plain": [
       "  FIPS  Crime_per_100K\n",
       "1 45001 511.85668     \n",
       "2 22001 163.97659     \n",
       "3 51001 190.05672     \n",
       "4 16001 206.50044     \n",
       "5 19001  66.91649     \n",
       "6 21001  96.09225     "
      ]
     },
     "metadata": {},
     "output_type": "display_data"
    }
   ],
   "source": [
    "\n",
    "mask_use <- fread(\"Data/mask-use-by-county.csv\")\n",
    "COVID_closures <- fread(\"Data/US County Level Summaries.csv\")\n",
    "FIPS_master <- fread(\"Data/county_fips_master.csv\")\n",
    "Education_level <- fread(\"Data/Education level by Country 1970 - 2019.csv\")\n",
    "Election_decisions <- fread(\"Data/election decisions by fips country.csv\")\n",
    "Pop_estimates <- fread(\"Data/PopulationEstimates per country 2019.csv\")\n",
    "Poverty_estimate <- fread(\"Data/PovertyEstimates per country 2019.csv\")\n",
    "Presidential_elections <- fread(\"Data/presidential election results per fips county.csv\")\n",
    "Unemployment <- fread(\"Data/Unemployment per country 2000 -2019.csv\")\n",
    "FIPS_to_longlat <- fread(\"Data/2020_Gaz_counties_national.txt\")\n",
    "SCI <- fread(file = \"Data/county_county_aug2020.tsv\", sep = '\\t', header = TRUE)\n",
    "movement_range <- fread(\"Data/movement-range-2021-05-23.txt\")\n",
    "Population_density <- fread(\"Data/Population_density.csv\")\n",
    "Rural_percentage <- fread(\"Data/Rureal_Percentages_csv.csv\") \n",
    "crime <- fread(\"Data/crime_data_w_population_and_crime_rate.csv\")\n",
    "\n",
    "# COVID Rate Data \n",
    "COVID_essential_workers <- fread(\"Data/COVID_Data/data/context_essential_workers_acs-2021-05-29.csv\") \n",
    "COVID_testing_clinics <- fread(\"Data/COVID_Data/data/COVID_testing_clinics_PYTHON.csv\") \n",
    "COVID_hospital_locations <- fread(\"Data/COVID_Data/data/COVID_Hospitals_PYTHON.csv\") \n",
    "COVID_confirmed_cases <- fread(\"Data/COVID_Data/data/covid_confirmed_cdc-2021-05-29.csv\") \n",
    "COVID_death_cases <- fread(\"Data/COVID_Data/data/covid_deaths_cdc-2021-05-29.csv\")\n",
    "COVID_testing_counts <- fread(\"Data/COVID_Data/data/covid_testing_cdc-2021-05-29.csv\") \n",
    "COVID_testing_capacity <- fread(\"Data/COVID_Data/data/covid_tcap_cdc-2021-05-29.csv\") \n",
    "COVID_testing_positivity <- fread(\"Data/COVID_Data/data/covid_wk_pos_cdc-2021-05-29.csv\") \n",
    "Vaccine <- fread(\"Data/COVID_Data/data/COVID-19_Vaccinations_in_the_United_States_County.csv\")\n",
    "\n",
    "#############\n",
    "FIPS_master$county_name <- paste(FIPS_master$county_name, FIPS_master$state_abbr, sep = \", \")\n",
    "Crime <- merge(FIPS_master, crime, on = \"county_name\")\n",
    "Crime <- Crime[, -c(1, 3:13, 15:36)]\n",
    "colnames(Crime) <- c('FIPS', 'Crime_per_100K')\n",
    "head(Crime)"
   ]
  },
  {
   "cell_type": "markdown",
   "id": "0fb02d5b",
   "metadata": {},
   "source": [
    " "
   ]
  },
  {
   "cell_type": "markdown",
   "id": "be5bc9ad",
   "metadata": {},
   "source": [
    "# Part 3: Data Preprocessing"
   ]
  },
  {
   "cell_type": "code",
   "execution_count": 3,
   "id": "15597067",
   "metadata": {},
   "outputs": [
    {
     "name": "stderr",
     "output_type": "stream",
     "text": [
      "Warning message in eval(expr, envir, enclos):\n",
      "\"NAs introduced by coercion\""
     ]
    }
   ],
   "source": [
    "# Making sure we have the same FIPS code in all dataset with type double \n",
    "\n",
    "# mask_use\n",
    "colnames(mask_use) <- paste(\"Mask_Usage\", colnames(mask_use), sep = \"_\")\n",
    "mask_use$FIPS <- as.double(mask_use$Mask_Usage_COUNTYFP)\n",
    "mask_use$Mask_Usage_COUNTYFP <- NULL\n",
    "mask_use$Mask_Usage_Combined <- mask_use[, c(1)] * 0 + mask_use[, c(2)] * 2 +\n",
    "                                    mask_use[, c(3)] * 3 + mask_use[, c(4)] * 4 +\n",
    "                                            mask_use[, c(5)] * 5\n",
    "\n",
    "\n",
    "\n",
    "\n",
    "\n",
    "\n",
    "# FIPS_master\n",
    "FIPS_master$FIPS <- as.double(FIPS_master$fips)\n",
    "FIPS_master$fips <- NULL\n",
    "FIPS_master <- FIPS_master[, -c(4:12)]\n",
    "\n",
    "\n",
    "\n",
    "\n",
    "# Education Level\n",
    "colnames(Education_level) <- paste(\"Education_Levels\", colnames(Education_level), sep = \"_\")\n",
    "Education_level$FIPS <- as.double(Education_level$`Education_Levels_FIPS Code`)\n",
    "Education_level$`Education_Levels_FIPS Code` <- NULL\n",
    "Education_level <- Education_level[, -c(0:38)]\n",
    "Education_level <- subset(Education_level, floor(log10(FIPS))  == 4)\n",
    "                    \n",
    "colnames(Education_level) <- c('Count_Less_HighSchool', 'Count_HighSchool', 'Count_Less_College', \n",
    "                              'Count_Higher_College', 'Percent_Less_HighSchool', 'Percent_HighSchool', \n",
    "                             'Percent_Less_College', 'Percent_Higher_College', 'FIPS')\n",
    "\n",
    "Education_level$Percent_Less_HighSchool <- Education_level$Percent_Less_HighSchool/100\n",
    "Education_level$Percent_HighSchool <- Education_level$Percent_HighSchool/100\n",
    "Education_level$Percent_Less_College <- Education_level$Percent_Less_College/100\n",
    "Education_level$Percent_Higher_College <- Education_level$Percent_Higher_College/100\n",
    "\n",
    "\n",
    "\n",
    "\n",
    "\n",
    "# COVID Closures\n",
    "colnames(COVID_closures) <- paste(\"COVID_Closures\", colnames(COVID_closures), sep = \"_\")\n",
    "COVID_closures$FIPS <- as.double(COVID_closures$COVID_Closures_FIPS)\n",
    "COVID_closures$COVID_Closures_FIPS <- NULL\n",
    "\n",
    "\n",
    "\n",
    "#  Election Decisions \n",
    "colnames(Election_decisions) <- paste(\"Election\", colnames(Election_decisions), sep = \"_\")\n",
    "Election_decisions$FIPS <- as.double(Election_decisions$Election_id)\n",
    "Election_decisions <- Election_decisions[, -c(2, 3, 4, 5, 11, 12 )]\n",
    "Election_decisions$Election_Trump <- ifelse(Election_decisions$Election_lname == \"Trump\", 1, 0)\n",
    "Election_decisions$Election_Biden <- ifelse(Election_decisions$Election_lname == \"Biden\", 1, 0)\n",
    "Election_decisions$Trump_Votes <- Election_decisions$Election_votes * Election_decisions$Election_Trump\n",
    "Election_decisions$Biden_Votes <- Election_decisions$Election_votes * Election_decisions$Election_Biden\n",
    "\n",
    "Election_decisions_1 <- Election_decisions %>% \n",
    "                            filter(Election_race == \"President\") %>%\n",
    "                            group_by(FIPS) %>%\n",
    "                                summarize(Winner_Votes = max(Election_votes), \n",
    "                                         Trump_Votes = max(Trump_Votes), \n",
    "                                         Biden_Votes = max(Biden_Votes))\n",
    "Election_decisions_1$Trump_Win <- ifelse(Election_decisions_1$Trump_Votes > Election_decisions_1$Biden_Votes, \n",
    "                                  1, 0)\n",
    "Election_decisions_1$Biden_Win <- ifelse(Election_decisions_1$Trump_Votes < Election_decisions_1$Biden_Votes, \n",
    "                                  1, 0)\n",
    "Election_decisions_1 <- subset(Election_decisions_1, floor(log10(FIPS))  == 4)\n",
    "Election_decisions_1 <- Election_decisions_1[-c(2:4)]\n",
    "Election_decisions <- Election_decisions_1\n",
    "\n",
    "\n",
    "\n",
    "\n",
    "\n",
    "# FIPS_to_longlat\n",
    "FIPS_to_longlat$FIPS <- FIPS_to_longlat$GEOID\n",
    "FIPS_to_longlat$GEOID <- NULL\n",
    "FIPS_to_longlat$LAT <- FIPS_to_longlat$INTPTLAT\n",
    "FIPS_to_longlat$LON <- FIPS_to_longlat$INTPTLONG\n",
    "FIPS_to_longlat <- FIPS_to_longlat[, -c(0:9)]\n",
    "\n",
    "\n",
    "\n",
    "\n",
    "#  Unemployment \n",
    "colnames(Unemployment) <- paste(\"Unemployment_2019\", colnames(Unemployment), sep = \"_\")\n",
    "Unemployment$FIPS <- as.double(Unemployment$Unemployment_2019_fips_txt)\n",
    "keep <- c(\"Unemployment_rate_2019\")\n",
    "Unemployment <- subset(Unemployment, Unemployment_2019_Attribute %in% keep)\n",
    "Unemployment <- Unemployment[, -c(1:4)]\n",
    "\n",
    "\n",
    "\n",
    "#  Povery Estimate\n",
    "colnames(Poverty_estimate) <- paste(\"Poverty_Estimates\", colnames(Poverty_estimate), sep = \"_\")\n",
    "Poverty_estimate$FIPS <- as.double(Poverty_estimate$Poverty_Estimates_FIPStxt)\n",
    "keep <- c('POVALL_2019')\n",
    "Poverty_estimate <- subset(Poverty_estimate, Poverty_Estimates_Attribute %in% keep)\n",
    "Poverty_estimate <- Poverty_estimate[, -c(1:4)]\n",
    "\n",
    "\n",
    "# Movement Range\n",
    "movement_range$date <- movement_range$ds\n",
    "movement_range$ds <- NULL\n",
    "movement_range$country_code <- movement_range$country\n",
    "movement_range$country <- NULL\n",
    "movement_range$polygon_source <- NULL\n",
    "movement_range$polygon_name <- NULL\n",
    "movement_range$change_in_movement <- movement_range$all_day_bing_tiles_visited_relative_change\n",
    "movement_range$all_day_bing_tiles_visited_relative_change <- NULL\n",
    "movement_range$proportion_intouch_users <- movement_range$all_day_ratio_single_tile_users\n",
    "movement_range$all_day_ratio_single_tile_users <- NULL\n",
    "movement_range$baseline_calc_time <- movement_range$baseline_name\n",
    "movement_range$baseline_name <- NULL\n",
    "movement_range$baseline_calc_how <- movement_range$baseline_type\n",
    "movement_range$baseline_type <- NULL\n",
    "movement_range = filter(movement_range, movement_range$country_code == \"USA\")\n",
    "movement_range$date <- as.Date(movement_range$date, format = \"%Y-%m-%d\")\n",
    "movement_range = subset(movement_range, date > \"2020-07-1\" & date < \"2020-07-15\")\n",
    "colnames(movement_range) <- paste(\"Movement_Range\", colnames(movement_range), sep = \"_\")\n",
    "movement_range$FIPS <- as.double(movement_range$Movement_Range_polygon_id)\n",
    "movement_range$Movement_Range_polygon_id <- NULL\n",
    "movement_range <- movement_range[, -c(2, 5, 6)]\n",
    "\n",
    "movement_range <- movement_range %>% \n",
    "                    group_by(FIPS) %>%\n",
    "                            summarize(Change_in_Movement = mean(Movement_Range_change_in_movement),\n",
    "                                      Intouch_users_Proportion = mean(Movement_Range_proportion_intouch_users))\n",
    "\n",
    "\n",
    "\n",
    "\n",
    "\n",
    "# SCI\n",
    "colnames(SCI) <- paste(\"SCI\", colnames(SCI), sep = \"_\")\n",
    "SCI$FIPS <- as.double(SCI$SCI_user_loc)\n",
    "SCI$SCI_user_loc <- NULL\n",
    "SCI$second_FIPS <- as.double(SCI$SCI_fr_loc)\n",
    "SCI$SCI_fr_loc <- NULL\n",
    "SCI$Multiply <- SCI$FIPS * SCI$second_FIPS * SCI$SCI_scaled_sci\n",
    "SCI_Unique <- distinct(SCI, Multiply, .keep_all = TRUE)\n",
    "SCI <- SCI_Unique\n",
    "SCI$Multiply <- NULL\n",
    "\n",
    "\n",
    "\n",
    "\n",
    "\n",
    "# Population Density\n",
    "colnames(Population_density) <- paste(\"Pop_Density\", colnames(Population_density), sep = \"_\")\n",
    "Population_density$FIPS <- as.double(Population_density$Pop_Density_GEOID)\n",
    "Population_density$Population_Density <- as.double(Population_density$Pop_Density_B01001_calc_PopDensity)\n",
    "Population_density <- Population_density[, -c(1:23)]\n",
    "\n",
    "\n",
    "\n",
    "\n",
    "# Rural Population \n",
    "colnames(Rural_percentage) <- paste(\"Rural_Percent\", colnames(Rural_percentage), sep = \"_\")\n",
    "Rural_percentage$FIPS <- Rural_percentage[, c(1)]\n",
    "Rural_percentage <- Rural_percentage[, -c(1:4)]\n",
    "Rural_percentage_1 <- Rural_percentage\n",
    "colnames(Rural_percentage_1) <- c('Total_Population', 'Urban_Population', 'Rural_Population', 'Percent_Rural', 'FIPS')\n",
    "Rural_percentage_1$Percent_Rural <- Rural_percentage_1$Percent_Rural / 100\n",
    "Rural_percentage <- Rural_percentage_1\n",
    "\n",
    "\n",
    "\n",
    "\n",
    "\n",
    "##### COVID Data \n",
    "\n",
    "# Vaccination \n",
    "Vaccine <- Vaccine %>%\n",
    "                  group_by(FIPS) %>%\n",
    "                            summarize(Vaccine_completeness_pct = mean(Series_Complete_Pop_Pct))\n",
    "\n",
    "Vaccine$FIPS <- as.double(Vaccine$FIPS)\n",
    "Vaccine$Vaccine_completeness_pct <- Vaccine$Vaccine_completeness_pct / 100\n",
    "\n",
    "# COVID Essential Workers: percent of essential workers\n",
    "colnames(COVID_essential_workers) <- paste(\"COVID_Essential_Workers\", colnames(COVID_essential_workers), sep = \"_\")\n",
    "COVID_essential_workers$FIPS <- COVID_essential_workers$COVID_Essential_Workers_fips\n",
    "COVID_essential_workers$COVID_Essential_Workers_fips <- NULL\n",
    "\n",
    "# COVID Testing Clinics: \n",
    "colnames(COVID_testing_clinics) <- paste(\"COVID_Clinics\", colnames(COVID_testing_clinics), sep = \"_\")\n",
    "COVID_testing_clinics$COVID_Clinic_Testing <- ifelse(COVID_testing_clinics$'COVID_Clinics_testing_status' == \"Yes\", 1, 0)\n",
    "COVID_testing_clinics <- COVID_testing_clinics[, -c(1:7, 9:10)]\n",
    "COVID_testing_clinics$FIPS <- COVID_testing_clinics$COVID_Clinics_FIPS\n",
    "COVID_testing_clinics <- COVID_testing_clinics[, -c(1:2)]\n",
    "\n",
    "\n",
    "# COVID Hospitcal Locations:\n",
    "colnames(COVID_hospital_locations) <- paste(\"COVID_Hospital\", colnames(COVID_hospital_locations), sep = \"_\")\n",
    "COVID_hospital_locations <- COVID_hospital_locations[, -c(1:11 ,17:25)]\n",
    "COVID_hospital_locations[is.na(COVID_hospital_locations)] <- 0\n",
    "COVID_hospital_locations$COVID_Hospital_All_Beds <- rowSums(COVID_hospital_locations[, c(1,  3)])\n",
    "COVID_hospital_locations$COVID_Hospital_Occupancy_Rate <- rowMeans(COVID_hospital_locations[, c(4, 5)])\n",
    "COVID_hospital_locations$FIPS <- COVID_hospital_locations$COVID_Hospital_FIPS\n",
    "COVID_hospital_locations <- COVID_hospital_locations[, -c(1:6)]\n",
    "\n",
    "\n",
    "\n",
    "\n",
    "# COVID Confirmed Cases:\n",
    "colnames(COVID_confirmed_cases) <- paste(\"COVID_Confirmed\", colnames(COVID_confirmed_cases), sep = \"_\")\n",
    "COVID_confirmed_cases$FIPS <- as.double(COVID_confirmed_cases$COVID_Confirmed_fips_code)\n",
    "COVID_confirmed_cases <- COVID_confirmed_cases[, -c(2:163, 177:493)]\n",
    "COVID_confirmed_cases$COVID_Average_Confirmed <- rowMeans(COVID_confirmed_cases[, c(2:14)])\n",
    "COVID_confirmed_cases$FIPS <- COVID_confirmed_cases$COVID_Confirmed_fips_code\n",
    "COVID_confirmed_cases <- COVID_confirmed_cases[, -c(1:14)]\n",
    "\n",
    "# COVID Death Cases:\n",
    "colnames(COVID_death_cases) <- paste(\"COVID_Death\", colnames(COVID_death_cases), sep = \"_\")\n",
    "COVID_death_cases<- COVID_death_cases[, -c(2:163, 177:492)]\n",
    "COVID_death_cases$COVID_Average_Death <- rowMeans(COVID_death_cases[, c(2:14)])\n",
    "COVID_death_cases$FIPS <- COVID_death_cases$COVID_Death_fips_code\n",
    "COVID_death_cases <- COVID_death_cases[, -c(1:14)]\n",
    "\n",
    "# COVID Testing Counts: \n",
    "colnames(COVID_testing_counts) <- paste(\"COVID_TestCounts\", colnames(COVID_testing_counts), sep = \"_\")\n",
    "COVID_testing_counts <- COVID_testing_counts[, -c(2:163, 177:492)]\n",
    "COVID_testing_counts$COVID_Average_Testing <- rowMeans(COVID_testing_counts[, c(2:14)])\n",
    "COVID_testing_counts$FIPS <- COVID_testing_counts$COVID_TestCounts_fips_code\n",
    "COVID_testing_counts <- COVID_testing_counts[, -c(1:14)]\n",
    "\n",
    "# COVID Testing Capacity:\n",
    "colnames(COVID_testing_capacity) <- paste(\"COVID_TestCap\", colnames(COVID_testing_capacity), sep = \"_\")\n",
    "COVID_testing_capacity <- COVID_testing_capacity[, -c(2:163, 177:492)]\n",
    "COVID_testing_capacity$COVID_Average_TestCapacity <- rowMeans(COVID_testing_capacity[, c(2:14)])\n",
    "COVID_testing_capacity$FIPS <- COVID_testing_capacity$COVID_TestCap_fips_code\n",
    "COVID_testing_capacity <- COVID_testing_capacity[, -c(1:14)]"
   ]
  },
  {
   "cell_type": "markdown",
   "id": "e744e3f4",
   "metadata": {},
   "source": [
    "## Part 3: Data Processing ----  Looking at the Data"
   ]
  },
  {
   "cell_type": "code",
   "execution_count": 10,
   "id": "1054ee23",
   "metadata": {},
   "outputs": [
    {
     "data": {
      "text/html": [
       "<table>\n",
       "<thead><tr><th scope=col>Mask_Usage_NEVER</th><th scope=col>Mask_Usage_RARELY</th><th scope=col>Mask_Usage_SOMETIMES</th><th scope=col>Mask_Usage_FREQUENTLY</th><th scope=col>Mask_Usage_ALWAYS</th><th scope=col>FIPS</th><th scope=col>Mask_Usage_Combined</th></tr></thead>\n",
       "<tbody>\n",
       "\t<tr><td>0.053</td><td>0.074</td><td>0.134</td><td>0.295</td><td>0.444</td><td>1001 </td><td>3.950</td></tr>\n",
       "\t<tr><td>0.083</td><td>0.059</td><td>0.098</td><td>0.323</td><td>0.436</td><td>1003 </td><td>3.884</td></tr>\n",
       "\t<tr><td>0.067</td><td>0.121</td><td>0.120</td><td>0.201</td><td>0.491</td><td>1005 </td><td>3.861</td></tr>\n",
       "\t<tr><td>0.020</td><td>0.034</td><td>0.096</td><td>0.278</td><td>0.572</td><td>1007 </td><td>4.328</td></tr>\n",
       "\t<tr><td>0.053</td><td>0.114</td><td>0.180</td><td>0.194</td><td>0.459</td><td>1009 </td><td>3.839</td></tr>\n",
       "\t<tr><td>0.031</td><td>0.040</td><td>0.144</td><td>0.286</td><td>0.500</td><td>1011 </td><td>4.156</td></tr>\n",
       "</tbody>\n",
       "</table>\n"
      ],
      "text/latex": [
       "\\begin{tabular}{r|lllllll}\n",
       " Mask\\_Usage\\_NEVER & Mask\\_Usage\\_RARELY & Mask\\_Usage\\_SOMETIMES & Mask\\_Usage\\_FREQUENTLY & Mask\\_Usage\\_ALWAYS & FIPS & Mask\\_Usage\\_Combined\\\\\n",
       "\\hline\n",
       "\t 0.053 & 0.074 & 0.134 & 0.295 & 0.444 & 1001  & 3.950\\\\\n",
       "\t 0.083 & 0.059 & 0.098 & 0.323 & 0.436 & 1003  & 3.884\\\\\n",
       "\t 0.067 & 0.121 & 0.120 & 0.201 & 0.491 & 1005  & 3.861\\\\\n",
       "\t 0.020 & 0.034 & 0.096 & 0.278 & 0.572 & 1007  & 4.328\\\\\n",
       "\t 0.053 & 0.114 & 0.180 & 0.194 & 0.459 & 1009  & 3.839\\\\\n",
       "\t 0.031 & 0.040 & 0.144 & 0.286 & 0.500 & 1011  & 4.156\\\\\n",
       "\\end{tabular}\n"
      ],
      "text/markdown": [
       "\n",
       "| Mask_Usage_NEVER | Mask_Usage_RARELY | Mask_Usage_SOMETIMES | Mask_Usage_FREQUENTLY | Mask_Usage_ALWAYS | FIPS | Mask_Usage_Combined |\n",
       "|---|---|---|---|---|---|---|\n",
       "| 0.053 | 0.074 | 0.134 | 0.295 | 0.444 | 1001  | 3.950 |\n",
       "| 0.083 | 0.059 | 0.098 | 0.323 | 0.436 | 1003  | 3.884 |\n",
       "| 0.067 | 0.121 | 0.120 | 0.201 | 0.491 | 1005  | 3.861 |\n",
       "| 0.020 | 0.034 | 0.096 | 0.278 | 0.572 | 1007  | 4.328 |\n",
       "| 0.053 | 0.114 | 0.180 | 0.194 | 0.459 | 1009  | 3.839 |\n",
       "| 0.031 | 0.040 | 0.144 | 0.286 | 0.500 | 1011  | 4.156 |\n",
       "\n"
      ],
      "text/plain": [
       "  Mask_Usage_NEVER Mask_Usage_RARELY Mask_Usage_SOMETIMES Mask_Usage_FREQUENTLY\n",
       "1 0.053            0.074             0.134                0.295                \n",
       "2 0.083            0.059             0.098                0.323                \n",
       "3 0.067            0.121             0.120                0.201                \n",
       "4 0.020            0.034             0.096                0.278                \n",
       "5 0.053            0.114             0.180                0.194                \n",
       "6 0.031            0.040             0.144                0.286                \n",
       "  Mask_Usage_ALWAYS FIPS Mask_Usage_Combined\n",
       "1 0.444             1001 3.950              \n",
       "2 0.436             1003 3.884              \n",
       "3 0.491             1005 3.861              \n",
       "4 0.572             1007 4.328              \n",
       "5 0.459             1009 3.839              \n",
       "6 0.500             1011 4.156              "
      ]
     },
     "metadata": {},
     "output_type": "display_data"
    }
   ],
   "source": [
    "head(mask_use)"
   ]
  },
  {
   "cell_type": "code",
   "execution_count": 11,
   "id": "0665de4e",
   "metadata": {},
   "outputs": [
    {
     "data": {
      "text/html": [
       "<table>\n",
       "<thead><tr><th scope=col>county_name</th><th scope=col>state_abbr</th><th scope=col>state_name</th><th scope=col>FIPS</th></tr></thead>\n",
       "<tbody>\n",
       "\t<tr><td>Kent County, DE      </td><td>DE                   </td><td>Delaware             </td><td>10001                </td></tr>\n",
       "\t<tr><td>New Castle County, DE</td><td>DE                   </td><td>Delaware             </td><td>10003                </td></tr>\n",
       "\t<tr><td>Sussex County, DE    </td><td>DE                   </td><td>Delaware             </td><td>10005                </td></tr>\n",
       "</tbody>\n",
       "</table>\n"
      ],
      "text/latex": [
       "\\begin{tabular}{r|llll}\n",
       " county\\_name & state\\_abbr & state\\_name & FIPS\\\\\n",
       "\\hline\n",
       "\t Kent County, DE       & DE                    & Delaware              & 10001                \\\\\n",
       "\t New Castle County, DE & DE                    & Delaware              & 10003                \\\\\n",
       "\t Sussex County, DE     & DE                    & Delaware              & 10005                \\\\\n",
       "\\end{tabular}\n"
      ],
      "text/markdown": [
       "\n",
       "| county_name | state_abbr | state_name | FIPS |\n",
       "|---|---|---|---|\n",
       "| Kent County, DE       | DE                    | Delaware              | 10001                 |\n",
       "| New Castle County, DE | DE                    | Delaware              | 10003                 |\n",
       "| Sussex County, DE     | DE                    | Delaware              | 10005                 |\n",
       "\n"
      ],
      "text/plain": [
       "  county_name           state_abbr state_name FIPS \n",
       "1 Kent County, DE       DE         Delaware   10001\n",
       "2 New Castle County, DE DE         Delaware   10003\n",
       "3 Sussex County, DE     DE         Delaware   10005"
      ]
     },
     "metadata": {},
     "output_type": "display_data"
    }
   ],
   "source": [
    "head(FIPS_master[FIPS_master$state_name == \"Delaware\"])"
   ]
  },
  {
   "cell_type": "code",
   "execution_count": 12,
   "id": "61bdaefa",
   "metadata": {},
   "outputs": [
    {
     "data": {
      "text/html": [
       "<table>\n",
       "<thead><tr><th scope=col>Count_Less_HighSchool</th><th scope=col>Count_HighSchool</th><th scope=col>Count_Less_College</th><th scope=col>Count_Higher_College</th><th scope=col>Percent_Less_HighSchool</th><th scope=col>Percent_HighSchool</th><th scope=col>Percent_Less_College</th><th scope=col>Percent_Higher_College</th><th scope=col>FIPS</th></tr></thead>\n",
       "<tbody>\n",
       "\t<tr><td>66,816 </td><td>209,449</td><td>178,917</td><td>214,138</td><td>0.100  </td><td>0.313  </td><td>0.267  </td><td>0.320  </td><td>10000  </td></tr>\n",
       "\t<tr><td>14,834 </td><td>38,843 </td><td>36,347 </td><td>28,030 </td><td>0.126  </td><td>0.329  </td><td>0.308  </td><td>0.237  </td><td>10001  </td></tr>\n",
       "\t<tr><td>32,032 </td><td>118,233</td><td>94,434 </td><td>138,627</td><td>0.084  </td><td>0.308  </td><td>0.246  </td><td>0.362  </td><td>10003  </td></tr>\n",
       "\t<tr><td>19,950 </td><td>52,373 </td><td>48,136 </td><td>47,481 </td><td>0.119  </td><td>0.312  </td><td>0.287  </td><td>0.283  </td><td>10005  </td></tr>\n",
       "\t<tr><td>44,850 </td><td>83,185 </td><td>76,822 </td><td>289,259</td><td>0.091  </td><td>0.168  </td><td>0.155  </td><td>0.585  </td><td>11000  </td></tr>\n",
       "\t<tr><td>44,850 </td><td>83,185 </td><td>76,822 </td><td>289,259</td><td>0.091  </td><td>0.168  </td><td>0.155  </td><td>0.585  </td><td>11001  </td></tr>\n",
       "</tbody>\n",
       "</table>\n"
      ],
      "text/latex": [
       "\\begin{tabular}{r|lllllllll}\n",
       " Count\\_Less\\_HighSchool & Count\\_HighSchool & Count\\_Less\\_College & Count\\_Higher\\_College & Percent\\_Less\\_HighSchool & Percent\\_HighSchool & Percent\\_Less\\_College & Percent\\_Higher\\_College & FIPS\\\\\n",
       "\\hline\n",
       "\t 66,816  & 209,449 & 178,917 & 214,138 & 0.100   & 0.313   & 0.267   & 0.320   & 10000  \\\\\n",
       "\t 14,834  & 38,843  & 36,347  & 28,030  & 0.126   & 0.329   & 0.308   & 0.237   & 10001  \\\\\n",
       "\t 32,032  & 118,233 & 94,434  & 138,627 & 0.084   & 0.308   & 0.246   & 0.362   & 10003  \\\\\n",
       "\t 19,950  & 52,373  & 48,136  & 47,481  & 0.119   & 0.312   & 0.287   & 0.283   & 10005  \\\\\n",
       "\t 44,850  & 83,185  & 76,822  & 289,259 & 0.091   & 0.168   & 0.155   & 0.585   & 11000  \\\\\n",
       "\t 44,850  & 83,185  & 76,822  & 289,259 & 0.091   & 0.168   & 0.155   & 0.585   & 11001  \\\\\n",
       "\\end{tabular}\n"
      ],
      "text/markdown": [
       "\n",
       "| Count_Less_HighSchool | Count_HighSchool | Count_Less_College | Count_Higher_College | Percent_Less_HighSchool | Percent_HighSchool | Percent_Less_College | Percent_Higher_College | FIPS |\n",
       "|---|---|---|---|---|---|---|---|---|\n",
       "| 66,816  | 209,449 | 178,917 | 214,138 | 0.100   | 0.313   | 0.267   | 0.320   | 10000   |\n",
       "| 14,834  | 38,843  | 36,347  | 28,030  | 0.126   | 0.329   | 0.308   | 0.237   | 10001   |\n",
       "| 32,032  | 118,233 | 94,434  | 138,627 | 0.084   | 0.308   | 0.246   | 0.362   | 10003   |\n",
       "| 19,950  | 52,373  | 48,136  | 47,481  | 0.119   | 0.312   | 0.287   | 0.283   | 10005   |\n",
       "| 44,850  | 83,185  | 76,822  | 289,259 | 0.091   | 0.168   | 0.155   | 0.585   | 11000   |\n",
       "| 44,850  | 83,185  | 76,822  | 289,259 | 0.091   | 0.168   | 0.155   | 0.585   | 11001   |\n",
       "\n"
      ],
      "text/plain": [
       "  Count_Less_HighSchool Count_HighSchool Count_Less_College\n",
       "1 66,816                209,449          178,917           \n",
       "2 14,834                38,843           36,347            \n",
       "3 32,032                118,233          94,434            \n",
       "4 19,950                52,373           48,136            \n",
       "5 44,850                83,185           76,822            \n",
       "6 44,850                83,185           76,822            \n",
       "  Count_Higher_College Percent_Less_HighSchool Percent_HighSchool\n",
       "1 214,138              0.100                   0.313             \n",
       "2 28,030               0.126                   0.329             \n",
       "3 138,627              0.084                   0.308             \n",
       "4 47,481               0.119                   0.312             \n",
       "5 289,259              0.091                   0.168             \n",
       "6 289,259              0.091                   0.168             \n",
       "  Percent_Less_College Percent_Higher_College FIPS \n",
       "1 0.267                0.320                  10000\n",
       "2 0.308                0.237                  10001\n",
       "3 0.246                0.362                  10003\n",
       "4 0.287                0.283                  10005\n",
       "5 0.155                0.585                  11000\n",
       "6 0.155                0.585                  11001"
      ]
     },
     "metadata": {},
     "output_type": "display_data"
    }
   ],
   "source": [
    "head(Education_level)"
   ]
  },
  {
   "cell_type": "code",
   "execution_count": 13,
   "id": "39e42108",
   "metadata": {},
   "outputs": [
    {
     "data": {
      "text/html": [
       "<table>\n",
       "<thead><tr><th scope=col>FIPS</th><th scope=col>Trump_Win</th><th scope=col>Biden_Win</th></tr></thead>\n",
       "<tbody>\n",
       "\t<tr><td>10001</td><td>0    </td><td>1    </td></tr>\n",
       "\t<tr><td>10003</td><td>0    </td><td>1    </td></tr>\n",
       "\t<tr><td>10005</td><td>1    </td><td>0    </td></tr>\n",
       "\t<tr><td>12001</td><td>0    </td><td>1    </td></tr>\n",
       "\t<tr><td>12003</td><td>1    </td><td>0    </td></tr>\n",
       "\t<tr><td>12005</td><td>1    </td><td>0    </td></tr>\n",
       "\t<tr><td>12007</td><td>1    </td><td>0    </td></tr>\n",
       "\t<tr><td>12009</td><td>1    </td><td>0    </td></tr>\n",
       "\t<tr><td>12011</td><td>0    </td><td>1    </td></tr>\n",
       "\t<tr><td>12013</td><td>1    </td><td>0    </td></tr>\n",
       "</tbody>\n",
       "</table>\n"
      ],
      "text/latex": [
       "\\begin{tabular}{r|lll}\n",
       " FIPS & Trump\\_Win & Biden\\_Win\\\\\n",
       "\\hline\n",
       "\t 10001 & 0     & 1    \\\\\n",
       "\t 10003 & 0     & 1    \\\\\n",
       "\t 10005 & 1     & 0    \\\\\n",
       "\t 12001 & 0     & 1    \\\\\n",
       "\t 12003 & 1     & 0    \\\\\n",
       "\t 12005 & 1     & 0    \\\\\n",
       "\t 12007 & 1     & 0    \\\\\n",
       "\t 12009 & 1     & 0    \\\\\n",
       "\t 12011 & 0     & 1    \\\\\n",
       "\t 12013 & 1     & 0    \\\\\n",
       "\\end{tabular}\n"
      ],
      "text/markdown": [
       "\n",
       "| FIPS | Trump_Win | Biden_Win |\n",
       "|---|---|---|\n",
       "| 10001 | 0     | 1     |\n",
       "| 10003 | 0     | 1     |\n",
       "| 10005 | 1     | 0     |\n",
       "| 12001 | 0     | 1     |\n",
       "| 12003 | 1     | 0     |\n",
       "| 12005 | 1     | 0     |\n",
       "| 12007 | 1     | 0     |\n",
       "| 12009 | 1     | 0     |\n",
       "| 12011 | 0     | 1     |\n",
       "| 12013 | 1     | 0     |\n",
       "\n"
      ],
      "text/plain": [
       "   FIPS  Trump_Win Biden_Win\n",
       "1  10001 0         1        \n",
       "2  10003 0         1        \n",
       "3  10005 1         0        \n",
       "4  12001 0         1        \n",
       "5  12003 1         0        \n",
       "6  12005 1         0        \n",
       "7  12007 1         0        \n",
       "8  12009 1         0        \n",
       "9  12011 0         1        \n",
       "10 12013 1         0        "
      ]
     },
     "metadata": {},
     "output_type": "display_data"
    }
   ],
   "source": [
    "head(Election_decisions, 10)"
   ]
  },
  {
   "cell_type": "code",
   "execution_count": 14,
   "id": "ead0c263",
   "metadata": {},
   "outputs": [
    {
     "data": {
      "text/html": [
       "<table>\n",
       "<thead><tr><th scope=col>FIPS</th><th scope=col>LAT</th><th scope=col>LON</th></tr></thead>\n",
       "<tbody>\n",
       "\t<tr><td>1001     </td><td>32.53224 </td><td>-86.64644</td></tr>\n",
       "\t<tr><td>1003     </td><td>30.65922 </td><td>-87.74607</td></tr>\n",
       "\t<tr><td>1005     </td><td>31.87025 </td><td>-85.40510</td></tr>\n",
       "\t<tr><td>1007     </td><td>33.01589 </td><td>-87.12715</td></tr>\n",
       "\t<tr><td>1009     </td><td>33.97736 </td><td>-86.56644</td></tr>\n",
       "\t<tr><td>1011     </td><td>32.10176 </td><td>-85.71726</td></tr>\n",
       "</tbody>\n",
       "</table>\n"
      ],
      "text/latex": [
       "\\begin{tabular}{r|lll}\n",
       " FIPS & LAT & LON\\\\\n",
       "\\hline\n",
       "\t 1001      & 32.53224  & -86.64644\\\\\n",
       "\t 1003      & 30.65922  & -87.74607\\\\\n",
       "\t 1005      & 31.87025  & -85.40510\\\\\n",
       "\t 1007      & 33.01589  & -87.12715\\\\\n",
       "\t 1009      & 33.97736  & -86.56644\\\\\n",
       "\t 1011      & 32.10176  & -85.71726\\\\\n",
       "\\end{tabular}\n"
      ],
      "text/markdown": [
       "\n",
       "| FIPS | LAT | LON |\n",
       "|---|---|---|\n",
       "| 1001      | 32.53224  | -86.64644 |\n",
       "| 1003      | 30.65922  | -87.74607 |\n",
       "| 1005      | 31.87025  | -85.40510 |\n",
       "| 1007      | 33.01589  | -87.12715 |\n",
       "| 1009      | 33.97736  | -86.56644 |\n",
       "| 1011      | 32.10176  | -85.71726 |\n",
       "\n"
      ],
      "text/plain": [
       "  FIPS LAT      LON      \n",
       "1 1001 32.53224 -86.64644\n",
       "2 1003 30.65922 -87.74607\n",
       "3 1005 31.87025 -85.40510\n",
       "4 1007 33.01589 -87.12715\n",
       "5 1009 33.97736 -86.56644\n",
       "6 1011 32.10176 -85.71726"
      ]
     },
     "metadata": {},
     "output_type": "display_data"
    }
   ],
   "source": [
    "head(FIPS_to_longlat)"
   ]
  },
  {
   "cell_type": "code",
   "execution_count": 15,
   "id": "b15f0708",
   "metadata": {},
   "outputs": [
    {
     "data": {
      "text/html": [
       "<table>\n",
       "<thead><tr><th scope=col>Unemployment_2019_Value</th><th scope=col>FIPS</th></tr></thead>\n",
       "<tbody>\n",
       "\t<tr><td>3.669409</td><td>   0    </td></tr>\n",
       "\t<tr><td>3.000000</td><td>1000    </td></tr>\n",
       "\t<tr><td>2.700000</td><td>1001    </td></tr>\n",
       "\t<tr><td>2.700000</td><td>1003    </td></tr>\n",
       "\t<tr><td>3.800000</td><td>1005    </td></tr>\n",
       "\t<tr><td>3.100000</td><td>1007    </td></tr>\n",
       "</tbody>\n",
       "</table>\n"
      ],
      "text/latex": [
       "\\begin{tabular}{r|ll}\n",
       " Unemployment\\_2019\\_Value & FIPS\\\\\n",
       "\\hline\n",
       "\t 3.669409 &    0    \\\\\n",
       "\t 3.000000 & 1000    \\\\\n",
       "\t 2.700000 & 1001    \\\\\n",
       "\t 2.700000 & 1003    \\\\\n",
       "\t 3.800000 & 1005    \\\\\n",
       "\t 3.100000 & 1007    \\\\\n",
       "\\end{tabular}\n"
      ],
      "text/markdown": [
       "\n",
       "| Unemployment_2019_Value | FIPS |\n",
       "|---|---|\n",
       "| 3.669409 |    0     |\n",
       "| 3.000000 | 1000     |\n",
       "| 2.700000 | 1001     |\n",
       "| 2.700000 | 1003     |\n",
       "| 3.800000 | 1005     |\n",
       "| 3.100000 | 1007     |\n",
       "\n"
      ],
      "text/plain": [
       "  Unemployment_2019_Value FIPS\n",
       "1 3.669409                   0\n",
       "2 3.000000                1000\n",
       "3 2.700000                1001\n",
       "4 2.700000                1003\n",
       "5 3.800000                1005\n",
       "6 3.100000                1007"
      ]
     },
     "metadata": {},
     "output_type": "display_data"
    }
   ],
   "source": [
    "head(Unemployment)"
   ]
  },
  {
   "cell_type": "code",
   "execution_count": 16,
   "id": "171b2371",
   "metadata": {},
   "outputs": [
    {
     "data": {
      "text/html": [
       "<table>\n",
       "<thead><tr><th scope=col>FIPS</th><th scope=col>Change_in_Movement</th><th scope=col>Intouch_users_Proportion</th></tr></thead>\n",
       "<tbody>\n",
       "\t<tr><td>1001       </td><td>-0.05196923</td><td>0.1953131  </td></tr>\n",
       "\t<tr><td>1003       </td><td> 0.04598385</td><td>0.1708885  </td></tr>\n",
       "\t<tr><td>1005       </td><td>-0.06379846</td><td>0.1729154  </td></tr>\n",
       "\t<tr><td>1007       </td><td>-0.05512308</td><td>0.2020915  </td></tr>\n",
       "\t<tr><td>1009       </td><td>-0.05228846</td><td>0.1856385  </td></tr>\n",
       "</tbody>\n",
       "</table>\n"
      ],
      "text/latex": [
       "\\begin{tabular}{r|lll}\n",
       " FIPS & Change\\_in\\_Movement & Intouch\\_users\\_Proportion\\\\\n",
       "\\hline\n",
       "\t 1001        & -0.05196923 & 0.1953131  \\\\\n",
       "\t 1003        &  0.04598385 & 0.1708885  \\\\\n",
       "\t 1005        & -0.06379846 & 0.1729154  \\\\\n",
       "\t 1007        & -0.05512308 & 0.2020915  \\\\\n",
       "\t 1009        & -0.05228846 & 0.1856385  \\\\\n",
       "\\end{tabular}\n"
      ],
      "text/markdown": [
       "\n",
       "| FIPS | Change_in_Movement | Intouch_users_Proportion |\n",
       "|---|---|---|\n",
       "| 1001        | -0.05196923 | 0.1953131   |\n",
       "| 1003        |  0.04598385 | 0.1708885   |\n",
       "| 1005        | -0.06379846 | 0.1729154   |\n",
       "| 1007        | -0.05512308 | 0.2020915   |\n",
       "| 1009        | -0.05228846 | 0.1856385   |\n",
       "\n"
      ],
      "text/plain": [
       "  FIPS Change_in_Movement Intouch_users_Proportion\n",
       "1 1001 -0.05196923        0.1953131               \n",
       "2 1003  0.04598385        0.1708885               \n",
       "3 1005 -0.06379846        0.1729154               \n",
       "4 1007 -0.05512308        0.2020915               \n",
       "5 1009 -0.05228846        0.1856385               "
      ]
     },
     "metadata": {},
     "output_type": "display_data"
    }
   ],
   "source": [
    "head(movement_range, 5)"
   ]
  },
  {
   "cell_type": "code",
   "execution_count": 17,
   "id": "4083cae9",
   "metadata": {},
   "outputs": [
    {
     "data": {
      "text/html": [
       "<table>\n",
       "<thead><tr><th scope=col>SCI_scaled_sci</th><th scope=col>FIPS</th><th scope=col>second_FIPS</th></tr></thead>\n",
       "<tbody>\n",
       "\t<tr><td>13971142</td><td>1001    </td><td>1001    </td></tr>\n",
       "\t<tr><td>  145133</td><td>1001    </td><td>1003    </td></tr>\n",
       "\t<tr><td>  200193</td><td>1001    </td><td>1005    </td></tr>\n",
       "\t<tr><td>  371688</td><td>1001    </td><td>1007    </td></tr>\n",
       "\t<tr><td>   95859</td><td>1001    </td><td>1009    </td></tr>\n",
       "\t<tr><td>  570502</td><td>1001    </td><td>1011    </td></tr>\n",
       "</tbody>\n",
       "</table>\n"
      ],
      "text/latex": [
       "\\begin{tabular}{r|lll}\n",
       " SCI\\_scaled\\_sci & FIPS & second\\_FIPS\\\\\n",
       "\\hline\n",
       "\t 13971142 & 1001     & 1001    \\\\\n",
       "\t   145133 & 1001     & 1003    \\\\\n",
       "\t   200193 & 1001     & 1005    \\\\\n",
       "\t   371688 & 1001     & 1007    \\\\\n",
       "\t    95859 & 1001     & 1009    \\\\\n",
       "\t   570502 & 1001     & 1011    \\\\\n",
       "\\end{tabular}\n"
      ],
      "text/markdown": [
       "\n",
       "| SCI_scaled_sci | FIPS | second_FIPS |\n",
       "|---|---|---|\n",
       "| 13971142 | 1001     | 1001     |\n",
       "|   145133 | 1001     | 1003     |\n",
       "|   200193 | 1001     | 1005     |\n",
       "|   371688 | 1001     | 1007     |\n",
       "|    95859 | 1001     | 1009     |\n",
       "|   570502 | 1001     | 1011     |\n",
       "\n"
      ],
      "text/plain": [
       "  SCI_scaled_sci FIPS second_FIPS\n",
       "1 13971142       1001 1001       \n",
       "2   145133       1001 1003       \n",
       "3   200193       1001 1005       \n",
       "4   371688       1001 1007       \n",
       "5    95859       1001 1009       \n",
       "6   570502       1001 1011       "
      ]
     },
     "metadata": {},
     "output_type": "display_data"
    }
   ],
   "source": [
    "head(SCI)"
   ]
  },
  {
   "cell_type": "code",
   "execution_count": 18,
   "id": "508e054c",
   "metadata": {},
   "outputs": [
    {
     "data": {
      "text/html": [
       "<table>\n",
       "<thead><tr><th scope=col>FIPS</th><th scope=col>Population_Density</th></tr></thead>\n",
       "<tbody>\n",
       "\t<tr><td>1001    </td><td>35.85342</td></tr>\n",
       "\t<tr><td>1003    </td><td>50.54150</td></tr>\n",
       "\t<tr><td>1005    </td><td>11.24798</td></tr>\n",
       "\t<tr><td>1007    </td><td>13.97311</td></tr>\n",
       "\t<tr><td>1009    </td><td>34.51582</td></tr>\n",
       "\t<tr><td>1011    </td><td> 6.41762</td></tr>\n",
       "</tbody>\n",
       "</table>\n"
      ],
      "text/latex": [
       "\\begin{tabular}{r|ll}\n",
       " FIPS & Population\\_Density\\\\\n",
       "\\hline\n",
       "\t 1001     & 35.85342\\\\\n",
       "\t 1003     & 50.54150\\\\\n",
       "\t 1005     & 11.24798\\\\\n",
       "\t 1007     & 13.97311\\\\\n",
       "\t 1009     & 34.51582\\\\\n",
       "\t 1011     &  6.41762\\\\\n",
       "\\end{tabular}\n"
      ],
      "text/markdown": [
       "\n",
       "| FIPS | Population_Density |\n",
       "|---|---|\n",
       "| 1001     | 35.85342 |\n",
       "| 1003     | 50.54150 |\n",
       "| 1005     | 11.24798 |\n",
       "| 1007     | 13.97311 |\n",
       "| 1009     | 34.51582 |\n",
       "| 1011     |  6.41762 |\n",
       "\n"
      ],
      "text/plain": [
       "  FIPS Population_Density\n",
       "1 1001 35.85342          \n",
       "2 1003 50.54150          \n",
       "3 1005 11.24798          \n",
       "4 1007 13.97311          \n",
       "5 1009 34.51582          \n",
       "6 1011  6.41762          "
      ]
     },
     "metadata": {},
     "output_type": "display_data"
    }
   ],
   "source": [
    "head(Population_density)"
   ]
  },
  {
   "cell_type": "code",
   "execution_count": 19,
   "id": "68ab20a2",
   "metadata": {},
   "outputs": [
    {
     "data": {
      "text/html": [
       "<table>\n",
       "<thead><tr><th scope=col>Total_Population</th><th scope=col>Urban_Population</th><th scope=col>Rural_Population</th><th scope=col>Percent_Rural</th><th scope=col>FIPS</th></tr></thead>\n",
       "<tbody>\n",
       "\t<tr><td>54,571 </td><td>31,650 </td><td>22,921 </td><td>0.420  </td><td>1001   </td></tr>\n",
       "\t<tr><td>182,265</td><td>105,205</td><td>77,060 </td><td>0.423  </td><td>1003   </td></tr>\n",
       "\t<tr><td>27,457 </td><td>8,844  </td><td>18,613 </td><td>0.678  </td><td>1005   </td></tr>\n",
       "\t<tr><td>22,915 </td><td>7,252  </td><td>15,663 </td><td>0.684  </td><td>1007   </td></tr>\n",
       "\t<tr><td>57,322 </td><td>5,760  </td><td>51,562 </td><td>0.900  </td><td>1009   </td></tr>\n",
       "\t<tr><td>10,914 </td><td>5,307  </td><td>5,607  </td><td>0.514  </td><td>1011   </td></tr>\n",
       "</tbody>\n",
       "</table>\n"
      ],
      "text/latex": [
       "\\begin{tabular}{r|lllll}\n",
       " Total\\_Population & Urban\\_Population & Rural\\_Population & Percent\\_Rural & FIPS\\\\\n",
       "\\hline\n",
       "\t 54,571  & 31,650  & 22,921  & 0.420   & 1001   \\\\\n",
       "\t 182,265 & 105,205 & 77,060  & 0.423   & 1003   \\\\\n",
       "\t 27,457  & 8,844   & 18,613  & 0.678   & 1005   \\\\\n",
       "\t 22,915  & 7,252   & 15,663  & 0.684   & 1007   \\\\\n",
       "\t 57,322  & 5,760   & 51,562  & 0.900   & 1009   \\\\\n",
       "\t 10,914  & 5,307   & 5,607   & 0.514   & 1011   \\\\\n",
       "\\end{tabular}\n"
      ],
      "text/markdown": [
       "\n",
       "| Total_Population | Urban_Population | Rural_Population | Percent_Rural | FIPS |\n",
       "|---|---|---|---|---|\n",
       "| 54,571  | 31,650  | 22,921  | 0.420   | 1001    |\n",
       "| 182,265 | 105,205 | 77,060  | 0.423   | 1003    |\n",
       "| 27,457  | 8,844   | 18,613  | 0.678   | 1005    |\n",
       "| 22,915  | 7,252   | 15,663  | 0.684   | 1007    |\n",
       "| 57,322  | 5,760   | 51,562  | 0.900   | 1009    |\n",
       "| 10,914  | 5,307   | 5,607   | 0.514   | 1011    |\n",
       "\n"
      ],
      "text/plain": [
       "  Total_Population Urban_Population Rural_Population Percent_Rural FIPS\n",
       "1 54,571           31,650           22,921           0.420         1001\n",
       "2 182,265          105,205          77,060           0.423         1003\n",
       "3 27,457           8,844            18,613           0.678         1005\n",
       "4 22,915           7,252            15,663           0.684         1007\n",
       "5 57,322           5,760            51,562           0.900         1009\n",
       "6 10,914           5,307            5,607            0.514         1011"
      ]
     },
     "metadata": {},
     "output_type": "display_data"
    }
   ],
   "source": [
    "head(Rural_percentage)"
   ]
  },
  {
   "cell_type": "code",
   "execution_count": 20,
   "id": "0a413af5",
   "metadata": {},
   "outputs": [
    {
     "data": {
      "text/html": [
       "<table>\n",
       "<thead><tr><th scope=col>COVID_Closures_V2</th><th scope=col>COVID_Closures_V3</th><th scope=col>COVID_Closures_stay at home</th><th scope=col>COVID_Closures_&gt;50 gatherings</th><th scope=col>COVID_Closures_&gt;500 gatherings</th><th scope=col>COVID_Closures_public schools</th><th scope=col>COVID_Closures_restaurant dine-in</th><th scope=col>COVID_Closures_entertainment/gym</th><th scope=col>COVID_Closures_Federal guidelines</th><th scope=col>COVID_Closures_foreign travel ban</th><th scope=col>FIPS</th></tr></thead>\n",
       "<tbody>\n",
       "\t<tr><td>alabama       </td><td>AL            </td><td>4-Apr         </td><td>20-Mar        </td><td>13-Mar        </td><td>16-Mar        </td><td>19-Mar        </td><td>28-Mar        </td><td>16-Mar        </td><td>11-Mar        </td><td>1000          </td></tr>\n",
       "\t<tr><td>autauga county</td><td>AL            </td><td>4-Apr         </td><td>20-Mar        </td><td>13-Mar        </td><td>16-Mar        </td><td>19-Mar        </td><td>28-Mar        </td><td>16-Mar        </td><td>11-Mar        </td><td>1001          </td></tr>\n",
       "\t<tr><td>baldwin county</td><td>AL            </td><td>4-Apr         </td><td>20-Mar        </td><td>13-Mar        </td><td>16-Mar        </td><td>19-Mar        </td><td>28-Mar        </td><td>16-Mar        </td><td>11-Mar        </td><td>1003          </td></tr>\n",
       "\t<tr><td>barbour county</td><td>AL            </td><td>4-Apr         </td><td>20-Mar        </td><td>13-Mar        </td><td>16-Mar        </td><td>19-Mar        </td><td>28-Mar        </td><td>16-Mar        </td><td>11-Mar        </td><td>1005          </td></tr>\n",
       "\t<tr><td>bibb county   </td><td>AL            </td><td>4-Apr         </td><td>20-Mar        </td><td>13-Mar        </td><td>16-Mar        </td><td>19-Mar        </td><td>28-Mar        </td><td>16-Mar        </td><td>11-Mar        </td><td>1007          </td></tr>\n",
       "\t<tr><td>blount county </td><td>AL            </td><td>4-Apr         </td><td>20-Mar        </td><td>13-Mar        </td><td>16-Mar        </td><td>19-Mar        </td><td>28-Mar        </td><td>16-Mar        </td><td>11-Mar        </td><td>1009          </td></tr>\n",
       "</tbody>\n",
       "</table>\n"
      ],
      "text/latex": [
       "\\begin{tabular}{r|lllllllllll}\n",
       " COVID\\_Closures\\_V2 & COVID\\_Closures\\_V3 & COVID\\_Closures\\_stay at home & COVID\\_Closures\\_>50 gatherings & COVID\\_Closures\\_>500 gatherings & COVID\\_Closures\\_public schools & COVID\\_Closures\\_restaurant dine-in & COVID\\_Closures\\_entertainment/gym & COVID\\_Closures\\_Federal guidelines & COVID\\_Closures\\_foreign travel ban & FIPS\\\\\n",
       "\\hline\n",
       "\t alabama        & AL             & 4-Apr          & 20-Mar         & 13-Mar         & 16-Mar         & 19-Mar         & 28-Mar         & 16-Mar         & 11-Mar         & 1000          \\\\\n",
       "\t autauga county & AL             & 4-Apr          & 20-Mar         & 13-Mar         & 16-Mar         & 19-Mar         & 28-Mar         & 16-Mar         & 11-Mar         & 1001          \\\\\n",
       "\t baldwin county & AL             & 4-Apr          & 20-Mar         & 13-Mar         & 16-Mar         & 19-Mar         & 28-Mar         & 16-Mar         & 11-Mar         & 1003          \\\\\n",
       "\t barbour county & AL             & 4-Apr          & 20-Mar         & 13-Mar         & 16-Mar         & 19-Mar         & 28-Mar         & 16-Mar         & 11-Mar         & 1005          \\\\\n",
       "\t bibb county    & AL             & 4-Apr          & 20-Mar         & 13-Mar         & 16-Mar         & 19-Mar         & 28-Mar         & 16-Mar         & 11-Mar         & 1007          \\\\\n",
       "\t blount county  & AL             & 4-Apr          & 20-Mar         & 13-Mar         & 16-Mar         & 19-Mar         & 28-Mar         & 16-Mar         & 11-Mar         & 1009          \\\\\n",
       "\\end{tabular}\n"
      ],
      "text/markdown": [
       "\n",
       "| COVID_Closures_V2 | COVID_Closures_V3 | COVID_Closures_stay at home | COVID_Closures_>50 gatherings | COVID_Closures_>500 gatherings | COVID_Closures_public schools | COVID_Closures_restaurant dine-in | COVID_Closures_entertainment/gym | COVID_Closures_Federal guidelines | COVID_Closures_foreign travel ban | FIPS |\n",
       "|---|---|---|---|---|---|---|---|---|---|---|\n",
       "| alabama        | AL             | 4-Apr          | 20-Mar         | 13-Mar         | 16-Mar         | 19-Mar         | 28-Mar         | 16-Mar         | 11-Mar         | 1000           |\n",
       "| autauga county | AL             | 4-Apr          | 20-Mar         | 13-Mar         | 16-Mar         | 19-Mar         | 28-Mar         | 16-Mar         | 11-Mar         | 1001           |\n",
       "| baldwin county | AL             | 4-Apr          | 20-Mar         | 13-Mar         | 16-Mar         | 19-Mar         | 28-Mar         | 16-Mar         | 11-Mar         | 1003           |\n",
       "| barbour county | AL             | 4-Apr          | 20-Mar         | 13-Mar         | 16-Mar         | 19-Mar         | 28-Mar         | 16-Mar         | 11-Mar         | 1005           |\n",
       "| bibb county    | AL             | 4-Apr          | 20-Mar         | 13-Mar         | 16-Mar         | 19-Mar         | 28-Mar         | 16-Mar         | 11-Mar         | 1007           |\n",
       "| blount county  | AL             | 4-Apr          | 20-Mar         | 13-Mar         | 16-Mar         | 19-Mar         | 28-Mar         | 16-Mar         | 11-Mar         | 1009           |\n",
       "\n"
      ],
      "text/plain": [
       "  COVID_Closures_V2 COVID_Closures_V3 COVID_Closures_stay at home\n",
       "1 alabama           AL                4-Apr                      \n",
       "2 autauga county    AL                4-Apr                      \n",
       "3 baldwin county    AL                4-Apr                      \n",
       "4 barbour county    AL                4-Apr                      \n",
       "5 bibb county       AL                4-Apr                      \n",
       "6 blount county     AL                4-Apr                      \n",
       "  COVID_Closures_>50 gatherings COVID_Closures_>500 gatherings\n",
       "1 20-Mar                        13-Mar                        \n",
       "2 20-Mar                        13-Mar                        \n",
       "3 20-Mar                        13-Mar                        \n",
       "4 20-Mar                        13-Mar                        \n",
       "5 20-Mar                        13-Mar                        \n",
       "6 20-Mar                        13-Mar                        \n",
       "  COVID_Closures_public schools COVID_Closures_restaurant dine-in\n",
       "1 16-Mar                        19-Mar                           \n",
       "2 16-Mar                        19-Mar                           \n",
       "3 16-Mar                        19-Mar                           \n",
       "4 16-Mar                        19-Mar                           \n",
       "5 16-Mar                        19-Mar                           \n",
       "6 16-Mar                        19-Mar                           \n",
       "  COVID_Closures_entertainment/gym COVID_Closures_Federal guidelines\n",
       "1 28-Mar                           16-Mar                           \n",
       "2 28-Mar                           16-Mar                           \n",
       "3 28-Mar                           16-Mar                           \n",
       "4 28-Mar                           16-Mar                           \n",
       "5 28-Mar                           16-Mar                           \n",
       "6 28-Mar                           16-Mar                           \n",
       "  COVID_Closures_foreign travel ban FIPS\n",
       "1 11-Mar                            1000\n",
       "2 11-Mar                            1001\n",
       "3 11-Mar                            1003\n",
       "4 11-Mar                            1005\n",
       "5 11-Mar                            1007\n",
       "6 11-Mar                            1009"
      ]
     },
     "metadata": {},
     "output_type": "display_data"
    }
   ],
   "source": [
    "head(COVID_closures)"
   ]
  },
  {
   "cell_type": "code",
   "execution_count": 21,
   "id": "801aadd4",
   "metadata": {},
   "outputs": [
    {
     "data": {
      "text/html": [
       "<table>\n",
       "<thead><tr><th scope=col>COVID_Average_Confirmed</th><th scope=col>FIPS</th></tr></thead>\n",
       "<tbody>\n",
       "\t<tr><td>16.830769</td><td>1001     </td></tr>\n",
       "\t<tr><td>93.984615</td><td>1003     </td></tr>\n",
       "\t<tr><td>10.300000</td><td>1005     </td></tr>\n",
       "\t<tr><td> 5.592308</td><td>1007     </td></tr>\n",
       "\t<tr><td>15.792308</td><td>1009     </td></tr>\n",
       "\t<tr><td> 2.507692</td><td>1011     </td></tr>\n",
       "</tbody>\n",
       "</table>\n"
      ],
      "text/latex": [
       "\\begin{tabular}{r|ll}\n",
       " COVID\\_Average\\_Confirmed & FIPS\\\\\n",
       "\\hline\n",
       "\t 16.830769 & 1001     \\\\\n",
       "\t 93.984615 & 1003     \\\\\n",
       "\t 10.300000 & 1005     \\\\\n",
       "\t  5.592308 & 1007     \\\\\n",
       "\t 15.792308 & 1009     \\\\\n",
       "\t  2.507692 & 1011     \\\\\n",
       "\\end{tabular}\n"
      ],
      "text/markdown": [
       "\n",
       "| COVID_Average_Confirmed | FIPS |\n",
       "|---|---|\n",
       "| 16.830769 | 1001      |\n",
       "| 93.984615 | 1003      |\n",
       "| 10.300000 | 1005      |\n",
       "|  5.592308 | 1007      |\n",
       "| 15.792308 | 1009      |\n",
       "|  2.507692 | 1011      |\n",
       "\n"
      ],
      "text/plain": [
       "  COVID_Average_Confirmed FIPS\n",
       "1 16.830769               1001\n",
       "2 93.984615               1003\n",
       "3 10.300000               1005\n",
       "4  5.592308               1007\n",
       "5 15.792308               1009\n",
       "6  2.507692               1011"
      ]
     },
     "metadata": {},
     "output_type": "display_data"
    }
   ],
   "source": [
    "head(COVID_confirmed_cases)  # 7-day rolling average of new confirmed cases of Covid-19"
   ]
  },
  {
   "cell_type": "code",
   "execution_count": 4,
   "id": "3e43cff3",
   "metadata": {},
   "outputs": [
    {
     "data": {
      "text/html": [
       "<table>\n",
       "<thead><tr><th scope=col>Poverty_Estimates_Value</th><th scope=col>FIPS</th></tr></thead>\n",
       "<tbody>\n",
       "\t<tr><td>39490096</td><td>   0    </td></tr>\n",
       "\t<tr><td>  747478</td><td>1000    </td></tr>\n",
       "\t<tr><td>    6723</td><td>1001    </td></tr>\n",
       "\t<tr><td>   22360</td><td>1003    </td></tr>\n",
       "\t<tr><td>    5909</td><td>1005    </td></tr>\n",
       "\t<tr><td>    4101</td><td>1007    </td></tr>\n",
       "</tbody>\n",
       "</table>\n"
      ],
      "text/latex": [
       "\\begin{tabular}{r|ll}\n",
       " Poverty\\_Estimates\\_Value & FIPS\\\\\n",
       "\\hline\n",
       "\t 39490096 &    0    \\\\\n",
       "\t   747478 & 1000    \\\\\n",
       "\t     6723 & 1001    \\\\\n",
       "\t    22360 & 1003    \\\\\n",
       "\t     5909 & 1005    \\\\\n",
       "\t     4101 & 1007    \\\\\n",
       "\\end{tabular}\n"
      ],
      "text/markdown": [
       "\n",
       "| Poverty_Estimates_Value | FIPS |\n",
       "|---|---|\n",
       "| 39490096 |    0     |\n",
       "|   747478 | 1000     |\n",
       "|     6723 | 1001     |\n",
       "|    22360 | 1003     |\n",
       "|     5909 | 1005     |\n",
       "|     4101 | 1007     |\n",
       "\n"
      ],
      "text/plain": [
       "  Poverty_Estimates_Value FIPS\n",
       "1 39490096                   0\n",
       "2   747478                1000\n",
       "3     6723                1001\n",
       "4    22360                1003\n",
       "5     5909                1005\n",
       "6     4101                1007"
      ]
     },
     "metadata": {},
     "output_type": "display_data"
    }
   ],
   "source": [
    "head(Poverty_estimate)"
   ]
  },
  {
   "cell_type": "code",
   "execution_count": 22,
   "id": "5b3de1d8",
   "metadata": {},
   "outputs": [
    {
     "data": {
      "text/html": [
       "<table>\n",
       "<thead><tr><th scope=col>COVID_Average_Death</th><th scope=col>FIPS</th></tr></thead>\n",
       "<tbody>\n",
       "\t<tr><td>0.253846154</td><td>1001       </td></tr>\n",
       "\t<tr><td>0.123076923</td><td>1003       </td></tr>\n",
       "\t<tr><td>0.061538462</td><td>1005       </td></tr>\n",
       "\t<tr><td>0.007692308</td><td>1007       </td></tr>\n",
       "\t<tr><td>0.000000000</td><td>1009       </td></tr>\n",
       "\t<tr><td>0.053846154</td><td>1011       </td></tr>\n",
       "</tbody>\n",
       "</table>\n"
      ],
      "text/latex": [
       "\\begin{tabular}{r|ll}\n",
       " COVID\\_Average\\_Death & FIPS\\\\\n",
       "\\hline\n",
       "\t 0.253846154 & 1001       \\\\\n",
       "\t 0.123076923 & 1003       \\\\\n",
       "\t 0.061538462 & 1005       \\\\\n",
       "\t 0.007692308 & 1007       \\\\\n",
       "\t 0.000000000 & 1009       \\\\\n",
       "\t 0.053846154 & 1011       \\\\\n",
       "\\end{tabular}\n"
      ],
      "text/markdown": [
       "\n",
       "| COVID_Average_Death | FIPS |\n",
       "|---|---|\n",
       "| 0.253846154 | 1001        |\n",
       "| 0.123076923 | 1003        |\n",
       "| 0.061538462 | 1005        |\n",
       "| 0.007692308 | 1007        |\n",
       "| 0.000000000 | 1009        |\n",
       "| 0.053846154 | 1011        |\n",
       "\n"
      ],
      "text/plain": [
       "  COVID_Average_Death FIPS\n",
       "1 0.253846154         1001\n",
       "2 0.123076923         1003\n",
       "3 0.061538462         1005\n",
       "4 0.007692308         1007\n",
       "5 0.000000000         1009\n",
       "6 0.053846154         1011"
      ]
     },
     "metadata": {},
     "output_type": "display_data"
    }
   ],
   "source": [
    "head(COVID_death_cases) # 7-day rolling average of new deaths attributed to Covid-19."
   ]
  },
  {
   "cell_type": "code",
   "execution_count": 23,
   "id": "ee69f530",
   "metadata": {},
   "outputs": [
    {
     "data": {
      "text/html": [
       "<table>\n",
       "<thead><tr><th scope=col>COVID_Essential_Workers_pct_essential</th><th scope=col>FIPS</th></tr></thead>\n",
       "<tbody>\n",
       "\t<tr><td>0.6130137</td><td>17051    </td></tr>\n",
       "\t<tr><td>0.5316272</td><td>17107    </td></tr>\n",
       "\t<tr><td>0.5724096</td><td>17165    </td></tr>\n",
       "\t<tr><td>0.3737092</td><td>17097    </td></tr>\n",
       "\t<tr><td>0.5440028</td><td>17127    </td></tr>\n",
       "\t<tr><td>0.6343259</td><td>17017    </td></tr>\n",
       "</tbody>\n",
       "</table>\n"
      ],
      "text/latex": [
       "\\begin{tabular}{r|ll}\n",
       " COVID\\_Essential\\_Workers\\_pct\\_essential & FIPS\\\\\n",
       "\\hline\n",
       "\t 0.6130137 & 17051    \\\\\n",
       "\t 0.5316272 & 17107    \\\\\n",
       "\t 0.5724096 & 17165    \\\\\n",
       "\t 0.3737092 & 17097    \\\\\n",
       "\t 0.5440028 & 17127    \\\\\n",
       "\t 0.6343259 & 17017    \\\\\n",
       "\\end{tabular}\n"
      ],
      "text/markdown": [
       "\n",
       "| COVID_Essential_Workers_pct_essential | FIPS |\n",
       "|---|---|\n",
       "| 0.6130137 | 17051     |\n",
       "| 0.5316272 | 17107     |\n",
       "| 0.5724096 | 17165     |\n",
       "| 0.3737092 | 17097     |\n",
       "| 0.5440028 | 17127     |\n",
       "| 0.6343259 | 17017     |\n",
       "\n"
      ],
      "text/plain": [
       "  COVID_Essential_Workers_pct_essential FIPS \n",
       "1 0.6130137                             17051\n",
       "2 0.5316272                             17107\n",
       "3 0.5724096                             17165\n",
       "4 0.3737092                             17097\n",
       "5 0.5440028                             17127\n",
       "6 0.6343259                             17017"
      ]
     },
     "metadata": {},
     "output_type": "display_data"
    }
   ],
   "source": [
    "head(COVID_essential_workers)"
   ]
  },
  {
   "cell_type": "code",
   "execution_count": 24,
   "id": "5320ec26",
   "metadata": {},
   "outputs": [
    {
     "data": {
      "text/html": [
       "<table>\n",
       "<thead><tr><th scope=col>COVID_Hospital_All_Beds</th><th scope=col>COVID_Hospital_Occupancy_Rate</th><th scope=col>FIPS</th></tr></thead>\n",
       "<tbody>\n",
       "\t<tr><td>  0  </td><td>0.000</td><td>18097</td></tr>\n",
       "\t<tr><td> 20  </td><td>0.000</td><td>25009</td></tr>\n",
       "\t<tr><td>  0  </td><td>0.000</td><td>17119</td></tr>\n",
       "\t<tr><td>212  </td><td>0.610</td><td>72099</td></tr>\n",
       "\t<tr><td>742  </td><td>0.505</td><td>34025</td></tr>\n",
       "\t<tr><td>310  </td><td>0.000</td><td>36087</td></tr>\n",
       "</tbody>\n",
       "</table>\n"
      ],
      "text/latex": [
       "\\begin{tabular}{r|lll}\n",
       " COVID\\_Hospital\\_All\\_Beds & COVID\\_Hospital\\_Occupancy\\_Rate & FIPS\\\\\n",
       "\\hline\n",
       "\t   0   & 0.000 & 18097\\\\\n",
       "\t  20   & 0.000 & 25009\\\\\n",
       "\t   0   & 0.000 & 17119\\\\\n",
       "\t 212   & 0.610 & 72099\\\\\n",
       "\t 742   & 0.505 & 34025\\\\\n",
       "\t 310   & 0.000 & 36087\\\\\n",
       "\\end{tabular}\n"
      ],
      "text/markdown": [
       "\n",
       "| COVID_Hospital_All_Beds | COVID_Hospital_Occupancy_Rate | FIPS |\n",
       "|---|---|---|\n",
       "|   0   | 0.000 | 18097 |\n",
       "|  20   | 0.000 | 25009 |\n",
       "|   0   | 0.000 | 17119 |\n",
       "| 212   | 0.610 | 72099 |\n",
       "| 742   | 0.505 | 34025 |\n",
       "| 310   | 0.000 | 36087 |\n",
       "\n"
      ],
      "text/plain": [
       "  COVID_Hospital_All_Beds COVID_Hospital_Occupancy_Rate FIPS \n",
       "1   0                     0.000                         18097\n",
       "2  20                     0.000                         25009\n",
       "3   0                     0.000                         17119\n",
       "4 212                     0.610                         72099\n",
       "5 742                     0.505                         34025\n",
       "6 310                     0.000                         36087"
      ]
     },
     "metadata": {},
     "output_type": "display_data"
    }
   ],
   "source": [
    "head(COVID_hospital_locations)"
   ]
  },
  {
   "cell_type": "code",
   "execution_count": 25,
   "id": "e902b19a",
   "metadata": {},
   "outputs": [
    {
     "data": {
      "text/html": [
       "<table>\n",
       "<thead><tr><th scope=col>COVID_Average_TestCapacity</th><th scope=col>FIPS</th></tr></thead>\n",
       "<tbody>\n",
       "\t<tr><td>313.7231</td><td>1001    </td></tr>\n",
       "\t<tr><td>260.4000</td><td>1003    </td></tr>\n",
       "\t<tr><td>165.5154</td><td>1005    </td></tr>\n",
       "\t<tr><td>162.8385</td><td>1007    </td></tr>\n",
       "\t<tr><td>173.4000</td><td>1009    </td></tr>\n",
       "\t<tr><td>252.4462</td><td>1011    </td></tr>\n",
       "</tbody>\n",
       "</table>\n"
      ],
      "text/latex": [
       "\\begin{tabular}{r|ll}\n",
       " COVID\\_Average\\_TestCapacity & FIPS\\\\\n",
       "\\hline\n",
       "\t 313.7231 & 1001    \\\\\n",
       "\t 260.4000 & 1003    \\\\\n",
       "\t 165.5154 & 1005    \\\\\n",
       "\t 162.8385 & 1007    \\\\\n",
       "\t 173.4000 & 1009    \\\\\n",
       "\t 252.4462 & 1011    \\\\\n",
       "\\end{tabular}\n"
      ],
      "text/markdown": [
       "\n",
       "| COVID_Average_TestCapacity | FIPS |\n",
       "|---|---|\n",
       "| 313.7231 | 1001     |\n",
       "| 260.4000 | 1003     |\n",
       "| 165.5154 | 1005     |\n",
       "| 162.8385 | 1007     |\n",
       "| 173.4000 | 1009     |\n",
       "| 252.4462 | 1011     |\n",
       "\n"
      ],
      "text/plain": [
       "  COVID_Average_TestCapacity FIPS\n",
       "1 313.7231                   1001\n",
       "2 260.4000                   1003\n",
       "3 165.5154                   1005\n",
       "4 162.8385                   1007\n",
       "5 173.4000                   1009\n",
       "6 252.4462                   1011"
      ]
     },
     "metadata": {},
     "output_type": "display_data"
    }
   ],
   "source": [
    "head(COVID_testing_capacity) # 7-day rolling average of tests completed per 100k population in the county"
   ]
  },
  {
   "cell_type": "code",
   "execution_count": 26,
   "id": "2c02d5ed",
   "metadata": {},
   "outputs": [
    {
     "data": {
      "text/html": [
       "<table>\n",
       "<thead><tr><th scope=col>COVID_Clinic_Testing</th><th scope=col>FIPS</th></tr></thead>\n",
       "<tbody>\n",
       "\t<tr><td>1    </td><td>66010</td></tr>\n",
       "\t<tr><td>1    </td><td>66010</td></tr>\n",
       "\t<tr><td>1    </td><td>69120</td></tr>\n",
       "\t<tr><td>1    </td><td>69110</td></tr>\n",
       "\t<tr><td>1    </td><td>60050</td></tr>\n",
       "\t<tr><td>1    </td><td>60050</td></tr>\n",
       "</tbody>\n",
       "</table>\n"
      ],
      "text/latex": [
       "\\begin{tabular}{r|ll}\n",
       " COVID\\_Clinic\\_Testing & FIPS\\\\\n",
       "\\hline\n",
       "\t 1     & 66010\\\\\n",
       "\t 1     & 66010\\\\\n",
       "\t 1     & 69120\\\\\n",
       "\t 1     & 69110\\\\\n",
       "\t 1     & 60050\\\\\n",
       "\t 1     & 60050\\\\\n",
       "\\end{tabular}\n"
      ],
      "text/markdown": [
       "\n",
       "| COVID_Clinic_Testing | FIPS |\n",
       "|---|---|\n",
       "| 1     | 66010 |\n",
       "| 1     | 66010 |\n",
       "| 1     | 69120 |\n",
       "| 1     | 69110 |\n",
       "| 1     | 60050 |\n",
       "| 1     | 60050 |\n",
       "\n"
      ],
      "text/plain": [
       "  COVID_Clinic_Testing FIPS \n",
       "1 1                    66010\n",
       "2 1                    66010\n",
       "3 1                    69120\n",
       "4 1                    69110\n",
       "5 1                    60050\n",
       "6 1                    60050"
      ]
     },
     "metadata": {},
     "output_type": "display_data"
    }
   ],
   "source": [
    "head(COVID_testing_clinics)"
   ]
  },
  {
   "cell_type": "code",
   "execution_count": 27,
   "id": "e70510fd",
   "metadata": {},
   "outputs": [
    {
     "data": {
      "text/html": [
       "<table>\n",
       "<thead><tr><th scope=col>COVID_Average_Testing</th><th scope=col>FIPS</th></tr></thead>\n",
       "<tbody>\n",
       "\t<tr><td>173.74615</td><td>1001     </td></tr>\n",
       "\t<tr><td>554.18462</td><td>1003     </td></tr>\n",
       "\t<tr><td> 41.97692</td><td>1005     </td></tr>\n",
       "\t<tr><td> 36.63846</td><td>1007     </td></tr>\n",
       "\t<tr><td>100.02308</td><td>1009     </td></tr>\n",
       "\t<tr><td> 25.87692</td><td>1011     </td></tr>\n",
       "</tbody>\n",
       "</table>\n"
      ],
      "text/latex": [
       "\\begin{tabular}{r|ll}\n",
       " COVID\\_Average\\_Testing & FIPS\\\\\n",
       "\\hline\n",
       "\t 173.74615 & 1001     \\\\\n",
       "\t 554.18462 & 1003     \\\\\n",
       "\t  41.97692 & 1005     \\\\\n",
       "\t  36.63846 & 1007     \\\\\n",
       "\t 100.02308 & 1009     \\\\\n",
       "\t  25.87692 & 1011     \\\\\n",
       "\\end{tabular}\n"
      ],
      "text/markdown": [
       "\n",
       "| COVID_Average_Testing | FIPS |\n",
       "|---|---|\n",
       "| 173.74615 | 1001      |\n",
       "| 554.18462 | 1003      |\n",
       "|  41.97692 | 1005      |\n",
       "|  36.63846 | 1007      |\n",
       "| 100.02308 | 1009      |\n",
       "|  25.87692 | 1011      |\n",
       "\n"
      ],
      "text/plain": [
       "  COVID_Average_Testing FIPS\n",
       "1 173.74615             1001\n",
       "2 554.18462             1003\n",
       "3  41.97692             1005\n",
       "4  36.63846             1007\n",
       "5 100.02308             1009\n",
       "6  25.87692             1011"
      ]
     },
     "metadata": {},
     "output_type": "display_data"
    }
   ],
   "source": [
    "head(COVID_testing_counts) # 7-day rolling average of total tests completed"
   ]
  },
  {
   "cell_type": "code",
   "execution_count": 224,
   "id": "5226cc33",
   "metadata": {},
   "outputs": [
    {
     "data": {
      "text/html": [
       "<table>\n",
       "<thead><tr><th scope=col>FIPS</th><th scope=col>Vaccine_completeness_pct</th></tr></thead>\n",
       "<tbody>\n",
       "\t<tr><td>1001      </td><td>0.08196067</td></tr>\n",
       "\t<tr><td>1003      </td><td>0.11169101</td></tr>\n",
       "\t<tr><td>1005      </td><td>0.08088764</td></tr>\n",
       "\t<tr><td>1007      </td><td>0.07486517</td></tr>\n",
       "\t<tr><td>1009      </td><td>0.06486517</td></tr>\n",
       "\t<tr><td>1011      </td><td>0.12137079</td></tr>\n",
       "</tbody>\n",
       "</table>\n"
      ],
      "text/latex": [
       "\\begin{tabular}{r|ll}\n",
       " FIPS & Vaccine\\_completeness\\_pct\\\\\n",
       "\\hline\n",
       "\t 1001       & 0.08196067\\\\\n",
       "\t 1003       & 0.11169101\\\\\n",
       "\t 1005       & 0.08088764\\\\\n",
       "\t 1007       & 0.07486517\\\\\n",
       "\t 1009       & 0.06486517\\\\\n",
       "\t 1011       & 0.12137079\\\\\n",
       "\\end{tabular}\n"
      ],
      "text/markdown": [
       "\n",
       "| FIPS | Vaccine_completeness_pct |\n",
       "|---|---|\n",
       "| 1001       | 0.08196067 |\n",
       "| 1003       | 0.11169101 |\n",
       "| 1005       | 0.08088764 |\n",
       "| 1007       | 0.07486517 |\n",
       "| 1009       | 0.06486517 |\n",
       "| 1011       | 0.12137079 |\n",
       "\n"
      ],
      "text/plain": [
       "  FIPS Vaccine_completeness_pct\n",
       "1 1001 0.08196067              \n",
       "2 1003 0.11169101              \n",
       "3 1005 0.08088764              \n",
       "4 1007 0.07486517              \n",
       "5 1009 0.06486517              \n",
       "6 1011 0.12137079              "
      ]
     },
     "metadata": {},
     "output_type": "display_data"
    }
   ],
   "source": [
    "head(Vaccine)"
   ]
  },
  {
   "cell_type": "code",
   "execution_count": 225,
   "id": "43be90d7",
   "metadata": {},
   "outputs": [
    {
     "data": {
      "text/html": [
       "<table>\n",
       "<thead><tr><th scope=col>FIPS</th><th scope=col>Crime_per_100K</th></tr></thead>\n",
       "<tbody>\n",
       "\t<tr><td>45001    </td><td>511.85668</td></tr>\n",
       "\t<tr><td>22001    </td><td>163.97659</td></tr>\n",
       "\t<tr><td>51001    </td><td>190.05672</td></tr>\n",
       "\t<tr><td>16001    </td><td>206.50044</td></tr>\n",
       "\t<tr><td>19001    </td><td> 66.91649</td></tr>\n",
       "\t<tr><td>21001    </td><td> 96.09225</td></tr>\n",
       "</tbody>\n",
       "</table>\n"
      ],
      "text/latex": [
       "\\begin{tabular}{r|ll}\n",
       " FIPS & Crime\\_per\\_100K\\\\\n",
       "\\hline\n",
       "\t 45001     & 511.85668\\\\\n",
       "\t 22001     & 163.97659\\\\\n",
       "\t 51001     & 190.05672\\\\\n",
       "\t 16001     & 206.50044\\\\\n",
       "\t 19001     &  66.91649\\\\\n",
       "\t 21001     &  96.09225\\\\\n",
       "\\end{tabular}\n"
      ],
      "text/markdown": [
       "\n",
       "| FIPS | Crime_per_100K |\n",
       "|---|---|\n",
       "| 45001     | 511.85668 |\n",
       "| 22001     | 163.97659 |\n",
       "| 51001     | 190.05672 |\n",
       "| 16001     | 206.50044 |\n",
       "| 19001     |  66.91649 |\n",
       "| 21001     |  96.09225 |\n",
       "\n"
      ],
      "text/plain": [
       "  FIPS  Crime_per_100K\n",
       "1 45001 511.85668     \n",
       "2 22001 163.97659     \n",
       "3 51001 190.05672     \n",
       "4 16001 206.50044     \n",
       "5 19001  66.91649     \n",
       "6 21001  96.09225     "
      ]
     },
     "metadata": {},
     "output_type": "display_data"
    }
   ],
   "source": [
    "head(Crime)"
   ]
  },
  {
   "cell_type": "code",
   "execution_count": 201,
   "id": "24dbde9f",
   "metadata": {},
   "outputs": [],
   "source": [
    "## Union in Python\n",
    "write.csv(SCI, 'Data/ToMerge/SCI.csv', fileEncoding=\"UTF-8\")\n",
    "write.csv(mask_use, 'Data/ToMerge/mask_use.csv', fileEncoding=\"UTF-8\")\n",
    "write.csv(FIPS_master,'Data/ToMerge/FIPS_master.csv', fileEncoding=\"UTF-8\")\n",
    "write.csv(Education_level, 'Data/ToMerge/Education_level.csv', fileEncoding=\"UTF-8\")\n",
    "write.csv(Election_decisions, 'Data/ToMerge/Election_decisions.csv', fileEncoding=\"UTF-8\")\n",
    "write.csv(FIPS_to_longlat, 'Data/ToMerge/FIPS_to_longlat.csv', fileEncoding=\"UTF-8\")\n",
    "write.csv(Unemployment, 'Data/ToMerge/Unemployment.csv', fileEncoding=\"UTF-8\")\n",
    "write.csv(movement_range, 'Data/ToMerge/movement_range.csv', fileEncoding=\"UTF-8\")\n",
    "write.csv(Poverty_estimate, 'Data/ToMerge/Poverty_estimate.csv', fileEncoding=\"UTF-8\")\n",
    "write.csv(Population_density, 'Data/ToMerge/Population_density.csv', fileEncoding=\"UTF-8\")\n",
    "write.csv(Rural_percentage, 'Data/ToMerge/Rural_percentage.csv', fileEncoding=\"UTF-8\")\n",
    "write.csv(COVID_essential_workers, 'Data/ToMerge/COVID_essential_workers.csv', fileEncoding=\"UTF-8\")\n",
    "write.csv(COVID_testing_clinics , 'Data/ToMerge/COVID_testing_clinics.csv', fileEncoding=\"UTF-8\")\n",
    "write.csv(COVID_hospital_locations, 'Data/ToMerge/COVID_hospital_locations.csv',fileEncoding=\"UTF-8\")\n",
    "write.csv(COVID_confirmed_cases, 'Data/ToMerge/COVID_confirmed_cases.csv', fileEncoding=\"UTF-8\")\n",
    "write.csv(COVID_death_cases, 'Data/ToMerge/COVID_death_cases.csv', fileEncoding=\"UTF-8\")\n",
    "write.csv(COVID_testing_counts, 'Data/ToMerge/COVID_testing_counts.csv', fileEncoding=\"UTF-8\")\n",
    "write.csv(COVID_testing_capacity, 'Data/ToMerge/COVID_testing_capacity.csv', fileEncoding=\"UTF-8\")\n",
    "write.csv(Crime, 'Data/ToMerge/Crime.csv', fileEncoding=\"UTF-8\")\n",
    "write.csv(Vaccine, 'Data/ToMerge/Vaccine.csv', fileEncoding=\"UTF-8\")"
   ]
  }
 ],
 "metadata": {
  "kernelspec": {
   "display_name": "R",
   "language": "R",
   "name": "ir"
  },
  "language_info": {
   "codemirror_mode": "r",
   "file_extension": ".r",
   "mimetype": "text/x-r-source",
   "name": "R",
   "pygments_lexer": "r",
   "version": "3.6.1"
  }
 },
 "nbformat": 4,
 "nbformat_minor": 5
}

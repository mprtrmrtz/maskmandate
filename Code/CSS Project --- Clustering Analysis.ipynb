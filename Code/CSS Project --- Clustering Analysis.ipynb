{
 "cells": [
  {
   "cell_type": "code",
   "execution_count": 1,
   "id": "e5b48b46",
   "metadata": {},
   "outputs": [
    {
     "name": "stderr",
     "output_type": "stream",
     "text": [
      "\n",
      "Attaching package: 'dplyr'\n",
      "\n",
      "The following objects are masked from 'package:stats':\n",
      "\n",
      "    filter, lag\n",
      "\n",
      "The following objects are masked from 'package:base':\n",
      "\n",
      "    intersect, setdiff, setequal, union\n",
      "\n",
      "Registered S3 methods overwritten by 'ggplot2':\n",
      "  method         from \n",
      "  [.quosures     rlang\n",
      "  c.quosures     rlang\n",
      "  print.quosures rlang\n",
      "Registered S3 method overwritten by 'rvest':\n",
      "  method            from\n",
      "  read_xml.response xml2\n",
      "-- Attaching packages --------------------------------------- tidyverse 1.2.1 --\n",
      "v tibble  2.1.1     v purrr   0.3.2\n",
      "v tidyr   0.8.3     v stringr 1.4.0\n",
      "v tibble  2.1.1     v forcats 0.4.0\n",
      "-- Conflicts ------------------------------------------ tidyverse_conflicts() --\n",
      "x dplyr::filter() masks stats::filter()\n",
      "x dplyr::lag()    masks stats::lag()\n",
      "Warning message:\n",
      "\"package 'viridis' was built under R version 3.6.3\"Loading required package: viridisLite\n",
      "Warning message:\n",
      "\"package 'viridisLite' was built under R version 3.6.3\"Warning message:\n",
      "\"package 'ggmap' was built under R version 3.6.3\"Google's Terms of Service: https://cloud.google.com/maps-platform/terms/.\n",
      "Please cite ggmap if you use it! See citation(\"ggmap\") for details.\n",
      "Warning message:\n",
      "\"package 'sf' was built under R version 3.6.3\"Linking to GEOS 3.9.0, GDAL 3.2.1, PROJ 7.2.1\n",
      "Warning message:\n",
      "\"package 'data.table' was built under R version 3.6.3\"\n",
      "Attaching package: 'data.table'\n",
      "\n",
      "The following object is masked from 'package:purrr':\n",
      "\n",
      "    transpose\n",
      "\n",
      "The following objects are masked from 'package:dplyr':\n",
      "\n",
      "    between, first, last\n",
      "\n",
      "Warning message:\n",
      "\"package 'bit64' was built under R version 3.6.3\"Loading required package: bit\n",
      "Warning message:\n",
      "\"package 'bit' was built under R version 3.6.3\"\n",
      "Attaching package: 'bit'\n",
      "\n",
      "The following object is masked from 'package:data.table':\n",
      "\n",
      "    setattr\n",
      "\n",
      "The following object is masked from 'package:base':\n",
      "\n",
      "    xor\n",
      "\n",
      "Attaching package bit64\n",
      "package:bit64 (c) 2011-2017 Jens Oehlschlaegel\n",
      "creators: integer64 runif64 seq :\n",
      "coercion: as.integer64 as.vector as.logical as.integer as.double as.character as.bitstring\n",
      "logical operator: ! & | xor != == < <= >= >\n",
      "arithmetic operator: + - * / %/% %% ^\n",
      "math: sign abs sqrt log log2 log10\n",
      "math: floor ceiling trunc round\n",
      "querying: is.integer64 is.vector [is.atomic} [length] format print str\n",
      "values: is.na is.nan is.finite is.infinite\n",
      "aggregation: any all min max range sum prod\n",
      "cumulation: diff cummin cummax cumsum cumprod\n",
      "access: length<- [ [<- [[ [[<-\n",
      "combine: c rep cbind rbind as.data.frame\n",
      "WARNING don't use as subscripts\n",
      "WARNING semantics differ from integer\n",
      "for more help type ?bit64\n",
      "\n",
      "Attaching package: 'bit64'\n",
      "\n",
      "The following objects are masked from 'package:base':\n",
      "\n",
      "    %in%, :, is.double, match, order, rank\n",
      "\n",
      "corrplot 0.89 loaded\n"
     ]
    },
    {
     "data": {
      "text/html": [
       "'C:/Users/momaleki/Desktop/Project'"
      ],
      "text/latex": [
       "'C:/Users/momaleki/Desktop/Project'"
      ],
      "text/markdown": [
       "'C:/Users/momaleki/Desktop/Project'"
      ],
      "text/plain": [
       "[1] \"C:/Users/momaleki/Desktop/Project\""
      ]
     },
     "metadata": {},
     "output_type": "display_data"
    },
    {
     "data": {
      "text/html": [
       "<table>\n",
       "<thead><tr><th scope=col>NEVER</th><th scope=col>RARELY</th><th scope=col>SOMETIMES</th><th scope=col>FREQUENTLY</th><th scope=col>ALWAYS</th><th scope=col>FIPS</th><th scope=col>Combined</th><th scope=col>State</th><th scope=col>Percent_Less_HS</th><th scope=col>Percent_HS</th><th scope=col>Percent_Less_College</th><th scope=col>Percent_Higher_College</th><th scope=col>Trump_Win</th><th scope=col>Lon</th><th scope=col>Unemployment</th></tr></thead>\n",
       "<tbody>\n",
       "\t<tr><td>0.026    </td><td>0.006    </td><td>0.106    </td><td>0.051    </td><td>0.811    </td><td>10001    </td><td>4.615    </td><td>Delaware </td><td>0.126    </td><td>0.329    </td><td>0.308    </td><td>0.237    </td><td>0        </td><td>-75.50298</td><td>4.2      </td></tr>\n",
       "\t<tr><td>0.026    </td><td>0.006    </td><td>0.106    </td><td>0.051    </td><td>0.811    </td><td>10001    </td><td>4.615    </td><td>Delaware </td><td>0.126    </td><td>0.329    </td><td>0.308    </td><td>0.237    </td><td>0        </td><td>-75.50298</td><td>4.2      </td></tr>\n",
       "\t<tr><td>0.026    </td><td>0.006    </td><td>0.106    </td><td>0.051    </td><td>0.811    </td><td>10001    </td><td>4.615    </td><td>Delaware </td><td>0.126    </td><td>0.329    </td><td>0.308    </td><td>0.237    </td><td>0        </td><td>-75.50298</td><td>4.2      </td></tr>\n",
       "\t<tr><td>0.026    </td><td>0.006    </td><td>0.106    </td><td>0.051    </td><td>0.811    </td><td>10001    </td><td>4.615    </td><td>Delaware </td><td>0.126    </td><td>0.329    </td><td>0.308    </td><td>0.237    </td><td>0        </td><td>-75.50298</td><td>4.2      </td></tr>\n",
       "\t<tr><td>0.027    </td><td>0.013    </td><td>0.041    </td><td>0.133    </td><td>0.786    </td><td>10003    </td><td>4.638    </td><td>Delaware </td><td>0.084    </td><td>0.308    </td><td>0.246    </td><td>0.362    </td><td>0        </td><td>-75.64413</td><td>3.7      </td></tr>\n",
       "\t<tr><td>0.027    </td><td>0.013    </td><td>0.041    </td><td>0.133    </td><td>0.786    </td><td>10003    </td><td>4.638    </td><td>Delaware </td><td>0.084    </td><td>0.308    </td><td>0.246    </td><td>0.362    </td><td>0        </td><td>-75.64413</td><td>3.7      </td></tr>\n",
       "</tbody>\n",
       "</table>\n"
      ],
      "text/latex": [
       "\\begin{tabular}{r|lllllllllllllll}\n",
       " NEVER & RARELY & SOMETIMES & FREQUENTLY & ALWAYS & FIPS & Combined & State & Percent\\_Less\\_HS & Percent\\_HS & Percent\\_Less\\_College & Percent\\_Higher\\_College & Trump\\_Win & Lon & Unemployment\\\\\n",
       "\\hline\n",
       "\t 0.026     & 0.006     & 0.106     & 0.051     & 0.811     & 10001     & 4.615     & Delaware  & 0.126     & 0.329     & 0.308     & 0.237     & 0         & -75.50298 & 4.2      \\\\\n",
       "\t 0.026     & 0.006     & 0.106     & 0.051     & 0.811     & 10001     & 4.615     & Delaware  & 0.126     & 0.329     & 0.308     & 0.237     & 0         & -75.50298 & 4.2      \\\\\n",
       "\t 0.026     & 0.006     & 0.106     & 0.051     & 0.811     & 10001     & 4.615     & Delaware  & 0.126     & 0.329     & 0.308     & 0.237     & 0         & -75.50298 & 4.2      \\\\\n",
       "\t 0.026     & 0.006     & 0.106     & 0.051     & 0.811     & 10001     & 4.615     & Delaware  & 0.126     & 0.329     & 0.308     & 0.237     & 0         & -75.50298 & 4.2      \\\\\n",
       "\t 0.027     & 0.013     & 0.041     & 0.133     & 0.786     & 10003     & 4.638     & Delaware  & 0.084     & 0.308     & 0.246     & 0.362     & 0         & -75.64413 & 3.7      \\\\\n",
       "\t 0.027     & 0.013     & 0.041     & 0.133     & 0.786     & 10003     & 4.638     & Delaware  & 0.084     & 0.308     & 0.246     & 0.362     & 0         & -75.64413 & 3.7      \\\\\n",
       "\\end{tabular}\n"
      ],
      "text/markdown": [
       "\n",
       "| NEVER | RARELY | SOMETIMES | FREQUENTLY | ALWAYS | FIPS | Combined | State | Percent_Less_HS | Percent_HS | Percent_Less_College | Percent_Higher_College | Trump_Win | Lon | Unemployment |\n",
       "|---|---|---|---|---|---|---|---|---|---|---|---|---|---|---|\n",
       "| 0.026     | 0.006     | 0.106     | 0.051     | 0.811     | 10001     | 4.615     | Delaware  | 0.126     | 0.329     | 0.308     | 0.237     | 0         | -75.50298 | 4.2       |\n",
       "| 0.026     | 0.006     | 0.106     | 0.051     | 0.811     | 10001     | 4.615     | Delaware  | 0.126     | 0.329     | 0.308     | 0.237     | 0         | -75.50298 | 4.2       |\n",
       "| 0.026     | 0.006     | 0.106     | 0.051     | 0.811     | 10001     | 4.615     | Delaware  | 0.126     | 0.329     | 0.308     | 0.237     | 0         | -75.50298 | 4.2       |\n",
       "| 0.026     | 0.006     | 0.106     | 0.051     | 0.811     | 10001     | 4.615     | Delaware  | 0.126     | 0.329     | 0.308     | 0.237     | 0         | -75.50298 | 4.2       |\n",
       "| 0.027     | 0.013     | 0.041     | 0.133     | 0.786     | 10003     | 4.638     | Delaware  | 0.084     | 0.308     | 0.246     | 0.362     | 0         | -75.64413 | 3.7       |\n",
       "| 0.027     | 0.013     | 0.041     | 0.133     | 0.786     | 10003     | 4.638     | Delaware  | 0.084     | 0.308     | 0.246     | 0.362     | 0         | -75.64413 | 3.7       |\n",
       "\n"
      ],
      "text/plain": [
       "  NEVER RARELY SOMETIMES FREQUENTLY ALWAYS FIPS  Combined State   \n",
       "1 0.026 0.006  0.106     0.051      0.811  10001 4.615    Delaware\n",
       "2 0.026 0.006  0.106     0.051      0.811  10001 4.615    Delaware\n",
       "3 0.026 0.006  0.106     0.051      0.811  10001 4.615    Delaware\n",
       "4 0.026 0.006  0.106     0.051      0.811  10001 4.615    Delaware\n",
       "5 0.027 0.013  0.041     0.133      0.786  10003 4.638    Delaware\n",
       "6 0.027 0.013  0.041     0.133      0.786  10003 4.638    Delaware\n",
       "  Percent_Less_HS Percent_HS Percent_Less_College Percent_Higher_College\n",
       "1 0.126           0.329      0.308                0.237                 \n",
       "2 0.126           0.329      0.308                0.237                 \n",
       "3 0.126           0.329      0.308                0.237                 \n",
       "4 0.126           0.329      0.308                0.237                 \n",
       "5 0.084           0.308      0.246                0.362                 \n",
       "6 0.084           0.308      0.246                0.362                 \n",
       "  Trump_Win Lon       Unemployment\n",
       "1 0         -75.50298 4.2         \n",
       "2 0         -75.50298 4.2         \n",
       "3 0         -75.50298 4.2         \n",
       "4 0         -75.50298 4.2         \n",
       "5 0         -75.64413 3.7         \n",
       "6 0         -75.64413 3.7         "
      ]
     },
     "metadata": {},
     "output_type": "display_data"
    }
   ],
   "source": [
    "rm(list = ls())\n",
    "\n",
    "library(dplyr)\n",
    "library(ggplot2)\n",
    "library(readr)\n",
    "library(tidyverse)\n",
    "library(viridis)\n",
    "library(ggmap)\n",
    "library(sf)\n",
    "library(data.table)\n",
    "library(bit64)\n",
    "library(corrplot)\n",
    "\n",
    "setwd(\"C:/Users/momaleki/Desktop/Project\")\n",
    "getwd()\n",
    "\n",
    "df_No_SCI <- fread(\"Data/ToMerge/df_No_SCI.csv\")\n",
    "df_No_SCI <- df_No_SCI[, -c(1)]\n",
    "df <- df_No_SCI\n",
    "df <- df[, -c(8:9, 11:14, 26:28 )]\n",
    "\n",
    "\n",
    "colnames(df) <- c( 'NEVER', 'RARELY', 'SOMETIMES', 'FREQUENTLY', 'ALWAYS', \n",
    "                   'FIPS', 'Combined','State', 'Percent_Less_HS', 'Percent_HS', 'Percent_Less_College', 'Percent_Higher_College', \n",
    "                 'Trump_Win', 'Biden_Win', 'LAT', 'Lon', 'Unemployment', 'Movement_Change', 'Percent_InTouch', \n",
    "                 'Percent_Rural', 'Pop_Density', 'Poverty', 'COVID_Confirmed', 'COVID_Death', 'Percent_Ess_Workers', \n",
    "                 'Hospital_AllBeds', 'Hospital_Occ_rate', 'COVID_TestCap', 'COVID_Testing', 'COVID_Clinic', \n",
    "                 'Vaccine', 'Crime')\n",
    "\n",
    "\n",
    "df <- df[, -c(14:15)]\n",
    "head(df[, c(1:15)])"
   ]
  },
  {
   "cell_type": "markdown",
   "id": "b627056f",
   "metadata": {},
   "source": [
    "## Mask Usage"
   ]
  },
  {
   "cell_type": "code",
   "execution_count": 12,
   "id": "12cc8b22",
   "metadata": {},
   "outputs": [
    {
     "data": {
      "text/html": [
       "<table>\n",
       "<thead><tr><th scope=col>COUNTYFP</th><th scope=col>NEVER</th><th scope=col>RARELY</th><th scope=col>SOMETIMES</th><th scope=col>FREQUENTLY</th><th scope=col>ALWAYS</th></tr></thead>\n",
       "<tbody>\n",
       "\t<tr><td>1001 </td><td>0.053</td><td>0.074</td><td>0.134</td><td>0.295</td><td>0.444</td></tr>\n",
       "\t<tr><td>1003 </td><td>0.083</td><td>0.059</td><td>0.098</td><td>0.323</td><td>0.436</td></tr>\n",
       "\t<tr><td>1005 </td><td>0.067</td><td>0.121</td><td>0.120</td><td>0.201</td><td>0.491</td></tr>\n",
       "\t<tr><td>1007 </td><td>0.020</td><td>0.034</td><td>0.096</td><td>0.278</td><td>0.572</td></tr>\n",
       "\t<tr><td>1009 </td><td>0.053</td><td>0.114</td><td>0.180</td><td>0.194</td><td>0.459</td></tr>\n",
       "\t<tr><td>1011 </td><td>0.031</td><td>0.040</td><td>0.144</td><td>0.286</td><td>0.500</td></tr>\n",
       "</tbody>\n",
       "</table>\n"
      ],
      "text/latex": [
       "\\begin{tabular}{r|llllll}\n",
       " COUNTYFP & NEVER & RARELY & SOMETIMES & FREQUENTLY & ALWAYS\\\\\n",
       "\\hline\n",
       "\t 1001  & 0.053 & 0.074 & 0.134 & 0.295 & 0.444\\\\\n",
       "\t 1003  & 0.083 & 0.059 & 0.098 & 0.323 & 0.436\\\\\n",
       "\t 1005  & 0.067 & 0.121 & 0.120 & 0.201 & 0.491\\\\\n",
       "\t 1007  & 0.020 & 0.034 & 0.096 & 0.278 & 0.572\\\\\n",
       "\t 1009  & 0.053 & 0.114 & 0.180 & 0.194 & 0.459\\\\\n",
       "\t 1011  & 0.031 & 0.040 & 0.144 & 0.286 & 0.500\\\\\n",
       "\\end{tabular}\n"
      ],
      "text/markdown": [
       "\n",
       "| COUNTYFP | NEVER | RARELY | SOMETIMES | FREQUENTLY | ALWAYS |\n",
       "|---|---|---|---|---|---|\n",
       "| 1001  | 0.053 | 0.074 | 0.134 | 0.295 | 0.444 |\n",
       "| 1003  | 0.083 | 0.059 | 0.098 | 0.323 | 0.436 |\n",
       "| 1005  | 0.067 | 0.121 | 0.120 | 0.201 | 0.491 |\n",
       "| 1007  | 0.020 | 0.034 | 0.096 | 0.278 | 0.572 |\n",
       "| 1009  | 0.053 | 0.114 | 0.180 | 0.194 | 0.459 |\n",
       "| 1011  | 0.031 | 0.040 | 0.144 | 0.286 | 0.500 |\n",
       "\n"
      ],
      "text/plain": [
       "  COUNTYFP NEVER RARELY SOMETIMES FREQUENTLY ALWAYS\n",
       "1 1001     0.053 0.074  0.134     0.295      0.444 \n",
       "2 1003     0.083 0.059  0.098     0.323      0.436 \n",
       "3 1005     0.067 0.121  0.120     0.201      0.491 \n",
       "4 1007     0.020 0.034  0.096     0.278      0.572 \n",
       "5 1009     0.053 0.114  0.180     0.194      0.459 \n",
       "6 1011     0.031 0.040  0.144     0.286      0.500 "
      ]
     },
     "metadata": {},
     "output_type": "display_data"
    }
   ],
   "source": [
    "df <- fread(\"Data/mask-use-by-county.csv\")\n",
    "#mydata <- df[, c(1:6)] %>% \n",
    "        #        group_by(FIPS) %>%\n",
    "             #       summarise_all(mean)\n",
    "\n",
    "head(df)"
   ]
  },
  {
   "cell_type": "code",
   "execution_count": 9,
   "id": "27c43945",
   "metadata": {},
   "outputs": [
    {
     "data": {
      "text/html": [
       "<table>\n",
       "<thead><tr><th scope=col>FIPS</th><th scope=col>Cluster = 6</th><th scope=col>Cluster = 6</th><th scope=col>Cluster = 6</th><th scope=col>Cluster = 6</th></tr></thead>\n",
       "<tbody>\n",
       "\t<tr><td>10001</td><td>4    </td><td>3    </td><td>3    </td><td>2    </td></tr>\n",
       "\t<tr><td>10003</td><td>4    </td><td>3    </td><td>3    </td><td>2    </td></tr>\n",
       "\t<tr><td>10005</td><td>4    </td><td>3    </td><td>3    </td><td>2    </td></tr>\n",
       "\t<tr><td>12001</td><td>4    </td><td>3    </td><td>3    </td><td>2    </td></tr>\n",
       "\t<tr><td>12005</td><td>3    </td><td>4    </td><td>1    </td><td>1    </td></tr>\n",
       "\t<tr><td>12007</td><td>2    </td><td>1    </td><td>2    </td><td>1    </td></tr>\n",
       "</tbody>\n",
       "</table>\n"
      ],
      "text/latex": [
       "\\begin{tabular}{r|lllll}\n",
       " FIPS & Cluster = 6 & Cluster = 6 & Cluster = 6 & Cluster = 6\\\\\n",
       "\\hline\n",
       "\t 10001 & 4     & 3     & 3     & 2    \\\\\n",
       "\t 10003 & 4     & 3     & 3     & 2    \\\\\n",
       "\t 10005 & 4     & 3     & 3     & 2    \\\\\n",
       "\t 12001 & 4     & 3     & 3     & 2    \\\\\n",
       "\t 12005 & 3     & 4     & 1     & 1    \\\\\n",
       "\t 12007 & 2     & 1     & 2     & 1    \\\\\n",
       "\\end{tabular}\n"
      ],
      "text/markdown": [
       "\n",
       "| FIPS | Cluster = 6 | Cluster = 6 | Cluster = 6 | Cluster = 6 |\n",
       "|---|---|---|---|---|\n",
       "| 10001 | 4     | 3     | 3     | 2     |\n",
       "| 10003 | 4     | 3     | 3     | 2     |\n",
       "| 10005 | 4     | 3     | 3     | 2     |\n",
       "| 12001 | 4     | 3     | 3     | 2     |\n",
       "| 12005 | 3     | 4     | 1     | 1     |\n",
       "| 12007 | 2     | 1     | 2     | 1     |\n",
       "\n"
      ],
      "text/plain": [
       "  FIPS  Cluster = 6 Cluster = 6 Cluster = 6 Cluster = 6\n",
       "1 10001 4           3           3           2          \n",
       "2 10003 4           3           3           2          \n",
       "3 10005 4           3           3           2          \n",
       "4 12001 4           3           3           2          \n",
       "5 12005 3           4           1           1          \n",
       "6 12007 2           1           2           1          "
      ]
     },
     "metadata": {},
     "output_type": "display_data"
    }
   ],
   "source": [
    "test <- data.frame(matrix(nrow = nrow(mydata), ncol = 5))\n",
    "model <- kmeans(mydata$ALWAYS, 5)\n",
    "test[, c(1)] <- mydata$FIPS\n",
    "test[, c(2)] <- model$cluster\n",
    "\n",
    "\n",
    "model <- kmeans(mydata$ALWAYS, 4)\n",
    "test[, c(1)] <- mydata$FIPS\n",
    "test[, c(3)] <- model$cluster\n",
    "\n",
    "\n",
    "model <- kmeans(mydata$ALWAYS, 3)\n",
    "test[, c(1)] <- mydata$FIPS\n",
    "test[, c(4)] <- model$cluster\n",
    "\n",
    "\n",
    "model <- kmeans(mydata$ALWAYS, 2)\n",
    "test[, c(1)] <- mydata$FIPS\n",
    "test[, c(5)] <- model$cluster\n",
    "\n",
    "colnames(test) <- c(\"FIPS\", \"Cluster = 6\", \"Cluster = 6\", \"Cluster = 6\", \"Cluster = 6\")\n",
    "\n",
    "\n",
    "\n",
    "\n",
    "head(test)\n",
    "write.csv(test, 'Data/Clustering/Mask_Use.csv', fileEncoding=\"UTF-8\")\n",
    "test <- NULL"
   ]
  },
  {
   "cell_type": "markdown",
   "id": "d5957d66",
   "metadata": {},
   "source": [
    "## Election Decisions "
   ]
  },
  {
   "cell_type": "code",
   "execution_count": 21,
   "id": "3cf9c364",
   "metadata": {},
   "outputs": [
    {
     "data": {
      "text/html": [
       "<table>\n",
       "<thead><tr><th scope=col>FIPS111</th><th scope=col>Trump_Win</th><th scope=col>Biden_Win</th></tr></thead>\n",
       "<tbody>\n",
       "\t<tr><td>1001</td><td>1   </td><td>0   </td></tr>\n",
       "\t<tr><td>1003</td><td>1   </td><td>0   </td></tr>\n",
       "\t<tr><td>1005</td><td>1   </td><td>0   </td></tr>\n",
       "\t<tr><td>1007</td><td>1   </td><td>0   </td></tr>\n",
       "\t<tr><td>1009</td><td>1   </td><td>0   </td></tr>\n",
       "\t<tr><td>1011</td><td>0   </td><td>1   </td></tr>\n",
       "</tbody>\n",
       "</table>\n"
      ],
      "text/latex": [
       "\\begin{tabular}{r|lll}\n",
       " FIPS111 & Trump\\_Win & Biden\\_Win\\\\\n",
       "\\hline\n",
       "\t 1001 & 1    & 0   \\\\\n",
       "\t 1003 & 1    & 0   \\\\\n",
       "\t 1005 & 1    & 0   \\\\\n",
       "\t 1007 & 1    & 0   \\\\\n",
       "\t 1009 & 1    & 0   \\\\\n",
       "\t 1011 & 0    & 1   \\\\\n",
       "\\end{tabular}\n"
      ],
      "text/markdown": [
       "\n",
       "| FIPS111 | Trump_Win | Biden_Win |\n",
       "|---|---|---|\n",
       "| 1001 | 1    | 0    |\n",
       "| 1003 | 1    | 0    |\n",
       "| 1005 | 1    | 0    |\n",
       "| 1007 | 1    | 0    |\n",
       "| 1009 | 1    | 0    |\n",
       "| 1011 | 0    | 1    |\n",
       "\n"
      ],
      "text/plain": [
       "  FIPS111 Trump_Win Biden_Win\n",
       "1 1001    1         0        \n",
       "2 1003    1         0        \n",
       "3 1005    1         0        \n",
       "4 1007    1         0        \n",
       "5 1009    1         0        \n",
       "6 1011    0         1        "
      ]
     },
     "metadata": {},
     "output_type": "display_data"
    }
   ],
   "source": [
    "Election_decisions <- fread(\"Data/election decisions by fips country.csv\")\n",
    "\n",
    "#  Election Decisions \n",
    "colnames(Election_decisions) <- paste(\"Election\", colnames(Election_decisions), sep = \"_\")\n",
    "Election_decisions$FIPS111 <- as.double(Election_decisions$Election_id)\n",
    "Election_decisions <- Election_decisions[, -c(2, 3, 4, 5, 11, 12 )]\n",
    "Election_decisions$Election_Trump <- ifelse(Election_decisions$Election_lname == \"Trump\", 1, 0)\n",
    "Election_decisions$Election_Biden <- ifelse(Election_decisions$Election_lname == \"Biden\", 1, 0)\n",
    "Election_decisions$Trump_Votes <- Election_decisions$Election_votes * Election_decisions$Election_Trump\n",
    "Election_decisions$Biden_Votes <- Election_decisions$Election_votes * Election_decisions$Election_Biden\n",
    "\n",
    "Election_decisions_1 <- Election_decisions %>% \n",
    "                            filter(Election_race == \"President\") %>%\n",
    "                            group_by(FIPS111) %>%\n",
    "                                summarize(Winner_Votes = max(Election_votes), \n",
    "                                         Trump_Votes = max(Trump_Votes), \n",
    "                                         Biden_Votes = max(Biden_Votes))\n",
    "Election_decisions_1$Trump_Win <- ifelse(Election_decisions_1$Trump_Votes > Election_decisions_1$Biden_Votes, \n",
    "                                  1, 0)\n",
    "Election_decisions_1$Biden_Win <- ifelse(Election_decisions_1$Trump_Votes < Election_decisions_1$Biden_Votes, \n",
    "                                  1, 0)\n",
    "Election_decisions_1 <- subset(Election_decisions_1, floor(log10(FIPS111))  == 4 | floor(log10(FIPS111))  == 3)\n",
    "Election_decisions_1 <- Election_decisions_1[-c(2:4)]\n",
    "Election_decisions <- Election_decisions_1\n",
    "\n",
    "head(Election_decisions)\n",
    "\n",
    "write.csv(Election_decisions, 'Data/Clustering/Election.csv', fileEncoding=\"UTF-8\")"
   ]
  },
  {
   "cell_type": "markdown",
   "id": "0bea17bf",
   "metadata": {},
   "source": [
    "## Population Density"
   ]
  },
  {
   "cell_type": "code",
   "execution_count": 24,
   "id": "5a0ef746",
   "metadata": {},
   "outputs": [],
   "source": [
    "Population_density <- fread(\"Data/Population_density.csv\")\n",
    "\n",
    "# Population Density\n",
    "colnames(Population_density) <- paste(\"Pop_Density\", colnames(Population_density), sep = \"_\")\n",
    "Population_density$FIPS <- as.double(Population_density$Pop_Density_GEOID)\n",
    "Population_density$Population_Density <- as.double(Population_density$Pop_Density_B01001_calc_PopDensity)\n",
    "Population_density <- Population_density[, -c(1:23)]\n",
    "\n",
    "write.csv(Population_density, 'Data/Clustering/Pop_density.csv', fileEncoding=\"UTF-8\")\n"
   ]
  },
  {
   "cell_type": "code",
   "execution_count": 23,
   "id": "8593ea7c",
   "metadata": {},
   "outputs": [
    {
     "data": {
      "text/html": [
       "<table>\n",
       "<thead><tr><th scope=col>FIPS</th><th scope=col>Cluster = 5</th><th scope=col>Cluster = 4</th><th scope=col>Cluster = 3</th><th scope=col>Cluster = 2</th></tr></thead>\n",
       "<tbody>\n",
       "\t<tr><td>1001</td><td>2   </td><td>3   </td><td>1   </td><td>1   </td></tr>\n",
       "\t<tr><td>1003</td><td>2   </td><td>3   </td><td>1   </td><td>1   </td></tr>\n",
       "\t<tr><td>1005</td><td>2   </td><td>3   </td><td>1   </td><td>1   </td></tr>\n",
       "\t<tr><td>1007</td><td>2   </td><td>3   </td><td>1   </td><td>1   </td></tr>\n",
       "\t<tr><td>1009</td><td>2   </td><td>3   </td><td>1   </td><td>1   </td></tr>\n",
       "\t<tr><td>1011</td><td>2   </td><td>3   </td><td>1   </td><td>1   </td></tr>\n",
       "</tbody>\n",
       "</table>\n"
      ],
      "text/latex": [
       "\\begin{tabular}{r|lllll}\n",
       " FIPS & Cluster = 5 & Cluster = 4 & Cluster = 3 & Cluster = 2\\\\\n",
       "\\hline\n",
       "\t 1001 & 2    & 3    & 1    & 1   \\\\\n",
       "\t 1003 & 2    & 3    & 1    & 1   \\\\\n",
       "\t 1005 & 2    & 3    & 1    & 1   \\\\\n",
       "\t 1007 & 2    & 3    & 1    & 1   \\\\\n",
       "\t 1009 & 2    & 3    & 1    & 1   \\\\\n",
       "\t 1011 & 2    & 3    & 1    & 1   \\\\\n",
       "\\end{tabular}\n"
      ],
      "text/markdown": [
       "\n",
       "| FIPS | Cluster = 5 | Cluster = 4 | Cluster = 3 | Cluster = 2 |\n",
       "|---|---|---|---|---|\n",
       "| 1001 | 2    | 3    | 1    | 1    |\n",
       "| 1003 | 2    | 3    | 1    | 1    |\n",
       "| 1005 | 2    | 3    | 1    | 1    |\n",
       "| 1007 | 2    | 3    | 1    | 1    |\n",
       "| 1009 | 2    | 3    | 1    | 1    |\n",
       "| 1011 | 2    | 3    | 1    | 1    |\n",
       "\n"
      ],
      "text/plain": [
       "  FIPS Cluster = 5 Cluster = 4 Cluster = 3 Cluster = 2\n",
       "1 1001 2           3           1           1          \n",
       "2 1003 2           3           1           1          \n",
       "3 1005 2           3           1           1          \n",
       "4 1007 2           3           1           1          \n",
       "5 1009 2           3           1           1          \n",
       "6 1011 2           3           1           1          "
      ]
     },
     "metadata": {},
     "output_type": "display_data"
    }
   ],
   "source": [
    "test <- data.frame(matrix(nrow = nrow(mydata), ncol = 5))\n",
    "\n",
    "model <- kmeans(mydata$Population_Density, 5)\n",
    "test[, c(1)] <- mydata$FIPS\n",
    "test[, c(2)] <- model$cluster\n",
    "\n",
    "\n",
    "model <- kmeans(mydata$Population_Density, 4)\n",
    "test[, c(1)] <- mydata$FIPS\n",
    "test[, c(3)] <- model$cluster\n",
    "\n",
    "\n",
    "model <- kmeans(mydata$Population_Density, 3)\n",
    "test[, c(1)] <- mydata$FIPS\n",
    "test[, c(4)] <- model$cluster\n",
    "\n",
    "\n",
    "model <- kmeans(mydata$Population_Density, 2)\n",
    "test[, c(1)] <- mydata$FIPS\n",
    "test[, c(5)] <- model$cluster\n",
    "\n",
    "colnames(test) <- c(\"FIPS\", \"Cluster = 5\", \"Cluster = 4\", \"Cluster = 3\", \"Cluster = 2\")\n",
    "\n",
    "head(test)\n",
    "write.csv(test, 'Data/Clustering/Pop_density.csv', fileEncoding=\"UTF-8\")"
   ]
  },
  {
   "cell_type": "markdown",
   "id": "adf68f7f",
   "metadata": {},
   "source": [
    "## Movement Range"
   ]
  },
  {
   "cell_type": "code",
   "execution_count": 26,
   "id": "46396f96",
   "metadata": {},
   "outputs": [],
   "source": [
    "movement_range <- fread(\"Data/movement-range-2021-05-23.txt\")\n",
    "\n",
    "# Movement Range\n",
    "movement_range$date <- movement_range$ds\n",
    "movement_range$ds <- NULL\n",
    "movement_range$country_code <- movement_range$country\n",
    "movement_range$country <- NULL\n",
    "movement_range$polygon_source <- NULL\n",
    "movement_range$polygon_name <- NULL\n",
    "movement_range$change_in_movement <- movement_range$all_day_bing_tiles_visited_relative_change\n",
    "movement_range$all_day_bing_tiles_visited_relative_change <- NULL\n",
    "movement_range$proportion_intouch_users <- movement_range$all_day_ratio_single_tile_users\n",
    "movement_range$all_day_ratio_single_tile_users <- NULL\n",
    "movement_range$baseline_calc_time <- movement_range$baseline_name\n",
    "movement_range$baseline_name <- NULL\n",
    "movement_range$baseline_calc_how <- movement_range$baseline_type\n",
    "movement_range$baseline_type <- NULL\n",
    "movement_range = filter(movement_range, movement_range$country_code == \"USA\")\n",
    "movement_range$date <- as.Date(movement_range$date, format = \"%Y-%m-%d\")\n",
    "movement_range = subset(movement_range, date > \"2020-07-1\" & date < \"2020-07-15\")\n",
    "colnames(movement_range) <- paste(\"Movement_Range\", colnames(movement_range), sep = \"_\")\n",
    "movement_range$FIPS <- as.double(movement_range$Movement_Range_polygon_id)\n",
    "movement_range$Movement_Range_polygon_id <- NULL\n",
    "movement_range <- movement_range[, -c(2, 5, 6)]\n",
    "\n",
    "movement_range <- movement_range %>% \n",
    "                    group_by(FIPS) %>%\n",
    "                            summarize(Change_in_Movement = mean(Movement_Range_change_in_movement),\n",
    "                                      Intouch_users_Proportion = mean(Movement_Range_proportion_intouch_users))\n",
    "\n",
    "mydata <- movement_range\n",
    "write.csv(mydata, 'Data/Clustering/movement.csv', fileEncoding=\"UTF-8\")\n"
   ]
  },
  {
   "cell_type": "code",
   "execution_count": 120,
   "id": "30d925e7",
   "metadata": {},
   "outputs": [
    {
     "data": {
      "text/html": [
       "<table>\n",
       "<thead><tr><th scope=col>FIPS</th><th scope=col>Cluster = 5</th><th scope=col>Cluster = 4</th><th scope=col>Cluster = 3</th><th scope=col>Cluster = 2</th></tr></thead>\n",
       "<tbody>\n",
       "\t<tr><td>1001</td><td>5   </td><td>2   </td><td>1   </td><td>1   </td></tr>\n",
       "\t<tr><td>1003</td><td>4   </td><td>3   </td><td>2   </td><td>2   </td></tr>\n",
       "\t<tr><td>1005</td><td>5   </td><td>2   </td><td>1   </td><td>1   </td></tr>\n",
       "\t<tr><td>1007</td><td>5   </td><td>2   </td><td>1   </td><td>1   </td></tr>\n",
       "\t<tr><td>1009</td><td>5   </td><td>2   </td><td>1   </td><td>1   </td></tr>\n",
       "\t<tr><td>1013</td><td>5   </td><td>2   </td><td>1   </td><td>1   </td></tr>\n",
       "</tbody>\n",
       "</table>\n"
      ],
      "text/latex": [
       "\\begin{tabular}{r|lllll}\n",
       " FIPS & Cluster = 5 & Cluster = 4 & Cluster = 3 & Cluster = 2\\\\\n",
       "\\hline\n",
       "\t 1001 & 5    & 2    & 1    & 1   \\\\\n",
       "\t 1003 & 4    & 3    & 2    & 2   \\\\\n",
       "\t 1005 & 5    & 2    & 1    & 1   \\\\\n",
       "\t 1007 & 5    & 2    & 1    & 1   \\\\\n",
       "\t 1009 & 5    & 2    & 1    & 1   \\\\\n",
       "\t 1013 & 5    & 2    & 1    & 1   \\\\\n",
       "\\end{tabular}\n"
      ],
      "text/markdown": [
       "\n",
       "| FIPS | Cluster = 5 | Cluster = 4 | Cluster = 3 | Cluster = 2 |\n",
       "|---|---|---|---|---|\n",
       "| 1001 | 5    | 2    | 1    | 1    |\n",
       "| 1003 | 4    | 3    | 2    | 2    |\n",
       "| 1005 | 5    | 2    | 1    | 1    |\n",
       "| 1007 | 5    | 2    | 1    | 1    |\n",
       "| 1009 | 5    | 2    | 1    | 1    |\n",
       "| 1013 | 5    | 2    | 1    | 1    |\n",
       "\n"
      ],
      "text/plain": [
       "  FIPS Cluster = 5 Cluster = 4 Cluster = 3 Cluster = 2\n",
       "1 1001 5           2           1           1          \n",
       "2 1003 4           3           2           2          \n",
       "3 1005 5           2           1           1          \n",
       "4 1007 5           2           1           1          \n",
       "5 1009 5           2           1           1          \n",
       "6 1013 5           2           1           1          "
      ]
     },
     "metadata": {},
     "output_type": "display_data"
    }
   ],
   "source": [
    "test <- data.frame(matrix(nrow = nrow(mydata), ncol = 5))\n",
    "\n",
    "model <- kmeans(mydata$Change_in_Movement, 5)\n",
    "test[, c(1)] <- mydata$FIPS\n",
    "test[, c(2)] <- model$cluster\n",
    "\n",
    "\n",
    "model <- kmeans(mydata$Change_in_Movement, 4)\n",
    "test[, c(1)] <- mydata$FIPS\n",
    "test[, c(3)] <- model$cluster\n",
    "\n",
    "\n",
    "model <- kmeans(mydata$Change_in_Movement,3)\n",
    "test[, c(1)] <- mydata$FIPS\n",
    "test[, c(4)] <- model$cluster\n",
    "\n",
    "\n",
    "model <- kmeans(mydata$Change_in_Movement, 2)\n",
    "test[, c(1)] <- mydata$FIPS\n",
    "test[, c(5)] <- model$cluster\n",
    "\n",
    "colnames(test) <- c(\"FIPS\", \"Cluster = 5\", \"Cluster = 4\", \"Cluster = 3\", \"Cluster = 2\")\n",
    "\n",
    "head(test)\n",
    "write.csv(test, 'Data/Clustering/movement.csv', fileEncoding=\"UTF-8\")"
   ]
  },
  {
   "cell_type": "markdown",
   "id": "5d7606d0",
   "metadata": {},
   "source": [
    "## Education "
   ]
  },
  {
   "cell_type": "code",
   "execution_count": 137,
   "id": "652a9c7a",
   "metadata": {},
   "outputs": [
    {
     "data": {
      "text/html": [
       "<table>\n",
       "<thead><tr><th scope=col>Count_Less_HighSchool</th><th scope=col>Count_HighSchool</th><th scope=col>Count_Less_College</th><th scope=col>Count_Higher_College</th><th scope=col>Percent_Less_HighSchool</th><th scope=col>Percent_HighSchool</th><th scope=col>Percent_Less_College</th><th scope=col>Percent_Higher_College</th><th scope=col>FIPS</th></tr></thead>\n",
       "<tbody>\n",
       "\t<tr><td>66,816 </td><td>209,449</td><td>178,917</td><td>214,138</td><td>0.100  </td><td>0.313  </td><td>0.267  </td><td>0.320  </td><td>10000  </td></tr>\n",
       "\t<tr><td>14,834 </td><td>38,843 </td><td>36,347 </td><td>28,030 </td><td>0.126  </td><td>0.329  </td><td>0.308  </td><td>0.237  </td><td>10001  </td></tr>\n",
       "\t<tr><td>32,032 </td><td>118,233</td><td>94,434 </td><td>138,627</td><td>0.084  </td><td>0.308  </td><td>0.246  </td><td>0.362  </td><td>10003  </td></tr>\n",
       "\t<tr><td>19,950 </td><td>52,373 </td><td>48,136 </td><td>47,481 </td><td>0.119  </td><td>0.312  </td><td>0.287  </td><td>0.283  </td><td>10005  </td></tr>\n",
       "\t<tr><td>44,850 </td><td>83,185 </td><td>76,822 </td><td>289,259</td><td>0.091  </td><td>0.168  </td><td>0.155  </td><td>0.585  </td><td>11000  </td></tr>\n",
       "\t<tr><td>44,850 </td><td>83,185 </td><td>76,822 </td><td>289,259</td><td>0.091  </td><td>0.168  </td><td>0.155  </td><td>0.585  </td><td>11001  </td></tr>\n",
       "</tbody>\n",
       "</table>\n"
      ],
      "text/latex": [
       "\\begin{tabular}{r|lllllllll}\n",
       " Count\\_Less\\_HighSchool & Count\\_HighSchool & Count\\_Less\\_College & Count\\_Higher\\_College & Percent\\_Less\\_HighSchool & Percent\\_HighSchool & Percent\\_Less\\_College & Percent\\_Higher\\_College & FIPS\\\\\n",
       "\\hline\n",
       "\t 66,816  & 209,449 & 178,917 & 214,138 & 0.100   & 0.313   & 0.267   & 0.320   & 10000  \\\\\n",
       "\t 14,834  & 38,843  & 36,347  & 28,030  & 0.126   & 0.329   & 0.308   & 0.237   & 10001  \\\\\n",
       "\t 32,032  & 118,233 & 94,434  & 138,627 & 0.084   & 0.308   & 0.246   & 0.362   & 10003  \\\\\n",
       "\t 19,950  & 52,373  & 48,136  & 47,481  & 0.119   & 0.312   & 0.287   & 0.283   & 10005  \\\\\n",
       "\t 44,850  & 83,185  & 76,822  & 289,259 & 0.091   & 0.168   & 0.155   & 0.585   & 11000  \\\\\n",
       "\t 44,850  & 83,185  & 76,822  & 289,259 & 0.091   & 0.168   & 0.155   & 0.585   & 11001  \\\\\n",
       "\\end{tabular}\n"
      ],
      "text/markdown": [
       "\n",
       "| Count_Less_HighSchool | Count_HighSchool | Count_Less_College | Count_Higher_College | Percent_Less_HighSchool | Percent_HighSchool | Percent_Less_College | Percent_Higher_College | FIPS |\n",
       "|---|---|---|---|---|---|---|---|---|\n",
       "| 66,816  | 209,449 | 178,917 | 214,138 | 0.100   | 0.313   | 0.267   | 0.320   | 10000   |\n",
       "| 14,834  | 38,843  | 36,347  | 28,030  | 0.126   | 0.329   | 0.308   | 0.237   | 10001   |\n",
       "| 32,032  | 118,233 | 94,434  | 138,627 | 0.084   | 0.308   | 0.246   | 0.362   | 10003   |\n",
       "| 19,950  | 52,373  | 48,136  | 47,481  | 0.119   | 0.312   | 0.287   | 0.283   | 10005   |\n",
       "| 44,850  | 83,185  | 76,822  | 289,259 | 0.091   | 0.168   | 0.155   | 0.585   | 11000   |\n",
       "| 44,850  | 83,185  | 76,822  | 289,259 | 0.091   | 0.168   | 0.155   | 0.585   | 11001   |\n",
       "\n"
      ],
      "text/plain": [
       "  Count_Less_HighSchool Count_HighSchool Count_Less_College\n",
       "1 66,816                209,449          178,917           \n",
       "2 14,834                38,843           36,347            \n",
       "3 32,032                118,233          94,434            \n",
       "4 19,950                52,373           48,136            \n",
       "5 44,850                83,185           76,822            \n",
       "6 44,850                83,185           76,822            \n",
       "  Count_Higher_College Percent_Less_HighSchool Percent_HighSchool\n",
       "1 214,138              0.100                   0.313             \n",
       "2 28,030               0.126                   0.329             \n",
       "3 138,627              0.084                   0.308             \n",
       "4 47,481               0.119                   0.312             \n",
       "5 289,259              0.091                   0.168             \n",
       "6 289,259              0.091                   0.168             \n",
       "  Percent_Less_College Percent_Higher_College FIPS \n",
       "1 0.267                0.320                  10000\n",
       "2 0.308                0.237                  10001\n",
       "3 0.246                0.362                  10003\n",
       "4 0.287                0.283                  10005\n",
       "5 0.155                0.585                  11000\n",
       "6 0.155                0.585                  11001"
      ]
     },
     "metadata": {},
     "output_type": "display_data"
    }
   ],
   "source": [
    "Education_level <- fread(\"Data/Education level by Country 1970 - 2019.csv\")\n",
    "\n",
    "# Education Level\n",
    "colnames(Education_level) <- paste(\"Education_Levels\", colnames(Education_level), sep = \"_\")\n",
    "Education_level$FIPS <- as.double(Education_level$`Education_Levels_FIPS Code`)\n",
    "Education_level$`Education_Levels_FIPS Code` <- NULL\n",
    "Education_level <- Education_level[, -c(0:38)]\n",
    "Education_level <- subset(Education_level, floor(log10(FIPS))  == 4)\n",
    "                    \n",
    "colnames(Education_level) <- c('Count_Less_HighSchool', 'Count_HighSchool', 'Count_Less_College', \n",
    "                              'Count_Higher_College', 'Percent_Less_HighSchool', 'Percent_HighSchool', \n",
    "                             'Percent_Less_College', 'Percent_Higher_College', 'FIPS')\n",
    "\n",
    "Education_level$Percent_Less_HighSchool <- Education_level$Percent_Less_HighSchool/100\n",
    "Education_level$Percent_HighSchool <- Education_level$Percent_HighSchool/100\n",
    "Education_level$Percent_Less_College <- Education_level$Percent_Less_College/100\n",
    "Education_level$Percent_Higher_College <- Education_level$Percent_Higher_College/100\n",
    "\n",
    "head(Education_level)\n",
    "\n",
    "mydata <- Education_level[, c(8, 9)]\n",
    "mydata <- mydata[complete.cases(mydata), ]"
   ]
  },
  {
   "cell_type": "code",
   "execution_count": 139,
   "id": "d36f227a",
   "metadata": {},
   "outputs": [
    {
     "data": {
      "text/html": [
       "<table>\n",
       "<thead><tr><th scope=col>FIPS</th><th scope=col>Cluster = 5</th><th scope=col>Cluster = 4</th><th scope=col>Cluster = 3</th><th scope=col>Cluster = 2</th></tr></thead>\n",
       "<tbody>\n",
       "\t<tr><td>10000</td><td>4    </td><td>2    </td><td>3    </td><td>2    </td></tr>\n",
       "\t<tr><td>10001</td><td>3    </td><td>4    </td><td>3    </td><td>1    </td></tr>\n",
       "\t<tr><td>10003</td><td>4    </td><td>2    </td><td>2    </td><td>2    </td></tr>\n",
       "\t<tr><td>10005</td><td>3    </td><td>2    </td><td>3    </td><td>2    </td></tr>\n",
       "\t<tr><td>11000</td><td>1    </td><td>3    </td><td>2    </td><td>2    </td></tr>\n",
       "\t<tr><td>11001</td><td>1    </td><td>3    </td><td>2    </td><td>2    </td></tr>\n",
       "</tbody>\n",
       "</table>\n"
      ],
      "text/latex": [
       "\\begin{tabular}{r|lllll}\n",
       " FIPS & Cluster = 5 & Cluster = 4 & Cluster = 3 & Cluster = 2\\\\\n",
       "\\hline\n",
       "\t 10000 & 4     & 2     & 3     & 2    \\\\\n",
       "\t 10001 & 3     & 4     & 3     & 1    \\\\\n",
       "\t 10003 & 4     & 2     & 2     & 2    \\\\\n",
       "\t 10005 & 3     & 2     & 3     & 2    \\\\\n",
       "\t 11000 & 1     & 3     & 2     & 2    \\\\\n",
       "\t 11001 & 1     & 3     & 2     & 2    \\\\\n",
       "\\end{tabular}\n"
      ],
      "text/markdown": [
       "\n",
       "| FIPS | Cluster = 5 | Cluster = 4 | Cluster = 3 | Cluster = 2 |\n",
       "|---|---|---|---|---|\n",
       "| 10000 | 4     | 2     | 3     | 2     |\n",
       "| 10001 | 3     | 4     | 3     | 1     |\n",
       "| 10003 | 4     | 2     | 2     | 2     |\n",
       "| 10005 | 3     | 2     | 3     | 2     |\n",
       "| 11000 | 1     | 3     | 2     | 2     |\n",
       "| 11001 | 1     | 3     | 2     | 2     |\n",
       "\n"
      ],
      "text/plain": [
       "  FIPS  Cluster = 5 Cluster = 4 Cluster = 3 Cluster = 2\n",
       "1 10000 4           2           3           2          \n",
       "2 10001 3           4           3           1          \n",
       "3 10003 4           2           2           2          \n",
       "4 10005 3           2           3           2          \n",
       "5 11000 1           3           2           2          \n",
       "6 11001 1           3           2           2          "
      ]
     },
     "metadata": {},
     "output_type": "display_data"
    }
   ],
   "source": [
    "test <- data.frame(matrix(nrow = nrow(mydata), ncol = 5))\n",
    "\n",
    "model <- kmeans(mydata$Percent_Higher_College, 5)\n",
    "test[, c(1)] <- mydata$FIPS\n",
    "test[, c(2)] <- model$cluster\n",
    "\n",
    "\n",
    "model <- kmeans(mydata$Percent_Higher_College, 4)\n",
    "test[, c(1)] <- mydata$FIPS\n",
    "test[, c(3)] <- model$cluster\n",
    "\n",
    "\n",
    "model <- kmeans(mydata$Percent_Higher_College, 3)\n",
    "test[, c(1)] <- mydata$FIPS\n",
    "test[, c(4)] <- model$cluster\n",
    "\n",
    "\n",
    "model <- kmeans(mydata$Percent_Higher_College, 2)\n",
    "test[, c(1)] <- mydata$FIPS\n",
    "test[, c(5)] <- model$cluster\n",
    "\n",
    "colnames(test) <- c(\"FIPS\", \"Cluster = 5\", \"Cluster = 4\", \"Cluster = 3\", \"Cluster = 2\")\n",
    "\n",
    "head(test)\n",
    "write.csv(test, 'Data/Clustering/Education.csv', fileEncoding=\"UTF-8\")"
   ]
  },
  {
   "cell_type": "markdown",
   "id": "705d9dcc",
   "metadata": {},
   "source": [
    "## Vaccination "
   ]
  },
  {
   "cell_type": "code",
   "execution_count": 27,
   "id": "91d73596",
   "metadata": {},
   "outputs": [
    {
     "name": "stderr",
     "output_type": "stream",
     "text": [
      "Warning message in eval(expr, envir, enclos):\n",
      "\"NAs introduced by coercion\""
     ]
    },
    {
     "data": {
      "text/html": [
       "<table>\n",
       "<thead><tr><th scope=col>FIPS</th><th scope=col>Vaccine_completeness_pct</th></tr></thead>\n",
       "<tbody>\n",
       "\t<tr><td>1001      </td><td>0.08196067</td></tr>\n",
       "\t<tr><td>1003      </td><td>0.11169101</td></tr>\n",
       "\t<tr><td>1005      </td><td>0.08088764</td></tr>\n",
       "\t<tr><td>1007      </td><td>0.07486517</td></tr>\n",
       "\t<tr><td>1009      </td><td>0.06486517</td></tr>\n",
       "\t<tr><td>1011      </td><td>0.12137079</td></tr>\n",
       "</tbody>\n",
       "</table>\n"
      ],
      "text/latex": [
       "\\begin{tabular}{r|ll}\n",
       " FIPS & Vaccine\\_completeness\\_pct\\\\\n",
       "\\hline\n",
       "\t 1001       & 0.08196067\\\\\n",
       "\t 1003       & 0.11169101\\\\\n",
       "\t 1005       & 0.08088764\\\\\n",
       "\t 1007       & 0.07486517\\\\\n",
       "\t 1009       & 0.06486517\\\\\n",
       "\t 1011       & 0.12137079\\\\\n",
       "\\end{tabular}\n"
      ],
      "text/markdown": [
       "\n",
       "| FIPS | Vaccine_completeness_pct |\n",
       "|---|---|\n",
       "| 1001       | 0.08196067 |\n",
       "| 1003       | 0.11169101 |\n",
       "| 1005       | 0.08088764 |\n",
       "| 1007       | 0.07486517 |\n",
       "| 1009       | 0.06486517 |\n",
       "| 1011       | 0.12137079 |\n",
       "\n"
      ],
      "text/plain": [
       "  FIPS Vaccine_completeness_pct\n",
       "1 1001 0.08196067              \n",
       "2 1003 0.11169101              \n",
       "3 1005 0.08088764              \n",
       "4 1007 0.07486517              \n",
       "5 1009 0.06486517              \n",
       "6 1011 0.12137079              "
      ]
     },
     "metadata": {},
     "output_type": "display_data"
    }
   ],
   "source": [
    "Vaccine <- fread(\"Data/COVID_Data/data/COVID-19_Vaccinations_in_the_United_States_County.csv\")\n",
    "\n",
    "# Vaccination \n",
    "Vaccine <- Vaccine %>%\n",
    "                  group_by(FIPS) %>%\n",
    "                            summarize(Vaccine_completeness_pct = mean(Series_Complete_Pop_Pct))\n",
    "\n",
    "Vaccine$FIPS <- as.double(Vaccine$FIPS)\n",
    "Vaccine$Vaccine_completeness_pct <- Vaccine$Vaccine_completeness_pct / 100\n",
    "\n",
    "\n",
    "head(Vaccine)\n",
    "\n",
    "mydata <- Vaccine[complete.cases(Vaccine), ]\n",
    "\n",
    "write.csv(mydata, 'Data/Clustering/Vaccination.csv', fileEncoding=\"UTF-8\")"
   ]
  },
  {
   "cell_type": "code",
   "execution_count": 143,
   "id": "37545ddd",
   "metadata": {},
   "outputs": [
    {
     "data": {
      "text/html": [
       "<table>\n",
       "<thead><tr><th scope=col>FIPS</th><th scope=col>Cluster = 5</th><th scope=col>Cluster = 4</th><th scope=col>Cluster = 3</th><th scope=col>Cluster = 2</th></tr></thead>\n",
       "<tbody>\n",
       "\t<tr><td>1001</td><td>5   </td><td>4   </td><td>1   </td><td>1   </td></tr>\n",
       "\t<tr><td>1003</td><td>5   </td><td>4   </td><td>3   </td><td>1   </td></tr>\n",
       "\t<tr><td>1005</td><td>5   </td><td>4   </td><td>1   </td><td>1   </td></tr>\n",
       "\t<tr><td>1007</td><td>5   </td><td>4   </td><td>1   </td><td>1   </td></tr>\n",
       "\t<tr><td>1009</td><td>5   </td><td>1   </td><td>1   </td><td>1   </td></tr>\n",
       "\t<tr><td>1011</td><td>5   </td><td>4   </td><td>3   </td><td>1   </td></tr>\n",
       "</tbody>\n",
       "</table>\n"
      ],
      "text/latex": [
       "\\begin{tabular}{r|lllll}\n",
       " FIPS & Cluster = 5 & Cluster = 4 & Cluster = 3 & Cluster = 2\\\\\n",
       "\\hline\n",
       "\t 1001 & 5    & 4    & 1    & 1   \\\\\n",
       "\t 1003 & 5    & 4    & 3    & 1   \\\\\n",
       "\t 1005 & 5    & 4    & 1    & 1   \\\\\n",
       "\t 1007 & 5    & 4    & 1    & 1   \\\\\n",
       "\t 1009 & 5    & 1    & 1    & 1   \\\\\n",
       "\t 1011 & 5    & 4    & 3    & 1   \\\\\n",
       "\\end{tabular}\n"
      ],
      "text/markdown": [
       "\n",
       "| FIPS | Cluster = 5 | Cluster = 4 | Cluster = 3 | Cluster = 2 |\n",
       "|---|---|---|---|---|\n",
       "| 1001 | 5    | 4    | 1    | 1    |\n",
       "| 1003 | 5    | 4    | 3    | 1    |\n",
       "| 1005 | 5    | 4    | 1    | 1    |\n",
       "| 1007 | 5    | 4    | 1    | 1    |\n",
       "| 1009 | 5    | 1    | 1    | 1    |\n",
       "| 1011 | 5    | 4    | 3    | 1    |\n",
       "\n"
      ],
      "text/plain": [
       "  FIPS Cluster = 5 Cluster = 4 Cluster = 3 Cluster = 2\n",
       "1 1001 5           4           1           1          \n",
       "2 1003 5           4           3           1          \n",
       "3 1005 5           4           1           1          \n",
       "4 1007 5           4           1           1          \n",
       "5 1009 5           1           1           1          \n",
       "6 1011 5           4           3           1          "
      ]
     },
     "metadata": {},
     "output_type": "display_data"
    }
   ],
   "source": [
    "test <- data.frame(matrix(nrow = nrow(mydata), ncol = 5))\n",
    "\n",
    "model <- kmeans(mydata$Vaccine_completeness_pct, 5)\n",
    "test[, c(1)] <- mydata$FIPS\n",
    "test[, c(2)] <- model$cluster\n",
    "\n",
    "\n",
    "model <- kmeans(mydata$Vaccine_completeness_pct, 4)\n",
    "test[, c(1)] <- mydata$FIPS\n",
    "test[, c(3)] <- model$cluster\n",
    "\n",
    "\n",
    "model <- kmeans(mydata$Vaccine_completeness_pct, 3)\n",
    "test[, c(1)] <- mydata$FIPS\n",
    "test[, c(4)] <- model$cluster\n",
    "\n",
    "\n",
    "model <- kmeans(mydata$Vaccine_completeness_pct, 2)\n",
    "test[, c(1)] <- mydata$FIPS\n",
    "test[, c(5)] <- model$cluster\n",
    "\n",
    "colnames(test) <- c(\"FIPS\", \"Cluster = 5\", \"Cluster = 4\", \"Cluster = 3\", \"Cluster = 2\")\n",
    "\n",
    "head(test)\n",
    "write.csv(test, 'Data/Clustering/Vaccination.csv', fileEncoding=\"UTF-8\")"
   ]
  },
  {
   "cell_type": "code",
   "execution_count": null,
   "id": "667475b0",
   "metadata": {},
   "outputs": [],
   "source": []
  },
  {
   "cell_type": "code",
   "execution_count": null,
   "id": "3f3aac34",
   "metadata": {},
   "outputs": [],
   "source": []
  },
  {
   "cell_type": "code",
   "execution_count": null,
   "id": "42bbc944",
   "metadata": {},
   "outputs": [],
   "source": []
  },
  {
   "cell_type": "code",
   "execution_count": null,
   "id": "1cdbfe88",
   "metadata": {},
   "outputs": [],
   "source": []
  },
  {
   "cell_type": "code",
   "execution_count": null,
   "id": "a6a4ea41",
   "metadata": {},
   "outputs": [],
   "source": []
  }
 ],
 "metadata": {
  "kernelspec": {
   "display_name": "R",
   "language": "R",
   "name": "ir"
  },
  "language_info": {
   "codemirror_mode": "r",
   "file_extension": ".r",
   "mimetype": "text/x-r-source",
   "name": "R",
   "pygments_lexer": "r",
   "version": "3.6.1"
  }
 },
 "nbformat": 4,
 "nbformat_minor": 5
}
